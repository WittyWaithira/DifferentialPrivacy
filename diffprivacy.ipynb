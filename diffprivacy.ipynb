{
  "nbformat": 4,
  "nbformat_minor": 0,
  "metadata": {
    "colab": {
      "name": "diffprivacy.ipynb",
      "version": "0.3.2",
      "provenance": [],
      "collapsed_sections": [],
      "include_colab_link": true
    },
    "kernelspec": {
      "name": "python3",
      "display_name": "Python 3"
    }
  },
  "cells": [
    {
      "cell_type": "markdown",
      "metadata": {
        "id": "view-in-github",
        "colab_type": "text"
      },
      "source": [
        "<a href=\"https://colab.research.google.com/github/WittyWaithira/DifferentialPrivacy/blob/LDP/diffprivacy.ipynb\" target=\"_parent\"><img src=\"https://colab.research.google.com/assets/colab-badge.svg\" alt=\"Open In Colab\"/></a>"
      ]
    },
    {
      "cell_type": "code",
      "metadata": {
        "id": "CrErUFUCsx25",
        "colab_type": "code",
        "colab": {
          "base_uri": "https://localhost:8080/",
          "height": 35
        },
        "outputId": "3edbc0c8-20b6-4f64-8c8f-7f380a723a49"
      },
      "source": [
        "import torch\n",
        "\n",
        "# the number of entries in our database\n",
        "num_entries = 5000\n",
        "\n",
        "db = torch.rand(num_entries)> 0.5\n",
        "db"
      ],
      "execution_count": 4,
      "outputs": [
        {
          "output_type": "execute_result",
          "data": {
            "text/plain": [
              "tensor([1, 0, 1,  ..., 0, 1, 1], dtype=torch.uint8)"
            ]
          },
          "metadata": {
            "tags": []
          },
          "execution_count": 4
        }
      ]
    },
    {
      "cell_type": "code",
      "metadata": {
        "id": "xYql6uEQtlmt",
        "colab_type": "code",
        "colab": {
          "base_uri": "https://localhost:8080/",
          "height": 35
        },
        "outputId": "39d991ed-e78a-45d1-a0f9-34891bf91097"
      },
      "source": [
        "db = torch.rand(num_entries)> 0.5\n",
        "db"
      ],
      "execution_count": 6,
      "outputs": [
        {
          "output_type": "execute_result",
          "data": {
            "text/plain": [
              "tensor([0, 0, 0,  ..., 1, 1, 0], dtype=torch.uint8)"
            ]
          },
          "metadata": {
            "tags": []
          },
          "execution_count": 6
        }
      ]
    },
    {
      "cell_type": "code",
      "metadata": {
        "id": "_5QXHim6tmLI",
        "colab_type": "code",
        "colab": {
          "base_uri": "https://localhost:8080/",
          "height": 35
        },
        "outputId": "204f395f-804e-467c-8c09-7df90b5e8bfc"
      },
      "source": [
        "db.shape"
      ],
      "execution_count": 7,
      "outputs": [
        {
          "output_type": "execute_result",
          "data": {
            "text/plain": [
              "torch.Size([5000])"
            ]
          },
          "metadata": {
            "tags": []
          },
          "execution_count": 7
        }
      ]
    },
    {
      "cell_type": "code",
      "metadata": {
        "id": "2QT6iOZjt2ge",
        "colab_type": "code",
        "colab": {
          "base_uri": "https://localhost:8080/",
          "height": 35
        },
        "outputId": "c18adf3b-f98d-4656-edce-b661e439fb64"
      },
      "source": [
        "db[0:5]"
      ],
      "execution_count": 8,
      "outputs": [
        {
          "output_type": "execute_result",
          "data": {
            "text/plain": [
              "tensor([0, 0, 0, 0, 1], dtype=torch.uint8)"
            ]
          },
          "metadata": {
            "tags": []
          },
          "execution_count": 8
        }
      ]
    },
    {
      "cell_type": "code",
      "metadata": {
        "id": "YBSbUCNMt2s1",
        "colab_type": "code",
        "colab": {}
      },
      "source": [
        "remove_index = 2"
      ],
      "execution_count": 0,
      "outputs": []
    },
    {
      "cell_type": "code",
      "metadata": {
        "id": "7BXsEQL_uR53",
        "colab_type": "code",
        "colab": {}
      },
      "source": [
        "def get_parallel_db(db,remove_index):\n",
        "  return torch.cat((db[0:remove_index],\n",
        "                    db[remove_index+1:]))"
      ],
      "execution_count": 0,
      "outputs": []
    },
    {
      "cell_type": "code",
      "metadata": {
        "id": "qYNktBNwuSEa",
        "colab_type": "code",
        "colab": {
          "base_uri": "https://localhost:8080/",
          "height": 35
        },
        "outputId": "ac559249-d1ef-402e-a364-b2a58c4cd99e"
      },
      "source": [
        "get_parallel_db(db,0)"
      ],
      "execution_count": 11,
      "outputs": [
        {
          "output_type": "execute_result",
          "data": {
            "text/plain": [
              "tensor([0, 0, 0,  ..., 1, 1, 0], dtype=torch.uint8)"
            ]
          },
          "metadata": {
            "tags": []
          },
          "execution_count": 11
        }
      ]
    },
    {
      "cell_type": "code",
      "metadata": {
        "id": "bbDCgdecuW8J",
        "colab_type": "code",
        "colab": {}
      },
      "source": [
        "def get_parallel_dbs(db):\n",
        "  parallel_dbs = list()\n",
        "  \n",
        "  for i in range(len(db)):\n",
        "    pdb = get_parallel_db(db,i)\n",
        "    parallel_dbs.append(pdb)\n",
        "    \n",
        "  return parallel_dbs\n",
        "  \n",
        "  "
      ],
      "execution_count": 0,
      "outputs": []
    },
    {
      "cell_type": "code",
      "metadata": {
        "id": "eQgdXOzPxG6-",
        "colab_type": "code",
        "colab": {}
      },
      "source": [
        "pdbs = get_parallel_dbs(db)"
      ],
      "execution_count": 0,
      "outputs": []
    },
    {
      "cell_type": "code",
      "metadata": {
        "id": "S1_oqT3yudPp",
        "colab_type": "code",
        "colab": {
          "base_uri": "https://localhost:8080/",
          "height": 1000
        },
        "outputId": "0782a99d-5191-4567-8657-1d25fb9f9e71"
      },
      "source": [
        "pdbs"
      ],
      "execution_count": 14,
      "outputs": [
        {
          "output_type": "execute_result",
          "data": {
            "text/plain": [
              "[tensor([0, 0, 0,  ..., 1, 1, 0], dtype=torch.uint8),\n",
              " tensor([0, 0, 0,  ..., 1, 1, 0], dtype=torch.uint8),\n",
              " tensor([0, 0, 0,  ..., 1, 1, 0], dtype=torch.uint8),\n",
              " tensor([0, 0, 0,  ..., 1, 1, 0], dtype=torch.uint8),\n",
              " tensor([0, 0, 0,  ..., 1, 1, 0], dtype=torch.uint8),\n",
              " tensor([0, 0, 0,  ..., 1, 1, 0], dtype=torch.uint8),\n",
              " tensor([0, 0, 0,  ..., 1, 1, 0], dtype=torch.uint8),\n",
              " tensor([0, 0, 0,  ..., 1, 1, 0], dtype=torch.uint8),\n",
              " tensor([0, 0, 0,  ..., 1, 1, 0], dtype=torch.uint8),\n",
              " tensor([0, 0, 0,  ..., 1, 1, 0], dtype=torch.uint8),\n",
              " tensor([0, 0, 0,  ..., 1, 1, 0], dtype=torch.uint8),\n",
              " tensor([0, 0, 0,  ..., 1, 1, 0], dtype=torch.uint8),\n",
              " tensor([0, 0, 0,  ..., 1, 1, 0], dtype=torch.uint8),\n",
              " tensor([0, 0, 0,  ..., 1, 1, 0], dtype=torch.uint8),\n",
              " tensor([0, 0, 0,  ..., 1, 1, 0], dtype=torch.uint8),\n",
              " tensor([0, 0, 0,  ..., 1, 1, 0], dtype=torch.uint8),\n",
              " tensor([0, 0, 0,  ..., 1, 1, 0], dtype=torch.uint8),\n",
              " tensor([0, 0, 0,  ..., 1, 1, 0], dtype=torch.uint8),\n",
              " tensor([0, 0, 0,  ..., 1, 1, 0], dtype=torch.uint8),\n",
              " tensor([0, 0, 0,  ..., 1, 1, 0], dtype=torch.uint8),\n",
              " tensor([0, 0, 0,  ..., 1, 1, 0], dtype=torch.uint8),\n",
              " tensor([0, 0, 0,  ..., 1, 1, 0], dtype=torch.uint8),\n",
              " tensor([0, 0, 0,  ..., 1, 1, 0], dtype=torch.uint8),\n",
              " tensor([0, 0, 0,  ..., 1, 1, 0], dtype=torch.uint8),\n",
              " tensor([0, 0, 0,  ..., 1, 1, 0], dtype=torch.uint8),\n",
              " tensor([0, 0, 0,  ..., 1, 1, 0], dtype=torch.uint8),\n",
              " tensor([0, 0, 0,  ..., 1, 1, 0], dtype=torch.uint8),\n",
              " tensor([0, 0, 0,  ..., 1, 1, 0], dtype=torch.uint8),\n",
              " tensor([0, 0, 0,  ..., 1, 1, 0], dtype=torch.uint8),\n",
              " tensor([0, 0, 0,  ..., 1, 1, 0], dtype=torch.uint8),\n",
              " tensor([0, 0, 0,  ..., 1, 1, 0], dtype=torch.uint8),\n",
              " tensor([0, 0, 0,  ..., 1, 1, 0], dtype=torch.uint8),\n",
              " tensor([0, 0, 0,  ..., 1, 1, 0], dtype=torch.uint8),\n",
              " tensor([0, 0, 0,  ..., 1, 1, 0], dtype=torch.uint8),\n",
              " tensor([0, 0, 0,  ..., 1, 1, 0], dtype=torch.uint8),\n",
              " tensor([0, 0, 0,  ..., 1, 1, 0], dtype=torch.uint8),\n",
              " tensor([0, 0, 0,  ..., 1, 1, 0], dtype=torch.uint8),\n",
              " tensor([0, 0, 0,  ..., 1, 1, 0], dtype=torch.uint8),\n",
              " tensor([0, 0, 0,  ..., 1, 1, 0], dtype=torch.uint8),\n",
              " tensor([0, 0, 0,  ..., 1, 1, 0], dtype=torch.uint8),\n",
              " tensor([0, 0, 0,  ..., 1, 1, 0], dtype=torch.uint8),\n",
              " tensor([0, 0, 0,  ..., 1, 1, 0], dtype=torch.uint8),\n",
              " tensor([0, 0, 0,  ..., 1, 1, 0], dtype=torch.uint8),\n",
              " tensor([0, 0, 0,  ..., 1, 1, 0], dtype=torch.uint8),\n",
              " tensor([0, 0, 0,  ..., 1, 1, 0], dtype=torch.uint8),\n",
              " tensor([0, 0, 0,  ..., 1, 1, 0], dtype=torch.uint8),\n",
              " tensor([0, 0, 0,  ..., 1, 1, 0], dtype=torch.uint8),\n",
              " tensor([0, 0, 0,  ..., 1, 1, 0], dtype=torch.uint8),\n",
              " tensor([0, 0, 0,  ..., 1, 1, 0], dtype=torch.uint8),\n",
              " tensor([0, 0, 0,  ..., 1, 1, 0], dtype=torch.uint8),\n",
              " tensor([0, 0, 0,  ..., 1, 1, 0], dtype=torch.uint8),\n",
              " tensor([0, 0, 0,  ..., 1, 1, 0], dtype=torch.uint8),\n",
              " tensor([0, 0, 0,  ..., 1, 1, 0], dtype=torch.uint8),\n",
              " tensor([0, 0, 0,  ..., 1, 1, 0], dtype=torch.uint8),\n",
              " tensor([0, 0, 0,  ..., 1, 1, 0], dtype=torch.uint8),\n",
              " tensor([0, 0, 0,  ..., 1, 1, 0], dtype=torch.uint8),\n",
              " tensor([0, 0, 0,  ..., 1, 1, 0], dtype=torch.uint8),\n",
              " tensor([0, 0, 0,  ..., 1, 1, 0], dtype=torch.uint8),\n",
              " tensor([0, 0, 0,  ..., 1, 1, 0], dtype=torch.uint8),\n",
              " tensor([0, 0, 0,  ..., 1, 1, 0], dtype=torch.uint8),\n",
              " tensor([0, 0, 0,  ..., 1, 1, 0], dtype=torch.uint8),\n",
              " tensor([0, 0, 0,  ..., 1, 1, 0], dtype=torch.uint8),\n",
              " tensor([0, 0, 0,  ..., 1, 1, 0], dtype=torch.uint8),\n",
              " tensor([0, 0, 0,  ..., 1, 1, 0], dtype=torch.uint8),\n",
              " tensor([0, 0, 0,  ..., 1, 1, 0], dtype=torch.uint8),\n",
              " tensor([0, 0, 0,  ..., 1, 1, 0], dtype=torch.uint8),\n",
              " tensor([0, 0, 0,  ..., 1, 1, 0], dtype=torch.uint8),\n",
              " tensor([0, 0, 0,  ..., 1, 1, 0], dtype=torch.uint8),\n",
              " tensor([0, 0, 0,  ..., 1, 1, 0], dtype=torch.uint8),\n",
              " tensor([0, 0, 0,  ..., 1, 1, 0], dtype=torch.uint8),\n",
              " tensor([0, 0, 0,  ..., 1, 1, 0], dtype=torch.uint8),\n",
              " tensor([0, 0, 0,  ..., 1, 1, 0], dtype=torch.uint8),\n",
              " tensor([0, 0, 0,  ..., 1, 1, 0], dtype=torch.uint8),\n",
              " tensor([0, 0, 0,  ..., 1, 1, 0], dtype=torch.uint8),\n",
              " tensor([0, 0, 0,  ..., 1, 1, 0], dtype=torch.uint8),\n",
              " tensor([0, 0, 0,  ..., 1, 1, 0], dtype=torch.uint8),\n",
              " tensor([0, 0, 0,  ..., 1, 1, 0], dtype=torch.uint8),\n",
              " tensor([0, 0, 0,  ..., 1, 1, 0], dtype=torch.uint8),\n",
              " tensor([0, 0, 0,  ..., 1, 1, 0], dtype=torch.uint8),\n",
              " tensor([0, 0, 0,  ..., 1, 1, 0], dtype=torch.uint8),\n",
              " tensor([0, 0, 0,  ..., 1, 1, 0], dtype=torch.uint8),\n",
              " tensor([0, 0, 0,  ..., 1, 1, 0], dtype=torch.uint8),\n",
              " tensor([0, 0, 0,  ..., 1, 1, 0], dtype=torch.uint8),\n",
              " tensor([0, 0, 0,  ..., 1, 1, 0], dtype=torch.uint8),\n",
              " tensor([0, 0, 0,  ..., 1, 1, 0], dtype=torch.uint8),\n",
              " tensor([0, 0, 0,  ..., 1, 1, 0], dtype=torch.uint8),\n",
              " tensor([0, 0, 0,  ..., 1, 1, 0], dtype=torch.uint8),\n",
              " tensor([0, 0, 0,  ..., 1, 1, 0], dtype=torch.uint8),\n",
              " tensor([0, 0, 0,  ..., 1, 1, 0], dtype=torch.uint8),\n",
              " tensor([0, 0, 0,  ..., 1, 1, 0], dtype=torch.uint8),\n",
              " tensor([0, 0, 0,  ..., 1, 1, 0], dtype=torch.uint8),\n",
              " tensor([0, 0, 0,  ..., 1, 1, 0], dtype=torch.uint8),\n",
              " tensor([0, 0, 0,  ..., 1, 1, 0], dtype=torch.uint8),\n",
              " tensor([0, 0, 0,  ..., 1, 1, 0], dtype=torch.uint8),\n",
              " tensor([0, 0, 0,  ..., 1, 1, 0], dtype=torch.uint8),\n",
              " tensor([0, 0, 0,  ..., 1, 1, 0], dtype=torch.uint8),\n",
              " tensor([0, 0, 0,  ..., 1, 1, 0], dtype=torch.uint8),\n",
              " tensor([0, 0, 0,  ..., 1, 1, 0], dtype=torch.uint8),\n",
              " tensor([0, 0, 0,  ..., 1, 1, 0], dtype=torch.uint8),\n",
              " tensor([0, 0, 0,  ..., 1, 1, 0], dtype=torch.uint8),\n",
              " tensor([0, 0, 0,  ..., 1, 1, 0], dtype=torch.uint8),\n",
              " tensor([0, 0, 0,  ..., 1, 1, 0], dtype=torch.uint8),\n",
              " tensor([0, 0, 0,  ..., 1, 1, 0], dtype=torch.uint8),\n",
              " tensor([0, 0, 0,  ..., 1, 1, 0], dtype=torch.uint8),\n",
              " tensor([0, 0, 0,  ..., 1, 1, 0], dtype=torch.uint8),\n",
              " tensor([0, 0, 0,  ..., 1, 1, 0], dtype=torch.uint8),\n",
              " tensor([0, 0, 0,  ..., 1, 1, 0], dtype=torch.uint8),\n",
              " tensor([0, 0, 0,  ..., 1, 1, 0], dtype=torch.uint8),\n",
              " tensor([0, 0, 0,  ..., 1, 1, 0], dtype=torch.uint8),\n",
              " tensor([0, 0, 0,  ..., 1, 1, 0], dtype=torch.uint8),\n",
              " tensor([0, 0, 0,  ..., 1, 1, 0], dtype=torch.uint8),\n",
              " tensor([0, 0, 0,  ..., 1, 1, 0], dtype=torch.uint8),\n",
              " tensor([0, 0, 0,  ..., 1, 1, 0], dtype=torch.uint8),\n",
              " tensor([0, 0, 0,  ..., 1, 1, 0], dtype=torch.uint8),\n",
              " tensor([0, 0, 0,  ..., 1, 1, 0], dtype=torch.uint8),\n",
              " tensor([0, 0, 0,  ..., 1, 1, 0], dtype=torch.uint8),\n",
              " tensor([0, 0, 0,  ..., 1, 1, 0], dtype=torch.uint8),\n",
              " tensor([0, 0, 0,  ..., 1, 1, 0], dtype=torch.uint8),\n",
              " tensor([0, 0, 0,  ..., 1, 1, 0], dtype=torch.uint8),\n",
              " tensor([0, 0, 0,  ..., 1, 1, 0], dtype=torch.uint8),\n",
              " tensor([0, 0, 0,  ..., 1, 1, 0], dtype=torch.uint8),\n",
              " tensor([0, 0, 0,  ..., 1, 1, 0], dtype=torch.uint8),\n",
              " tensor([0, 0, 0,  ..., 1, 1, 0], dtype=torch.uint8),\n",
              " tensor([0, 0, 0,  ..., 1, 1, 0], dtype=torch.uint8),\n",
              " tensor([0, 0, 0,  ..., 1, 1, 0], dtype=torch.uint8),\n",
              " tensor([0, 0, 0,  ..., 1, 1, 0], dtype=torch.uint8),\n",
              " tensor([0, 0, 0,  ..., 1, 1, 0], dtype=torch.uint8),\n",
              " tensor([0, 0, 0,  ..., 1, 1, 0], dtype=torch.uint8),\n",
              " tensor([0, 0, 0,  ..., 1, 1, 0], dtype=torch.uint8),\n",
              " tensor([0, 0, 0,  ..., 1, 1, 0], dtype=torch.uint8),\n",
              " tensor([0, 0, 0,  ..., 1, 1, 0], dtype=torch.uint8),\n",
              " tensor([0, 0, 0,  ..., 1, 1, 0], dtype=torch.uint8),\n",
              " tensor([0, 0, 0,  ..., 1, 1, 0], dtype=torch.uint8),\n",
              " tensor([0, 0, 0,  ..., 1, 1, 0], dtype=torch.uint8),\n",
              " tensor([0, 0, 0,  ..., 1, 1, 0], dtype=torch.uint8),\n",
              " tensor([0, 0, 0,  ..., 1, 1, 0], dtype=torch.uint8),\n",
              " tensor([0, 0, 0,  ..., 1, 1, 0], dtype=torch.uint8),\n",
              " tensor([0, 0, 0,  ..., 1, 1, 0], dtype=torch.uint8),\n",
              " tensor([0, 0, 0,  ..., 1, 1, 0], dtype=torch.uint8),\n",
              " tensor([0, 0, 0,  ..., 1, 1, 0], dtype=torch.uint8),\n",
              " tensor([0, 0, 0,  ..., 1, 1, 0], dtype=torch.uint8),\n",
              " tensor([0, 0, 0,  ..., 1, 1, 0], dtype=torch.uint8),\n",
              " tensor([0, 0, 0,  ..., 1, 1, 0], dtype=torch.uint8),\n",
              " tensor([0, 0, 0,  ..., 1, 1, 0], dtype=torch.uint8),\n",
              " tensor([0, 0, 0,  ..., 1, 1, 0], dtype=torch.uint8),\n",
              " tensor([0, 0, 0,  ..., 1, 1, 0], dtype=torch.uint8),\n",
              " tensor([0, 0, 0,  ..., 1, 1, 0], dtype=torch.uint8),\n",
              " tensor([0, 0, 0,  ..., 1, 1, 0], dtype=torch.uint8),\n",
              " tensor([0, 0, 0,  ..., 1, 1, 0], dtype=torch.uint8),\n",
              " tensor([0, 0, 0,  ..., 1, 1, 0], dtype=torch.uint8),\n",
              " tensor([0, 0, 0,  ..., 1, 1, 0], dtype=torch.uint8),\n",
              " tensor([0, 0, 0,  ..., 1, 1, 0], dtype=torch.uint8),\n",
              " tensor([0, 0, 0,  ..., 1, 1, 0], dtype=torch.uint8),\n",
              " tensor([0, 0, 0,  ..., 1, 1, 0], dtype=torch.uint8),\n",
              " tensor([0, 0, 0,  ..., 1, 1, 0], dtype=torch.uint8),\n",
              " tensor([0, 0, 0,  ..., 1, 1, 0], dtype=torch.uint8),\n",
              " tensor([0, 0, 0,  ..., 1, 1, 0], dtype=torch.uint8),\n",
              " tensor([0, 0, 0,  ..., 1, 1, 0], dtype=torch.uint8),\n",
              " tensor([0, 0, 0,  ..., 1, 1, 0], dtype=torch.uint8),\n",
              " tensor([0, 0, 0,  ..., 1, 1, 0], dtype=torch.uint8),\n",
              " tensor([0, 0, 0,  ..., 1, 1, 0], dtype=torch.uint8),\n",
              " tensor([0, 0, 0,  ..., 1, 1, 0], dtype=torch.uint8),\n",
              " tensor([0, 0, 0,  ..., 1, 1, 0], dtype=torch.uint8),\n",
              " tensor([0, 0, 0,  ..., 1, 1, 0], dtype=torch.uint8),\n",
              " tensor([0, 0, 0,  ..., 1, 1, 0], dtype=torch.uint8),\n",
              " tensor([0, 0, 0,  ..., 1, 1, 0], dtype=torch.uint8),\n",
              " tensor([0, 0, 0,  ..., 1, 1, 0], dtype=torch.uint8),\n",
              " tensor([0, 0, 0,  ..., 1, 1, 0], dtype=torch.uint8),\n",
              " tensor([0, 0, 0,  ..., 1, 1, 0], dtype=torch.uint8),\n",
              " tensor([0, 0, 0,  ..., 1, 1, 0], dtype=torch.uint8),\n",
              " tensor([0, 0, 0,  ..., 1, 1, 0], dtype=torch.uint8),\n",
              " tensor([0, 0, 0,  ..., 1, 1, 0], dtype=torch.uint8),\n",
              " tensor([0, 0, 0,  ..., 1, 1, 0], dtype=torch.uint8),\n",
              " tensor([0, 0, 0,  ..., 1, 1, 0], dtype=torch.uint8),\n",
              " tensor([0, 0, 0,  ..., 1, 1, 0], dtype=torch.uint8),\n",
              " tensor([0, 0, 0,  ..., 1, 1, 0], dtype=torch.uint8),\n",
              " tensor([0, 0, 0,  ..., 1, 1, 0], dtype=torch.uint8),\n",
              " tensor([0, 0, 0,  ..., 1, 1, 0], dtype=torch.uint8),\n",
              " tensor([0, 0, 0,  ..., 1, 1, 0], dtype=torch.uint8),\n",
              " tensor([0, 0, 0,  ..., 1, 1, 0], dtype=torch.uint8),\n",
              " tensor([0, 0, 0,  ..., 1, 1, 0], dtype=torch.uint8),\n",
              " tensor([0, 0, 0,  ..., 1, 1, 0], dtype=torch.uint8),\n",
              " tensor([0, 0, 0,  ..., 1, 1, 0], dtype=torch.uint8),\n",
              " tensor([0, 0, 0,  ..., 1, 1, 0], dtype=torch.uint8),\n",
              " tensor([0, 0, 0,  ..., 1, 1, 0], dtype=torch.uint8),\n",
              " tensor([0, 0, 0,  ..., 1, 1, 0], dtype=torch.uint8),\n",
              " tensor([0, 0, 0,  ..., 1, 1, 0], dtype=torch.uint8),\n",
              " tensor([0, 0, 0,  ..., 1, 1, 0], dtype=torch.uint8),\n",
              " tensor([0, 0, 0,  ..., 1, 1, 0], dtype=torch.uint8),\n",
              " tensor([0, 0, 0,  ..., 1, 1, 0], dtype=torch.uint8),\n",
              " tensor([0, 0, 0,  ..., 1, 1, 0], dtype=torch.uint8),\n",
              " tensor([0, 0, 0,  ..., 1, 1, 0], dtype=torch.uint8),\n",
              " tensor([0, 0, 0,  ..., 1, 1, 0], dtype=torch.uint8),\n",
              " tensor([0, 0, 0,  ..., 1, 1, 0], dtype=torch.uint8),\n",
              " tensor([0, 0, 0,  ..., 1, 1, 0], dtype=torch.uint8),\n",
              " tensor([0, 0, 0,  ..., 1, 1, 0], dtype=torch.uint8),\n",
              " tensor([0, 0, 0,  ..., 1, 1, 0], dtype=torch.uint8),\n",
              " tensor([0, 0, 0,  ..., 1, 1, 0], dtype=torch.uint8),\n",
              " tensor([0, 0, 0,  ..., 1, 1, 0], dtype=torch.uint8),\n",
              " tensor([0, 0, 0,  ..., 1, 1, 0], dtype=torch.uint8),\n",
              " tensor([0, 0, 0,  ..., 1, 1, 0], dtype=torch.uint8),\n",
              " tensor([0, 0, 0,  ..., 1, 1, 0], dtype=torch.uint8),\n",
              " tensor([0, 0, 0,  ..., 1, 1, 0], dtype=torch.uint8),\n",
              " tensor([0, 0, 0,  ..., 1, 1, 0], dtype=torch.uint8),\n",
              " tensor([0, 0, 0,  ..., 1, 1, 0], dtype=torch.uint8),\n",
              " tensor([0, 0, 0,  ..., 1, 1, 0], dtype=torch.uint8),\n",
              " tensor([0, 0, 0,  ..., 1, 1, 0], dtype=torch.uint8),\n",
              " tensor([0, 0, 0,  ..., 1, 1, 0], dtype=torch.uint8),\n",
              " tensor([0, 0, 0,  ..., 1, 1, 0], dtype=torch.uint8),\n",
              " tensor([0, 0, 0,  ..., 1, 1, 0], dtype=torch.uint8),\n",
              " tensor([0, 0, 0,  ..., 1, 1, 0], dtype=torch.uint8),\n",
              " tensor([0, 0, 0,  ..., 1, 1, 0], dtype=torch.uint8),\n",
              " tensor([0, 0, 0,  ..., 1, 1, 0], dtype=torch.uint8),\n",
              " tensor([0, 0, 0,  ..., 1, 1, 0], dtype=torch.uint8),\n",
              " tensor([0, 0, 0,  ..., 1, 1, 0], dtype=torch.uint8),\n",
              " tensor([0, 0, 0,  ..., 1, 1, 0], dtype=torch.uint8),\n",
              " tensor([0, 0, 0,  ..., 1, 1, 0], dtype=torch.uint8),\n",
              " tensor([0, 0, 0,  ..., 1, 1, 0], dtype=torch.uint8),\n",
              " tensor([0, 0, 0,  ..., 1, 1, 0], dtype=torch.uint8),\n",
              " tensor([0, 0, 0,  ..., 1, 1, 0], dtype=torch.uint8),\n",
              " tensor([0, 0, 0,  ..., 1, 1, 0], dtype=torch.uint8),\n",
              " tensor([0, 0, 0,  ..., 1, 1, 0], dtype=torch.uint8),\n",
              " tensor([0, 0, 0,  ..., 1, 1, 0], dtype=torch.uint8),\n",
              " tensor([0, 0, 0,  ..., 1, 1, 0], dtype=torch.uint8),\n",
              " tensor([0, 0, 0,  ..., 1, 1, 0], dtype=torch.uint8),\n",
              " tensor([0, 0, 0,  ..., 1, 1, 0], dtype=torch.uint8),\n",
              " tensor([0, 0, 0,  ..., 1, 1, 0], dtype=torch.uint8),\n",
              " tensor([0, 0, 0,  ..., 1, 1, 0], dtype=torch.uint8),\n",
              " tensor([0, 0, 0,  ..., 1, 1, 0], dtype=torch.uint8),\n",
              " tensor([0, 0, 0,  ..., 1, 1, 0], dtype=torch.uint8),\n",
              " tensor([0, 0, 0,  ..., 1, 1, 0], dtype=torch.uint8),\n",
              " tensor([0, 0, 0,  ..., 1, 1, 0], dtype=torch.uint8),\n",
              " tensor([0, 0, 0,  ..., 1, 1, 0], dtype=torch.uint8),\n",
              " tensor([0, 0, 0,  ..., 1, 1, 0], dtype=torch.uint8),\n",
              " tensor([0, 0, 0,  ..., 1, 1, 0], dtype=torch.uint8),\n",
              " tensor([0, 0, 0,  ..., 1, 1, 0], dtype=torch.uint8),\n",
              " tensor([0, 0, 0,  ..., 1, 1, 0], dtype=torch.uint8),\n",
              " tensor([0, 0, 0,  ..., 1, 1, 0], dtype=torch.uint8),\n",
              " tensor([0, 0, 0,  ..., 1, 1, 0], dtype=torch.uint8),\n",
              " tensor([0, 0, 0,  ..., 1, 1, 0], dtype=torch.uint8),\n",
              " tensor([0, 0, 0,  ..., 1, 1, 0], dtype=torch.uint8),\n",
              " tensor([0, 0, 0,  ..., 1, 1, 0], dtype=torch.uint8),\n",
              " tensor([0, 0, 0,  ..., 1, 1, 0], dtype=torch.uint8),\n",
              " tensor([0, 0, 0,  ..., 1, 1, 0], dtype=torch.uint8),\n",
              " tensor([0, 0, 0,  ..., 1, 1, 0], dtype=torch.uint8),\n",
              " tensor([0, 0, 0,  ..., 1, 1, 0], dtype=torch.uint8),\n",
              " tensor([0, 0, 0,  ..., 1, 1, 0], dtype=torch.uint8),\n",
              " tensor([0, 0, 0,  ..., 1, 1, 0], dtype=torch.uint8),\n",
              " tensor([0, 0, 0,  ..., 1, 1, 0], dtype=torch.uint8),\n",
              " tensor([0, 0, 0,  ..., 1, 1, 0], dtype=torch.uint8),\n",
              " tensor([0, 0, 0,  ..., 1, 1, 0], dtype=torch.uint8),\n",
              " tensor([0, 0, 0,  ..., 1, 1, 0], dtype=torch.uint8),\n",
              " tensor([0, 0, 0,  ..., 1, 1, 0], dtype=torch.uint8),\n",
              " tensor([0, 0, 0,  ..., 1, 1, 0], dtype=torch.uint8),\n",
              " tensor([0, 0, 0,  ..., 1, 1, 0], dtype=torch.uint8),\n",
              " tensor([0, 0, 0,  ..., 1, 1, 0], dtype=torch.uint8),\n",
              " tensor([0, 0, 0,  ..., 1, 1, 0], dtype=torch.uint8),\n",
              " tensor([0, 0, 0,  ..., 1, 1, 0], dtype=torch.uint8),\n",
              " tensor([0, 0, 0,  ..., 1, 1, 0], dtype=torch.uint8),\n",
              " tensor([0, 0, 0,  ..., 1, 1, 0], dtype=torch.uint8),\n",
              " tensor([0, 0, 0,  ..., 1, 1, 0], dtype=torch.uint8),\n",
              " tensor([0, 0, 0,  ..., 1, 1, 0], dtype=torch.uint8),\n",
              " tensor([0, 0, 0,  ..., 1, 1, 0], dtype=torch.uint8),\n",
              " tensor([0, 0, 0,  ..., 1, 1, 0], dtype=torch.uint8),\n",
              " tensor([0, 0, 0,  ..., 1, 1, 0], dtype=torch.uint8),\n",
              " tensor([0, 0, 0,  ..., 1, 1, 0], dtype=torch.uint8),\n",
              " tensor([0, 0, 0,  ..., 1, 1, 0], dtype=torch.uint8),\n",
              " tensor([0, 0, 0,  ..., 1, 1, 0], dtype=torch.uint8),\n",
              " tensor([0, 0, 0,  ..., 1, 1, 0], dtype=torch.uint8),\n",
              " tensor([0, 0, 0,  ..., 1, 1, 0], dtype=torch.uint8),\n",
              " tensor([0, 0, 0,  ..., 1, 1, 0], dtype=torch.uint8),\n",
              " tensor([0, 0, 0,  ..., 1, 1, 0], dtype=torch.uint8),\n",
              " tensor([0, 0, 0,  ..., 1, 1, 0], dtype=torch.uint8),\n",
              " tensor([0, 0, 0,  ..., 1, 1, 0], dtype=torch.uint8),\n",
              " tensor([0, 0, 0,  ..., 1, 1, 0], dtype=torch.uint8),\n",
              " tensor([0, 0, 0,  ..., 1, 1, 0], dtype=torch.uint8),\n",
              " tensor([0, 0, 0,  ..., 1, 1, 0], dtype=torch.uint8),\n",
              " tensor([0, 0, 0,  ..., 1, 1, 0], dtype=torch.uint8),\n",
              " tensor([0, 0, 0,  ..., 1, 1, 0], dtype=torch.uint8),\n",
              " tensor([0, 0, 0,  ..., 1, 1, 0], dtype=torch.uint8),\n",
              " tensor([0, 0, 0,  ..., 1, 1, 0], dtype=torch.uint8),\n",
              " tensor([0, 0, 0,  ..., 1, 1, 0], dtype=torch.uint8),\n",
              " tensor([0, 0, 0,  ..., 1, 1, 0], dtype=torch.uint8),\n",
              " tensor([0, 0, 0,  ..., 1, 1, 0], dtype=torch.uint8),\n",
              " tensor([0, 0, 0,  ..., 1, 1, 0], dtype=torch.uint8),\n",
              " tensor([0, 0, 0,  ..., 1, 1, 0], dtype=torch.uint8),\n",
              " tensor([0, 0, 0,  ..., 1, 1, 0], dtype=torch.uint8),\n",
              " tensor([0, 0, 0,  ..., 1, 1, 0], dtype=torch.uint8),\n",
              " tensor([0, 0, 0,  ..., 1, 1, 0], dtype=torch.uint8),\n",
              " tensor([0, 0, 0,  ..., 1, 1, 0], dtype=torch.uint8),\n",
              " tensor([0, 0, 0,  ..., 1, 1, 0], dtype=torch.uint8),\n",
              " tensor([0, 0, 0,  ..., 1, 1, 0], dtype=torch.uint8),\n",
              " tensor([0, 0, 0,  ..., 1, 1, 0], dtype=torch.uint8),\n",
              " tensor([0, 0, 0,  ..., 1, 1, 0], dtype=torch.uint8),\n",
              " tensor([0, 0, 0,  ..., 1, 1, 0], dtype=torch.uint8),\n",
              " tensor([0, 0, 0,  ..., 1, 1, 0], dtype=torch.uint8),\n",
              " tensor([0, 0, 0,  ..., 1, 1, 0], dtype=torch.uint8),\n",
              " tensor([0, 0, 0,  ..., 1, 1, 0], dtype=torch.uint8),\n",
              " tensor([0, 0, 0,  ..., 1, 1, 0], dtype=torch.uint8),\n",
              " tensor([0, 0, 0,  ..., 1, 1, 0], dtype=torch.uint8),\n",
              " tensor([0, 0, 0,  ..., 1, 1, 0], dtype=torch.uint8),\n",
              " tensor([0, 0, 0,  ..., 1, 1, 0], dtype=torch.uint8),\n",
              " tensor([0, 0, 0,  ..., 1, 1, 0], dtype=torch.uint8),\n",
              " tensor([0, 0, 0,  ..., 1, 1, 0], dtype=torch.uint8),\n",
              " tensor([0, 0, 0,  ..., 1, 1, 0], dtype=torch.uint8),\n",
              " tensor([0, 0, 0,  ..., 1, 1, 0], dtype=torch.uint8),\n",
              " tensor([0, 0, 0,  ..., 1, 1, 0], dtype=torch.uint8),\n",
              " tensor([0, 0, 0,  ..., 1, 1, 0], dtype=torch.uint8),\n",
              " tensor([0, 0, 0,  ..., 1, 1, 0], dtype=torch.uint8),\n",
              " tensor([0, 0, 0,  ..., 1, 1, 0], dtype=torch.uint8),\n",
              " tensor([0, 0, 0,  ..., 1, 1, 0], dtype=torch.uint8),\n",
              " tensor([0, 0, 0,  ..., 1, 1, 0], dtype=torch.uint8),\n",
              " tensor([0, 0, 0,  ..., 1, 1, 0], dtype=torch.uint8),\n",
              " tensor([0, 0, 0,  ..., 1, 1, 0], dtype=torch.uint8),\n",
              " tensor([0, 0, 0,  ..., 1, 1, 0], dtype=torch.uint8),\n",
              " tensor([0, 0, 0,  ..., 1, 1, 0], dtype=torch.uint8),\n",
              " tensor([0, 0, 0,  ..., 1, 1, 0], dtype=torch.uint8),\n",
              " tensor([0, 0, 0,  ..., 1, 1, 0], dtype=torch.uint8),\n",
              " tensor([0, 0, 0,  ..., 1, 1, 0], dtype=torch.uint8),\n",
              " tensor([0, 0, 0,  ..., 1, 1, 0], dtype=torch.uint8),\n",
              " tensor([0, 0, 0,  ..., 1, 1, 0], dtype=torch.uint8),\n",
              " tensor([0, 0, 0,  ..., 1, 1, 0], dtype=torch.uint8),\n",
              " tensor([0, 0, 0,  ..., 1, 1, 0], dtype=torch.uint8),\n",
              " tensor([0, 0, 0,  ..., 1, 1, 0], dtype=torch.uint8),\n",
              " tensor([0, 0, 0,  ..., 1, 1, 0], dtype=torch.uint8),\n",
              " tensor([0, 0, 0,  ..., 1, 1, 0], dtype=torch.uint8),\n",
              " tensor([0, 0, 0,  ..., 1, 1, 0], dtype=torch.uint8),\n",
              " tensor([0, 0, 0,  ..., 1, 1, 0], dtype=torch.uint8),\n",
              " tensor([0, 0, 0,  ..., 1, 1, 0], dtype=torch.uint8),\n",
              " tensor([0, 0, 0,  ..., 1, 1, 0], dtype=torch.uint8),\n",
              " tensor([0, 0, 0,  ..., 1, 1, 0], dtype=torch.uint8),\n",
              " tensor([0, 0, 0,  ..., 1, 1, 0], dtype=torch.uint8),\n",
              " tensor([0, 0, 0,  ..., 1, 1, 0], dtype=torch.uint8),\n",
              " tensor([0, 0, 0,  ..., 1, 1, 0], dtype=torch.uint8),\n",
              " tensor([0, 0, 0,  ..., 1, 1, 0], dtype=torch.uint8),\n",
              " tensor([0, 0, 0,  ..., 1, 1, 0], dtype=torch.uint8),\n",
              " tensor([0, 0, 0,  ..., 1, 1, 0], dtype=torch.uint8),\n",
              " tensor([0, 0, 0,  ..., 1, 1, 0], dtype=torch.uint8),\n",
              " tensor([0, 0, 0,  ..., 1, 1, 0], dtype=torch.uint8),\n",
              " tensor([0, 0, 0,  ..., 1, 1, 0], dtype=torch.uint8),\n",
              " tensor([0, 0, 0,  ..., 1, 1, 0], dtype=torch.uint8),\n",
              " tensor([0, 0, 0,  ..., 1, 1, 0], dtype=torch.uint8),\n",
              " tensor([0, 0, 0,  ..., 1, 1, 0], dtype=torch.uint8),\n",
              " tensor([0, 0, 0,  ..., 1, 1, 0], dtype=torch.uint8),\n",
              " tensor([0, 0, 0,  ..., 1, 1, 0], dtype=torch.uint8),\n",
              " tensor([0, 0, 0,  ..., 1, 1, 0], dtype=torch.uint8),\n",
              " tensor([0, 0, 0,  ..., 1, 1, 0], dtype=torch.uint8),\n",
              " tensor([0, 0, 0,  ..., 1, 1, 0], dtype=torch.uint8),\n",
              " tensor([0, 0, 0,  ..., 1, 1, 0], dtype=torch.uint8),\n",
              " tensor([0, 0, 0,  ..., 1, 1, 0], dtype=torch.uint8),\n",
              " tensor([0, 0, 0,  ..., 1, 1, 0], dtype=torch.uint8),\n",
              " tensor([0, 0, 0,  ..., 1, 1, 0], dtype=torch.uint8),\n",
              " tensor([0, 0, 0,  ..., 1, 1, 0], dtype=torch.uint8),\n",
              " tensor([0, 0, 0,  ..., 1, 1, 0], dtype=torch.uint8),\n",
              " tensor([0, 0, 0,  ..., 1, 1, 0], dtype=torch.uint8),\n",
              " tensor([0, 0, 0,  ..., 1, 1, 0], dtype=torch.uint8),\n",
              " tensor([0, 0, 0,  ..., 1, 1, 0], dtype=torch.uint8),\n",
              " tensor([0, 0, 0,  ..., 1, 1, 0], dtype=torch.uint8),\n",
              " tensor([0, 0, 0,  ..., 1, 1, 0], dtype=torch.uint8),\n",
              " tensor([0, 0, 0,  ..., 1, 1, 0], dtype=torch.uint8),\n",
              " tensor([0, 0, 0,  ..., 1, 1, 0], dtype=torch.uint8),\n",
              " tensor([0, 0, 0,  ..., 1, 1, 0], dtype=torch.uint8),\n",
              " tensor([0, 0, 0,  ..., 1, 1, 0], dtype=torch.uint8),\n",
              " tensor([0, 0, 0,  ..., 1, 1, 0], dtype=torch.uint8),\n",
              " tensor([0, 0, 0,  ..., 1, 1, 0], dtype=torch.uint8),\n",
              " tensor([0, 0, 0,  ..., 1, 1, 0], dtype=torch.uint8),\n",
              " tensor([0, 0, 0,  ..., 1, 1, 0], dtype=torch.uint8),\n",
              " tensor([0, 0, 0,  ..., 1, 1, 0], dtype=torch.uint8),\n",
              " tensor([0, 0, 0,  ..., 1, 1, 0], dtype=torch.uint8),\n",
              " tensor([0, 0, 0,  ..., 1, 1, 0], dtype=torch.uint8),\n",
              " tensor([0, 0, 0,  ..., 1, 1, 0], dtype=torch.uint8),\n",
              " tensor([0, 0, 0,  ..., 1, 1, 0], dtype=torch.uint8),\n",
              " tensor([0, 0, 0,  ..., 1, 1, 0], dtype=torch.uint8),\n",
              " tensor([0, 0, 0,  ..., 1, 1, 0], dtype=torch.uint8),\n",
              " tensor([0, 0, 0,  ..., 1, 1, 0], dtype=torch.uint8),\n",
              " tensor([0, 0, 0,  ..., 1, 1, 0], dtype=torch.uint8),\n",
              " tensor([0, 0, 0,  ..., 1, 1, 0], dtype=torch.uint8),\n",
              " tensor([0, 0, 0,  ..., 1, 1, 0], dtype=torch.uint8),\n",
              " tensor([0, 0, 0,  ..., 1, 1, 0], dtype=torch.uint8),\n",
              " tensor([0, 0, 0,  ..., 1, 1, 0], dtype=torch.uint8),\n",
              " tensor([0, 0, 0,  ..., 1, 1, 0], dtype=torch.uint8),\n",
              " tensor([0, 0, 0,  ..., 1, 1, 0], dtype=torch.uint8),\n",
              " tensor([0, 0, 0,  ..., 1, 1, 0], dtype=torch.uint8),\n",
              " tensor([0, 0, 0,  ..., 1, 1, 0], dtype=torch.uint8),\n",
              " tensor([0, 0, 0,  ..., 1, 1, 0], dtype=torch.uint8),\n",
              " tensor([0, 0, 0,  ..., 1, 1, 0], dtype=torch.uint8),\n",
              " tensor([0, 0, 0,  ..., 1, 1, 0], dtype=torch.uint8),\n",
              " tensor([0, 0, 0,  ..., 1, 1, 0], dtype=torch.uint8),\n",
              " tensor([0, 0, 0,  ..., 1, 1, 0], dtype=torch.uint8),\n",
              " tensor([0, 0, 0,  ..., 1, 1, 0], dtype=torch.uint8),\n",
              " tensor([0, 0, 0,  ..., 1, 1, 0], dtype=torch.uint8),\n",
              " tensor([0, 0, 0,  ..., 1, 1, 0], dtype=torch.uint8),\n",
              " tensor([0, 0, 0,  ..., 1, 1, 0], dtype=torch.uint8),\n",
              " tensor([0, 0, 0,  ..., 1, 1, 0], dtype=torch.uint8),\n",
              " tensor([0, 0, 0,  ..., 1, 1, 0], dtype=torch.uint8),\n",
              " tensor([0, 0, 0,  ..., 1, 1, 0], dtype=torch.uint8),\n",
              " tensor([0, 0, 0,  ..., 1, 1, 0], dtype=torch.uint8),\n",
              " tensor([0, 0, 0,  ..., 1, 1, 0], dtype=torch.uint8),\n",
              " tensor([0, 0, 0,  ..., 1, 1, 0], dtype=torch.uint8),\n",
              " tensor([0, 0, 0,  ..., 1, 1, 0], dtype=torch.uint8),\n",
              " tensor([0, 0, 0,  ..., 1, 1, 0], dtype=torch.uint8),\n",
              " tensor([0, 0, 0,  ..., 1, 1, 0], dtype=torch.uint8),\n",
              " tensor([0, 0, 0,  ..., 1, 1, 0], dtype=torch.uint8),\n",
              " tensor([0, 0, 0,  ..., 1, 1, 0], dtype=torch.uint8),\n",
              " tensor([0, 0, 0,  ..., 1, 1, 0], dtype=torch.uint8),\n",
              " tensor([0, 0, 0,  ..., 1, 1, 0], dtype=torch.uint8),\n",
              " tensor([0, 0, 0,  ..., 1, 1, 0], dtype=torch.uint8),\n",
              " tensor([0, 0, 0,  ..., 1, 1, 0], dtype=torch.uint8),\n",
              " tensor([0, 0, 0,  ..., 1, 1, 0], dtype=torch.uint8),\n",
              " tensor([0, 0, 0,  ..., 1, 1, 0], dtype=torch.uint8),\n",
              " tensor([0, 0, 0,  ..., 1, 1, 0], dtype=torch.uint8),\n",
              " tensor([0, 0, 0,  ..., 1, 1, 0], dtype=torch.uint8),\n",
              " tensor([0, 0, 0,  ..., 1, 1, 0], dtype=torch.uint8),\n",
              " tensor([0, 0, 0,  ..., 1, 1, 0], dtype=torch.uint8),\n",
              " tensor([0, 0, 0,  ..., 1, 1, 0], dtype=torch.uint8),\n",
              " tensor([0, 0, 0,  ..., 1, 1, 0], dtype=torch.uint8),\n",
              " tensor([0, 0, 0,  ..., 1, 1, 0], dtype=torch.uint8),\n",
              " tensor([0, 0, 0,  ..., 1, 1, 0], dtype=torch.uint8),\n",
              " tensor([0, 0, 0,  ..., 1, 1, 0], dtype=torch.uint8),\n",
              " tensor([0, 0, 0,  ..., 1, 1, 0], dtype=torch.uint8),\n",
              " tensor([0, 0, 0,  ..., 1, 1, 0], dtype=torch.uint8),\n",
              " tensor([0, 0, 0,  ..., 1, 1, 0], dtype=torch.uint8),\n",
              " tensor([0, 0, 0,  ..., 1, 1, 0], dtype=torch.uint8),\n",
              " tensor([0, 0, 0,  ..., 1, 1, 0], dtype=torch.uint8),\n",
              " tensor([0, 0, 0,  ..., 1, 1, 0], dtype=torch.uint8),\n",
              " tensor([0, 0, 0,  ..., 1, 1, 0], dtype=torch.uint8),\n",
              " tensor([0, 0, 0,  ..., 1, 1, 0], dtype=torch.uint8),\n",
              " tensor([0, 0, 0,  ..., 1, 1, 0], dtype=torch.uint8),\n",
              " tensor([0, 0, 0,  ..., 1, 1, 0], dtype=torch.uint8),\n",
              " tensor([0, 0, 0,  ..., 1, 1, 0], dtype=torch.uint8),\n",
              " tensor([0, 0, 0,  ..., 1, 1, 0], dtype=torch.uint8),\n",
              " tensor([0, 0, 0,  ..., 1, 1, 0], dtype=torch.uint8),\n",
              " tensor([0, 0, 0,  ..., 1, 1, 0], dtype=torch.uint8),\n",
              " tensor([0, 0, 0,  ..., 1, 1, 0], dtype=torch.uint8),\n",
              " tensor([0, 0, 0,  ..., 1, 1, 0], dtype=torch.uint8),\n",
              " tensor([0, 0, 0,  ..., 1, 1, 0], dtype=torch.uint8),\n",
              " tensor([0, 0, 0,  ..., 1, 1, 0], dtype=torch.uint8),\n",
              " tensor([0, 0, 0,  ..., 1, 1, 0], dtype=torch.uint8),\n",
              " tensor([0, 0, 0,  ..., 1, 1, 0], dtype=torch.uint8),\n",
              " tensor([0, 0, 0,  ..., 1, 1, 0], dtype=torch.uint8),\n",
              " tensor([0, 0, 0,  ..., 1, 1, 0], dtype=torch.uint8),\n",
              " tensor([0, 0, 0,  ..., 1, 1, 0], dtype=torch.uint8),\n",
              " tensor([0, 0, 0,  ..., 1, 1, 0], dtype=torch.uint8),\n",
              " tensor([0, 0, 0,  ..., 1, 1, 0], dtype=torch.uint8),\n",
              " tensor([0, 0, 0,  ..., 1, 1, 0], dtype=torch.uint8),\n",
              " tensor([0, 0, 0,  ..., 1, 1, 0], dtype=torch.uint8),\n",
              " tensor([0, 0, 0,  ..., 1, 1, 0], dtype=torch.uint8),\n",
              " tensor([0, 0, 0,  ..., 1, 1, 0], dtype=torch.uint8),\n",
              " tensor([0, 0, 0,  ..., 1, 1, 0], dtype=torch.uint8),\n",
              " tensor([0, 0, 0,  ..., 1, 1, 0], dtype=torch.uint8),\n",
              " tensor([0, 0, 0,  ..., 1, 1, 0], dtype=torch.uint8),\n",
              " tensor([0, 0, 0,  ..., 1, 1, 0], dtype=torch.uint8),\n",
              " tensor([0, 0, 0,  ..., 1, 1, 0], dtype=torch.uint8),\n",
              " tensor([0, 0, 0,  ..., 1, 1, 0], dtype=torch.uint8),\n",
              " tensor([0, 0, 0,  ..., 1, 1, 0], dtype=torch.uint8),\n",
              " tensor([0, 0, 0,  ..., 1, 1, 0], dtype=torch.uint8),\n",
              " tensor([0, 0, 0,  ..., 1, 1, 0], dtype=torch.uint8),\n",
              " tensor([0, 0, 0,  ..., 1, 1, 0], dtype=torch.uint8),\n",
              " tensor([0, 0, 0,  ..., 1, 1, 0], dtype=torch.uint8),\n",
              " tensor([0, 0, 0,  ..., 1, 1, 0], dtype=torch.uint8),\n",
              " tensor([0, 0, 0,  ..., 1, 1, 0], dtype=torch.uint8),\n",
              " tensor([0, 0, 0,  ..., 1, 1, 0], dtype=torch.uint8),\n",
              " tensor([0, 0, 0,  ..., 1, 1, 0], dtype=torch.uint8),\n",
              " tensor([0, 0, 0,  ..., 1, 1, 0], dtype=torch.uint8),\n",
              " tensor([0, 0, 0,  ..., 1, 1, 0], dtype=torch.uint8),\n",
              " tensor([0, 0, 0,  ..., 1, 1, 0], dtype=torch.uint8),\n",
              " tensor([0, 0, 0,  ..., 1, 1, 0], dtype=torch.uint8),\n",
              " tensor([0, 0, 0,  ..., 1, 1, 0], dtype=torch.uint8),\n",
              " tensor([0, 0, 0,  ..., 1, 1, 0], dtype=torch.uint8),\n",
              " tensor([0, 0, 0,  ..., 1, 1, 0], dtype=torch.uint8),\n",
              " tensor([0, 0, 0,  ..., 1, 1, 0], dtype=torch.uint8),\n",
              " tensor([0, 0, 0,  ..., 1, 1, 0], dtype=torch.uint8),\n",
              " tensor([0, 0, 0,  ..., 1, 1, 0], dtype=torch.uint8),\n",
              " tensor([0, 0, 0,  ..., 1, 1, 0], dtype=torch.uint8),\n",
              " tensor([0, 0, 0,  ..., 1, 1, 0], dtype=torch.uint8),\n",
              " tensor([0, 0, 0,  ..., 1, 1, 0], dtype=torch.uint8),\n",
              " tensor([0, 0, 0,  ..., 1, 1, 0], dtype=torch.uint8),\n",
              " tensor([0, 0, 0,  ..., 1, 1, 0], dtype=torch.uint8),\n",
              " tensor([0, 0, 0,  ..., 1, 1, 0], dtype=torch.uint8),\n",
              " tensor([0, 0, 0,  ..., 1, 1, 0], dtype=torch.uint8),\n",
              " tensor([0, 0, 0,  ..., 1, 1, 0], dtype=torch.uint8),\n",
              " tensor([0, 0, 0,  ..., 1, 1, 0], dtype=torch.uint8),\n",
              " tensor([0, 0, 0,  ..., 1, 1, 0], dtype=torch.uint8),\n",
              " tensor([0, 0, 0,  ..., 1, 1, 0], dtype=torch.uint8),\n",
              " tensor([0, 0, 0,  ..., 1, 1, 0], dtype=torch.uint8),\n",
              " tensor([0, 0, 0,  ..., 1, 1, 0], dtype=torch.uint8),\n",
              " tensor([0, 0, 0,  ..., 1, 1, 0], dtype=torch.uint8),\n",
              " tensor([0, 0, 0,  ..., 1, 1, 0], dtype=torch.uint8),\n",
              " tensor([0, 0, 0,  ..., 1, 1, 0], dtype=torch.uint8),\n",
              " tensor([0, 0, 0,  ..., 1, 1, 0], dtype=torch.uint8),\n",
              " tensor([0, 0, 0,  ..., 1, 1, 0], dtype=torch.uint8),\n",
              " tensor([0, 0, 0,  ..., 1, 1, 0], dtype=torch.uint8),\n",
              " tensor([0, 0, 0,  ..., 1, 1, 0], dtype=torch.uint8),\n",
              " tensor([0, 0, 0,  ..., 1, 1, 0], dtype=torch.uint8),\n",
              " tensor([0, 0, 0,  ..., 1, 1, 0], dtype=torch.uint8),\n",
              " tensor([0, 0, 0,  ..., 1, 1, 0], dtype=torch.uint8),\n",
              " tensor([0, 0, 0,  ..., 1, 1, 0], dtype=torch.uint8),\n",
              " tensor([0, 0, 0,  ..., 1, 1, 0], dtype=torch.uint8),\n",
              " tensor([0, 0, 0,  ..., 1, 1, 0], dtype=torch.uint8),\n",
              " tensor([0, 0, 0,  ..., 1, 1, 0], dtype=torch.uint8),\n",
              " tensor([0, 0, 0,  ..., 1, 1, 0], dtype=torch.uint8),\n",
              " tensor([0, 0, 0,  ..., 1, 1, 0], dtype=torch.uint8),\n",
              " tensor([0, 0, 0,  ..., 1, 1, 0], dtype=torch.uint8),\n",
              " tensor([0, 0, 0,  ..., 1, 1, 0], dtype=torch.uint8),\n",
              " tensor([0, 0, 0,  ..., 1, 1, 0], dtype=torch.uint8),\n",
              " tensor([0, 0, 0,  ..., 1, 1, 0], dtype=torch.uint8),\n",
              " tensor([0, 0, 0,  ..., 1, 1, 0], dtype=torch.uint8),\n",
              " tensor([0, 0, 0,  ..., 1, 1, 0], dtype=torch.uint8),\n",
              " tensor([0, 0, 0,  ..., 1, 1, 0], dtype=torch.uint8),\n",
              " tensor([0, 0, 0,  ..., 1, 1, 0], dtype=torch.uint8),\n",
              " tensor([0, 0, 0,  ..., 1, 1, 0], dtype=torch.uint8),\n",
              " tensor([0, 0, 0,  ..., 1, 1, 0], dtype=torch.uint8),\n",
              " tensor([0, 0, 0,  ..., 1, 1, 0], dtype=torch.uint8),\n",
              " tensor([0, 0, 0,  ..., 1, 1, 0], dtype=torch.uint8),\n",
              " tensor([0, 0, 0,  ..., 1, 1, 0], dtype=torch.uint8),\n",
              " tensor([0, 0, 0,  ..., 1, 1, 0], dtype=torch.uint8),\n",
              " tensor([0, 0, 0,  ..., 1, 1, 0], dtype=torch.uint8),\n",
              " tensor([0, 0, 0,  ..., 1, 1, 0], dtype=torch.uint8),\n",
              " tensor([0, 0, 0,  ..., 1, 1, 0], dtype=torch.uint8),\n",
              " tensor([0, 0, 0,  ..., 1, 1, 0], dtype=torch.uint8),\n",
              " tensor([0, 0, 0,  ..., 1, 1, 0], dtype=torch.uint8),\n",
              " tensor([0, 0, 0,  ..., 1, 1, 0], dtype=torch.uint8),\n",
              " tensor([0, 0, 0,  ..., 1, 1, 0], dtype=torch.uint8),\n",
              " tensor([0, 0, 0,  ..., 1, 1, 0], dtype=torch.uint8),\n",
              " tensor([0, 0, 0,  ..., 1, 1, 0], dtype=torch.uint8),\n",
              " tensor([0, 0, 0,  ..., 1, 1, 0], dtype=torch.uint8),\n",
              " tensor([0, 0, 0,  ..., 1, 1, 0], dtype=torch.uint8),\n",
              " tensor([0, 0, 0,  ..., 1, 1, 0], dtype=torch.uint8),\n",
              " tensor([0, 0, 0,  ..., 1, 1, 0], dtype=torch.uint8),\n",
              " tensor([0, 0, 0,  ..., 1, 1, 0], dtype=torch.uint8),\n",
              " tensor([0, 0, 0,  ..., 1, 1, 0], dtype=torch.uint8),\n",
              " tensor([0, 0, 0,  ..., 1, 1, 0], dtype=torch.uint8),\n",
              " tensor([0, 0, 0,  ..., 1, 1, 0], dtype=torch.uint8),\n",
              " tensor([0, 0, 0,  ..., 1, 1, 0], dtype=torch.uint8),\n",
              " tensor([0, 0, 0,  ..., 1, 1, 0], dtype=torch.uint8),\n",
              " tensor([0, 0, 0,  ..., 1, 1, 0], dtype=torch.uint8),\n",
              " tensor([0, 0, 0,  ..., 1, 1, 0], dtype=torch.uint8),\n",
              " tensor([0, 0, 0,  ..., 1, 1, 0], dtype=torch.uint8),\n",
              " tensor([0, 0, 0,  ..., 1, 1, 0], dtype=torch.uint8),\n",
              " tensor([0, 0, 0,  ..., 1, 1, 0], dtype=torch.uint8),\n",
              " tensor([0, 0, 0,  ..., 1, 1, 0], dtype=torch.uint8),\n",
              " tensor([0, 0, 0,  ..., 1, 1, 0], dtype=torch.uint8),\n",
              " tensor([0, 0, 0,  ..., 1, 1, 0], dtype=torch.uint8),\n",
              " tensor([0, 0, 0,  ..., 1, 1, 0], dtype=torch.uint8),\n",
              " tensor([0, 0, 0,  ..., 1, 1, 0], dtype=torch.uint8),\n",
              " tensor([0, 0, 0,  ..., 1, 1, 0], dtype=torch.uint8),\n",
              " tensor([0, 0, 0,  ..., 1, 1, 0], dtype=torch.uint8),\n",
              " tensor([0, 0, 0,  ..., 1, 1, 0], dtype=torch.uint8),\n",
              " tensor([0, 0, 0,  ..., 1, 1, 0], dtype=torch.uint8),\n",
              " tensor([0, 0, 0,  ..., 1, 1, 0], dtype=torch.uint8),\n",
              " tensor([0, 0, 0,  ..., 1, 1, 0], dtype=torch.uint8),\n",
              " tensor([0, 0, 0,  ..., 1, 1, 0], dtype=torch.uint8),\n",
              " tensor([0, 0, 0,  ..., 1, 1, 0], dtype=torch.uint8),\n",
              " tensor([0, 0, 0,  ..., 1, 1, 0], dtype=torch.uint8),\n",
              " tensor([0, 0, 0,  ..., 1, 1, 0], dtype=torch.uint8),\n",
              " tensor([0, 0, 0,  ..., 1, 1, 0], dtype=torch.uint8),\n",
              " tensor([0, 0, 0,  ..., 1, 1, 0], dtype=torch.uint8),\n",
              " tensor([0, 0, 0,  ..., 1, 1, 0], dtype=torch.uint8),\n",
              " tensor([0, 0, 0,  ..., 1, 1, 0], dtype=torch.uint8),\n",
              " tensor([0, 0, 0,  ..., 1, 1, 0], dtype=torch.uint8),\n",
              " tensor([0, 0, 0,  ..., 1, 1, 0], dtype=torch.uint8),\n",
              " tensor([0, 0, 0,  ..., 1, 1, 0], dtype=torch.uint8),\n",
              " tensor([0, 0, 0,  ..., 1, 1, 0], dtype=torch.uint8),\n",
              " tensor([0, 0, 0,  ..., 1, 1, 0], dtype=torch.uint8),\n",
              " tensor([0, 0, 0,  ..., 1, 1, 0], dtype=torch.uint8),\n",
              " tensor([0, 0, 0,  ..., 1, 1, 0], dtype=torch.uint8),\n",
              " tensor([0, 0, 0,  ..., 1, 1, 0], dtype=torch.uint8),\n",
              " tensor([0, 0, 0,  ..., 1, 1, 0], dtype=torch.uint8),\n",
              " tensor([0, 0, 0,  ..., 1, 1, 0], dtype=torch.uint8),\n",
              " tensor([0, 0, 0,  ..., 1, 1, 0], dtype=torch.uint8),\n",
              " tensor([0, 0, 0,  ..., 1, 1, 0], dtype=torch.uint8),\n",
              " tensor([0, 0, 0,  ..., 1, 1, 0], dtype=torch.uint8),\n",
              " tensor([0, 0, 0,  ..., 1, 1, 0], dtype=torch.uint8),\n",
              " tensor([0, 0, 0,  ..., 1, 1, 0], dtype=torch.uint8),\n",
              " tensor([0, 0, 0,  ..., 1, 1, 0], dtype=torch.uint8),\n",
              " tensor([0, 0, 0,  ..., 1, 1, 0], dtype=torch.uint8),\n",
              " tensor([0, 0, 0,  ..., 1, 1, 0], dtype=torch.uint8),\n",
              " tensor([0, 0, 0,  ..., 1, 1, 0], dtype=torch.uint8),\n",
              " tensor([0, 0, 0,  ..., 1, 1, 0], dtype=torch.uint8),\n",
              " tensor([0, 0, 0,  ..., 1, 1, 0], dtype=torch.uint8),\n",
              " tensor([0, 0, 0,  ..., 1, 1, 0], dtype=torch.uint8),\n",
              " tensor([0, 0, 0,  ..., 1, 1, 0], dtype=torch.uint8),\n",
              " tensor([0, 0, 0,  ..., 1, 1, 0], dtype=torch.uint8),\n",
              " tensor([0, 0, 0,  ..., 1, 1, 0], dtype=torch.uint8),\n",
              " tensor([0, 0, 0,  ..., 1, 1, 0], dtype=torch.uint8),\n",
              " tensor([0, 0, 0,  ..., 1, 1, 0], dtype=torch.uint8),\n",
              " tensor([0, 0, 0,  ..., 1, 1, 0], dtype=torch.uint8),\n",
              " tensor([0, 0, 0,  ..., 1, 1, 0], dtype=torch.uint8),\n",
              " tensor([0, 0, 0,  ..., 1, 1, 0], dtype=torch.uint8),\n",
              " tensor([0, 0, 0,  ..., 1, 1, 0], dtype=torch.uint8),\n",
              " tensor([0, 0, 0,  ..., 1, 1, 0], dtype=torch.uint8),\n",
              " tensor([0, 0, 0,  ..., 1, 1, 0], dtype=torch.uint8),\n",
              " tensor([0, 0, 0,  ..., 1, 1, 0], dtype=torch.uint8),\n",
              " tensor([0, 0, 0,  ..., 1, 1, 0], dtype=torch.uint8),\n",
              " tensor([0, 0, 0,  ..., 1, 1, 0], dtype=torch.uint8),\n",
              " tensor([0, 0, 0,  ..., 1, 1, 0], dtype=torch.uint8),\n",
              " tensor([0, 0, 0,  ..., 1, 1, 0], dtype=torch.uint8),\n",
              " tensor([0, 0, 0,  ..., 1, 1, 0], dtype=torch.uint8),\n",
              " tensor([0, 0, 0,  ..., 1, 1, 0], dtype=torch.uint8),\n",
              " tensor([0, 0, 0,  ..., 1, 1, 0], dtype=torch.uint8),\n",
              " tensor([0, 0, 0,  ..., 1, 1, 0], dtype=torch.uint8),\n",
              " tensor([0, 0, 0,  ..., 1, 1, 0], dtype=torch.uint8),\n",
              " tensor([0, 0, 0,  ..., 1, 1, 0], dtype=torch.uint8),\n",
              " tensor([0, 0, 0,  ..., 1, 1, 0], dtype=torch.uint8),\n",
              " tensor([0, 0, 0,  ..., 1, 1, 0], dtype=torch.uint8),\n",
              " tensor([0, 0, 0,  ..., 1, 1, 0], dtype=torch.uint8),\n",
              " tensor([0, 0, 0,  ..., 1, 1, 0], dtype=torch.uint8),\n",
              " tensor([0, 0, 0,  ..., 1, 1, 0], dtype=torch.uint8),\n",
              " tensor([0, 0, 0,  ..., 1, 1, 0], dtype=torch.uint8),\n",
              " tensor([0, 0, 0,  ..., 1, 1, 0], dtype=torch.uint8),\n",
              " tensor([0, 0, 0,  ..., 1, 1, 0], dtype=torch.uint8),\n",
              " tensor([0, 0, 0,  ..., 1, 1, 0], dtype=torch.uint8),\n",
              " tensor([0, 0, 0,  ..., 1, 1, 0], dtype=torch.uint8),\n",
              " tensor([0, 0, 0,  ..., 1, 1, 0], dtype=torch.uint8),\n",
              " tensor([0, 0, 0,  ..., 1, 1, 0], dtype=torch.uint8),\n",
              " tensor([0, 0, 0,  ..., 1, 1, 0], dtype=torch.uint8),\n",
              " tensor([0, 0, 0,  ..., 1, 1, 0], dtype=torch.uint8),\n",
              " tensor([0, 0, 0,  ..., 1, 1, 0], dtype=torch.uint8),\n",
              " tensor([0, 0, 0,  ..., 1, 1, 0], dtype=torch.uint8),\n",
              " tensor([0, 0, 0,  ..., 1, 1, 0], dtype=torch.uint8),\n",
              " tensor([0, 0, 0,  ..., 1, 1, 0], dtype=torch.uint8),\n",
              " tensor([0, 0, 0,  ..., 1, 1, 0], dtype=torch.uint8),\n",
              " tensor([0, 0, 0,  ..., 1, 1, 0], dtype=torch.uint8),\n",
              " tensor([0, 0, 0,  ..., 1, 1, 0], dtype=torch.uint8),\n",
              " tensor([0, 0, 0,  ..., 1, 1, 0], dtype=torch.uint8),\n",
              " tensor([0, 0, 0,  ..., 1, 1, 0], dtype=torch.uint8),\n",
              " tensor([0, 0, 0,  ..., 1, 1, 0], dtype=torch.uint8),\n",
              " tensor([0, 0, 0,  ..., 1, 1, 0], dtype=torch.uint8),\n",
              " tensor([0, 0, 0,  ..., 1, 1, 0], dtype=torch.uint8),\n",
              " tensor([0, 0, 0,  ..., 1, 1, 0], dtype=torch.uint8),\n",
              " tensor([0, 0, 0,  ..., 1, 1, 0], dtype=torch.uint8),\n",
              " tensor([0, 0, 0,  ..., 1, 1, 0], dtype=torch.uint8),\n",
              " tensor([0, 0, 0,  ..., 1, 1, 0], dtype=torch.uint8),\n",
              " tensor([0, 0, 0,  ..., 1, 1, 0], dtype=torch.uint8),\n",
              " tensor([0, 0, 0,  ..., 1, 1, 0], dtype=torch.uint8),\n",
              " tensor([0, 0, 0,  ..., 1, 1, 0], dtype=torch.uint8),\n",
              " tensor([0, 0, 0,  ..., 1, 1, 0], dtype=torch.uint8),\n",
              " tensor([0, 0, 0,  ..., 1, 1, 0], dtype=torch.uint8),\n",
              " tensor([0, 0, 0,  ..., 1, 1, 0], dtype=torch.uint8),\n",
              " tensor([0, 0, 0,  ..., 1, 1, 0], dtype=torch.uint8),\n",
              " tensor([0, 0, 0,  ..., 1, 1, 0], dtype=torch.uint8),\n",
              " tensor([0, 0, 0,  ..., 1, 1, 0], dtype=torch.uint8),\n",
              " tensor([0, 0, 0,  ..., 1, 1, 0], dtype=torch.uint8),\n",
              " tensor([0, 0, 0,  ..., 1, 1, 0], dtype=torch.uint8),\n",
              " tensor([0, 0, 0,  ..., 1, 1, 0], dtype=torch.uint8),\n",
              " tensor([0, 0, 0,  ..., 1, 1, 0], dtype=torch.uint8),\n",
              " tensor([0, 0, 0,  ..., 1, 1, 0], dtype=torch.uint8),\n",
              " tensor([0, 0, 0,  ..., 1, 1, 0], dtype=torch.uint8),\n",
              " tensor([0, 0, 0,  ..., 1, 1, 0], dtype=torch.uint8),\n",
              " tensor([0, 0, 0,  ..., 1, 1, 0], dtype=torch.uint8),\n",
              " tensor([0, 0, 0,  ..., 1, 1, 0], dtype=torch.uint8),\n",
              " tensor([0, 0, 0,  ..., 1, 1, 0], dtype=torch.uint8),\n",
              " tensor([0, 0, 0,  ..., 1, 1, 0], dtype=torch.uint8),\n",
              " tensor([0, 0, 0,  ..., 1, 1, 0], dtype=torch.uint8),\n",
              " tensor([0, 0, 0,  ..., 1, 1, 0], dtype=torch.uint8),\n",
              " tensor([0, 0, 0,  ..., 1, 1, 0], dtype=torch.uint8),\n",
              " tensor([0, 0, 0,  ..., 1, 1, 0], dtype=torch.uint8),\n",
              " tensor([0, 0, 0,  ..., 1, 1, 0], dtype=torch.uint8),\n",
              " tensor([0, 0, 0,  ..., 1, 1, 0], dtype=torch.uint8),\n",
              " tensor([0, 0, 0,  ..., 1, 1, 0], dtype=torch.uint8),\n",
              " tensor([0, 0, 0,  ..., 1, 1, 0], dtype=torch.uint8),\n",
              " tensor([0, 0, 0,  ..., 1, 1, 0], dtype=torch.uint8),\n",
              " tensor([0, 0, 0,  ..., 1, 1, 0], dtype=torch.uint8),\n",
              " tensor([0, 0, 0,  ..., 1, 1, 0], dtype=torch.uint8),\n",
              " tensor([0, 0, 0,  ..., 1, 1, 0], dtype=torch.uint8),\n",
              " tensor([0, 0, 0,  ..., 1, 1, 0], dtype=torch.uint8),\n",
              " tensor([0, 0, 0,  ..., 1, 1, 0], dtype=torch.uint8),\n",
              " tensor([0, 0, 0,  ..., 1, 1, 0], dtype=torch.uint8),\n",
              " tensor([0, 0, 0,  ..., 1, 1, 0], dtype=torch.uint8),\n",
              " tensor([0, 0, 0,  ..., 1, 1, 0], dtype=torch.uint8),\n",
              " tensor([0, 0, 0,  ..., 1, 1, 0], dtype=torch.uint8),\n",
              " tensor([0, 0, 0,  ..., 1, 1, 0], dtype=torch.uint8),\n",
              " tensor([0, 0, 0,  ..., 1, 1, 0], dtype=torch.uint8),\n",
              " tensor([0, 0, 0,  ..., 1, 1, 0], dtype=torch.uint8),\n",
              " tensor([0, 0, 0,  ..., 1, 1, 0], dtype=torch.uint8),\n",
              " tensor([0, 0, 0,  ..., 1, 1, 0], dtype=torch.uint8),\n",
              " tensor([0, 0, 0,  ..., 1, 1, 0], dtype=torch.uint8),\n",
              " tensor([0, 0, 0,  ..., 1, 1, 0], dtype=torch.uint8),\n",
              " tensor([0, 0, 0,  ..., 1, 1, 0], dtype=torch.uint8),\n",
              " tensor([0, 0, 0,  ..., 1, 1, 0], dtype=torch.uint8),\n",
              " tensor([0, 0, 0,  ..., 1, 1, 0], dtype=torch.uint8),\n",
              " tensor([0, 0, 0,  ..., 1, 1, 0], dtype=torch.uint8),\n",
              " tensor([0, 0, 0,  ..., 1, 1, 0], dtype=torch.uint8),\n",
              " tensor([0, 0, 0,  ..., 1, 1, 0], dtype=torch.uint8),\n",
              " tensor([0, 0, 0,  ..., 1, 1, 0], dtype=torch.uint8),\n",
              " tensor([0, 0, 0,  ..., 1, 1, 0], dtype=torch.uint8),\n",
              " tensor([0, 0, 0,  ..., 1, 1, 0], dtype=torch.uint8),\n",
              " tensor([0, 0, 0,  ..., 1, 1, 0], dtype=torch.uint8),\n",
              " tensor([0, 0, 0,  ..., 1, 1, 0], dtype=torch.uint8),\n",
              " tensor([0, 0, 0,  ..., 1, 1, 0], dtype=torch.uint8),\n",
              " tensor([0, 0, 0,  ..., 1, 1, 0], dtype=torch.uint8),\n",
              " tensor([0, 0, 0,  ..., 1, 1, 0], dtype=torch.uint8),\n",
              " tensor([0, 0, 0,  ..., 1, 1, 0], dtype=torch.uint8),\n",
              " tensor([0, 0, 0,  ..., 1, 1, 0], dtype=torch.uint8),\n",
              " tensor([0, 0, 0,  ..., 1, 1, 0], dtype=torch.uint8),\n",
              " tensor([0, 0, 0,  ..., 1, 1, 0], dtype=torch.uint8),\n",
              " tensor([0, 0, 0,  ..., 1, 1, 0], dtype=torch.uint8),\n",
              " tensor([0, 0, 0,  ..., 1, 1, 0], dtype=torch.uint8),\n",
              " tensor([0, 0, 0,  ..., 1, 1, 0], dtype=torch.uint8),\n",
              " tensor([0, 0, 0,  ..., 1, 1, 0], dtype=torch.uint8),\n",
              " tensor([0, 0, 0,  ..., 1, 1, 0], dtype=torch.uint8),\n",
              " tensor([0, 0, 0,  ..., 1, 1, 0], dtype=torch.uint8),\n",
              " tensor([0, 0, 0,  ..., 1, 1, 0], dtype=torch.uint8),\n",
              " tensor([0, 0, 0,  ..., 1, 1, 0], dtype=torch.uint8),\n",
              " tensor([0, 0, 0,  ..., 1, 1, 0], dtype=torch.uint8),\n",
              " tensor([0, 0, 0,  ..., 1, 1, 0], dtype=torch.uint8),\n",
              " tensor([0, 0, 0,  ..., 1, 1, 0], dtype=torch.uint8),\n",
              " tensor([0, 0, 0,  ..., 1, 1, 0], dtype=torch.uint8),\n",
              " tensor([0, 0, 0,  ..., 1, 1, 0], dtype=torch.uint8),\n",
              " tensor([0, 0, 0,  ..., 1, 1, 0], dtype=torch.uint8),\n",
              " tensor([0, 0, 0,  ..., 1, 1, 0], dtype=torch.uint8),\n",
              " tensor([0, 0, 0,  ..., 1, 1, 0], dtype=torch.uint8),\n",
              " tensor([0, 0, 0,  ..., 1, 1, 0], dtype=torch.uint8),\n",
              " tensor([0, 0, 0,  ..., 1, 1, 0], dtype=torch.uint8),\n",
              " tensor([0, 0, 0,  ..., 1, 1, 0], dtype=torch.uint8),\n",
              " tensor([0, 0, 0,  ..., 1, 1, 0], dtype=torch.uint8),\n",
              " tensor([0, 0, 0,  ..., 1, 1, 0], dtype=torch.uint8),\n",
              " tensor([0, 0, 0,  ..., 1, 1, 0], dtype=torch.uint8),\n",
              " tensor([0, 0, 0,  ..., 1, 1, 0], dtype=torch.uint8),\n",
              " tensor([0, 0, 0,  ..., 1, 1, 0], dtype=torch.uint8),\n",
              " tensor([0, 0, 0,  ..., 1, 1, 0], dtype=torch.uint8),\n",
              " tensor([0, 0, 0,  ..., 1, 1, 0], dtype=torch.uint8),\n",
              " tensor([0, 0, 0,  ..., 1, 1, 0], dtype=torch.uint8),\n",
              " tensor([0, 0, 0,  ..., 1, 1, 0], dtype=torch.uint8),\n",
              " tensor([0, 0, 0,  ..., 1, 1, 0], dtype=torch.uint8),\n",
              " tensor([0, 0, 0,  ..., 1, 1, 0], dtype=torch.uint8),\n",
              " tensor([0, 0, 0,  ..., 1, 1, 0], dtype=torch.uint8),\n",
              " tensor([0, 0, 0,  ..., 1, 1, 0], dtype=torch.uint8),\n",
              " tensor([0, 0, 0,  ..., 1, 1, 0], dtype=torch.uint8),\n",
              " tensor([0, 0, 0,  ..., 1, 1, 0], dtype=torch.uint8),\n",
              " tensor([0, 0, 0,  ..., 1, 1, 0], dtype=torch.uint8),\n",
              " tensor([0, 0, 0,  ..., 1, 1, 0], dtype=torch.uint8),\n",
              " tensor([0, 0, 0,  ..., 1, 1, 0], dtype=torch.uint8),\n",
              " tensor([0, 0, 0,  ..., 1, 1, 0], dtype=torch.uint8),\n",
              " tensor([0, 0, 0,  ..., 1, 1, 0], dtype=torch.uint8),\n",
              " tensor([0, 0, 0,  ..., 1, 1, 0], dtype=torch.uint8),\n",
              " tensor([0, 0, 0,  ..., 1, 1, 0], dtype=torch.uint8),\n",
              " tensor([0, 0, 0,  ..., 1, 1, 0], dtype=torch.uint8),\n",
              " tensor([0, 0, 0,  ..., 1, 1, 0], dtype=torch.uint8),\n",
              " tensor([0, 0, 0,  ..., 1, 1, 0], dtype=torch.uint8),\n",
              " tensor([0, 0, 0,  ..., 1, 1, 0], dtype=torch.uint8),\n",
              " tensor([0, 0, 0,  ..., 1, 1, 0], dtype=torch.uint8),\n",
              " tensor([0, 0, 0,  ..., 1, 1, 0], dtype=torch.uint8),\n",
              " tensor([0, 0, 0,  ..., 1, 1, 0], dtype=torch.uint8),\n",
              " tensor([0, 0, 0,  ..., 1, 1, 0], dtype=torch.uint8),\n",
              " tensor([0, 0, 0,  ..., 1, 1, 0], dtype=torch.uint8),\n",
              " tensor([0, 0, 0,  ..., 1, 1, 0], dtype=torch.uint8),\n",
              " tensor([0, 0, 0,  ..., 1, 1, 0], dtype=torch.uint8),\n",
              " tensor([0, 0, 0,  ..., 1, 1, 0], dtype=torch.uint8),\n",
              " tensor([0, 0, 0,  ..., 1, 1, 0], dtype=torch.uint8),\n",
              " tensor([0, 0, 0,  ..., 1, 1, 0], dtype=torch.uint8),\n",
              " tensor([0, 0, 0,  ..., 1, 1, 0], dtype=torch.uint8),\n",
              " tensor([0, 0, 0,  ..., 1, 1, 0], dtype=torch.uint8),\n",
              " tensor([0, 0, 0,  ..., 1, 1, 0], dtype=torch.uint8),\n",
              " tensor([0, 0, 0,  ..., 1, 1, 0], dtype=torch.uint8),\n",
              " tensor([0, 0, 0,  ..., 1, 1, 0], dtype=torch.uint8),\n",
              " tensor([0, 0, 0,  ..., 1, 1, 0], dtype=torch.uint8),\n",
              " tensor([0, 0, 0,  ..., 1, 1, 0], dtype=torch.uint8),\n",
              " tensor([0, 0, 0,  ..., 1, 1, 0], dtype=torch.uint8),\n",
              " tensor([0, 0, 0,  ..., 1, 1, 0], dtype=torch.uint8),\n",
              " tensor([0, 0, 0,  ..., 1, 1, 0], dtype=torch.uint8),\n",
              " tensor([0, 0, 0,  ..., 1, 1, 0], dtype=torch.uint8),\n",
              " tensor([0, 0, 0,  ..., 1, 1, 0], dtype=torch.uint8),\n",
              " tensor([0, 0, 0,  ..., 1, 1, 0], dtype=torch.uint8),\n",
              " tensor([0, 0, 0,  ..., 1, 1, 0], dtype=torch.uint8),\n",
              " tensor([0, 0, 0,  ..., 1, 1, 0], dtype=torch.uint8),\n",
              " tensor([0, 0, 0,  ..., 1, 1, 0], dtype=torch.uint8),\n",
              " tensor([0, 0, 0,  ..., 1, 1, 0], dtype=torch.uint8),\n",
              " tensor([0, 0, 0,  ..., 1, 1, 0], dtype=torch.uint8),\n",
              " tensor([0, 0, 0,  ..., 1, 1, 0], dtype=torch.uint8),\n",
              " tensor([0, 0, 0,  ..., 1, 1, 0], dtype=torch.uint8),\n",
              " tensor([0, 0, 0,  ..., 1, 1, 0], dtype=torch.uint8),\n",
              " tensor([0, 0, 0,  ..., 1, 1, 0], dtype=torch.uint8),\n",
              " tensor([0, 0, 0,  ..., 1, 1, 0], dtype=torch.uint8),\n",
              " tensor([0, 0, 0,  ..., 1, 1, 0], dtype=torch.uint8),\n",
              " tensor([0, 0, 0,  ..., 1, 1, 0], dtype=torch.uint8),\n",
              " tensor([0, 0, 0,  ..., 1, 1, 0], dtype=torch.uint8),\n",
              " tensor([0, 0, 0,  ..., 1, 1, 0], dtype=torch.uint8),\n",
              " tensor([0, 0, 0,  ..., 1, 1, 0], dtype=torch.uint8),\n",
              " tensor([0, 0, 0,  ..., 1, 1, 0], dtype=torch.uint8),\n",
              " tensor([0, 0, 0,  ..., 1, 1, 0], dtype=torch.uint8),\n",
              " tensor([0, 0, 0,  ..., 1, 1, 0], dtype=torch.uint8),\n",
              " tensor([0, 0, 0,  ..., 1, 1, 0], dtype=torch.uint8),\n",
              " tensor([0, 0, 0,  ..., 1, 1, 0], dtype=torch.uint8),\n",
              " tensor([0, 0, 0,  ..., 1, 1, 0], dtype=torch.uint8),\n",
              " tensor([0, 0, 0,  ..., 1, 1, 0], dtype=torch.uint8),\n",
              " tensor([0, 0, 0,  ..., 1, 1, 0], dtype=torch.uint8),\n",
              " tensor([0, 0, 0,  ..., 1, 1, 0], dtype=torch.uint8),\n",
              " tensor([0, 0, 0,  ..., 1, 1, 0], dtype=torch.uint8),\n",
              " tensor([0, 0, 0,  ..., 1, 1, 0], dtype=torch.uint8),\n",
              " tensor([0, 0, 0,  ..., 1, 1, 0], dtype=torch.uint8),\n",
              " tensor([0, 0, 0,  ..., 1, 1, 0], dtype=torch.uint8),\n",
              " tensor([0, 0, 0,  ..., 1, 1, 0], dtype=torch.uint8),\n",
              " tensor([0, 0, 0,  ..., 1, 1, 0], dtype=torch.uint8),\n",
              " tensor([0, 0, 0,  ..., 1, 1, 0], dtype=torch.uint8),\n",
              " tensor([0, 0, 0,  ..., 1, 1, 0], dtype=torch.uint8),\n",
              " tensor([0, 0, 0,  ..., 1, 1, 0], dtype=torch.uint8),\n",
              " tensor([0, 0, 0,  ..., 1, 1, 0], dtype=torch.uint8),\n",
              " tensor([0, 0, 0,  ..., 1, 1, 0], dtype=torch.uint8),\n",
              " tensor([0, 0, 0,  ..., 1, 1, 0], dtype=torch.uint8),\n",
              " tensor([0, 0, 0,  ..., 1, 1, 0], dtype=torch.uint8),\n",
              " tensor([0, 0, 0,  ..., 1, 1, 0], dtype=torch.uint8),\n",
              " tensor([0, 0, 0,  ..., 1, 1, 0], dtype=torch.uint8),\n",
              " tensor([0, 0, 0,  ..., 1, 1, 0], dtype=torch.uint8),\n",
              " tensor([0, 0, 0,  ..., 1, 1, 0], dtype=torch.uint8),\n",
              " tensor([0, 0, 0,  ..., 1, 1, 0], dtype=torch.uint8),\n",
              " tensor([0, 0, 0,  ..., 1, 1, 0], dtype=torch.uint8),\n",
              " tensor([0, 0, 0,  ..., 1, 1, 0], dtype=torch.uint8),\n",
              " tensor([0, 0, 0,  ..., 1, 1, 0], dtype=torch.uint8),\n",
              " tensor([0, 0, 0,  ..., 1, 1, 0], dtype=torch.uint8),\n",
              " tensor([0, 0, 0,  ..., 1, 1, 0], dtype=torch.uint8),\n",
              " tensor([0, 0, 0,  ..., 1, 1, 0], dtype=torch.uint8),\n",
              " tensor([0, 0, 0,  ..., 1, 1, 0], dtype=torch.uint8),\n",
              " tensor([0, 0, 0,  ..., 1, 1, 0], dtype=torch.uint8),\n",
              " tensor([0, 0, 0,  ..., 1, 1, 0], dtype=torch.uint8),\n",
              " tensor([0, 0, 0,  ..., 1, 1, 0], dtype=torch.uint8),\n",
              " tensor([0, 0, 0,  ..., 1, 1, 0], dtype=torch.uint8),\n",
              " tensor([0, 0, 0,  ..., 1, 1, 0], dtype=torch.uint8),\n",
              " tensor([0, 0, 0,  ..., 1, 1, 0], dtype=torch.uint8),\n",
              " tensor([0, 0, 0,  ..., 1, 1, 0], dtype=torch.uint8),\n",
              " tensor([0, 0, 0,  ..., 1, 1, 0], dtype=torch.uint8),\n",
              " tensor([0, 0, 0,  ..., 1, 1, 0], dtype=torch.uint8),\n",
              " tensor([0, 0, 0,  ..., 1, 1, 0], dtype=torch.uint8),\n",
              " tensor([0, 0, 0,  ..., 1, 1, 0], dtype=torch.uint8),\n",
              " tensor([0, 0, 0,  ..., 1, 1, 0], dtype=torch.uint8),\n",
              " tensor([0, 0, 0,  ..., 1, 1, 0], dtype=torch.uint8),\n",
              " tensor([0, 0, 0,  ..., 1, 1, 0], dtype=torch.uint8),\n",
              " tensor([0, 0, 0,  ..., 1, 1, 0], dtype=torch.uint8),\n",
              " tensor([0, 0, 0,  ..., 1, 1, 0], dtype=torch.uint8),\n",
              " tensor([0, 0, 0,  ..., 1, 1, 0], dtype=torch.uint8),\n",
              " tensor([0, 0, 0,  ..., 1, 1, 0], dtype=torch.uint8),\n",
              " tensor([0, 0, 0,  ..., 1, 1, 0], dtype=torch.uint8),\n",
              " tensor([0, 0, 0,  ..., 1, 1, 0], dtype=torch.uint8),\n",
              " tensor([0, 0, 0,  ..., 1, 1, 0], dtype=torch.uint8),\n",
              " tensor([0, 0, 0,  ..., 1, 1, 0], dtype=torch.uint8),\n",
              " tensor([0, 0, 0,  ..., 1, 1, 0], dtype=torch.uint8),\n",
              " tensor([0, 0, 0,  ..., 1, 1, 0], dtype=torch.uint8),\n",
              " tensor([0, 0, 0,  ..., 1, 1, 0], dtype=torch.uint8),\n",
              " tensor([0, 0, 0,  ..., 1, 1, 0], dtype=torch.uint8),\n",
              " tensor([0, 0, 0,  ..., 1, 1, 0], dtype=torch.uint8),\n",
              " tensor([0, 0, 0,  ..., 1, 1, 0], dtype=torch.uint8),\n",
              " tensor([0, 0, 0,  ..., 1, 1, 0], dtype=torch.uint8),\n",
              " tensor([0, 0, 0,  ..., 1, 1, 0], dtype=torch.uint8),\n",
              " tensor([0, 0, 0,  ..., 1, 1, 0], dtype=torch.uint8),\n",
              " tensor([0, 0, 0,  ..., 1, 1, 0], dtype=torch.uint8),\n",
              " tensor([0, 0, 0,  ..., 1, 1, 0], dtype=torch.uint8),\n",
              " tensor([0, 0, 0,  ..., 1, 1, 0], dtype=torch.uint8),\n",
              " tensor([0, 0, 0,  ..., 1, 1, 0], dtype=torch.uint8),\n",
              " tensor([0, 0, 0,  ..., 1, 1, 0], dtype=torch.uint8),\n",
              " tensor([0, 0, 0,  ..., 1, 1, 0], dtype=torch.uint8),\n",
              " tensor([0, 0, 0,  ..., 1, 1, 0], dtype=torch.uint8),\n",
              " tensor([0, 0, 0,  ..., 1, 1, 0], dtype=torch.uint8),\n",
              " tensor([0, 0, 0,  ..., 1, 1, 0], dtype=torch.uint8),\n",
              " tensor([0, 0, 0,  ..., 1, 1, 0], dtype=torch.uint8),\n",
              " tensor([0, 0, 0,  ..., 1, 1, 0], dtype=torch.uint8),\n",
              " tensor([0, 0, 0,  ..., 1, 1, 0], dtype=torch.uint8),\n",
              " tensor([0, 0, 0,  ..., 1, 1, 0], dtype=torch.uint8),\n",
              " tensor([0, 0, 0,  ..., 1, 1, 0], dtype=torch.uint8),\n",
              " tensor([0, 0, 0,  ..., 1, 1, 0], dtype=torch.uint8),\n",
              " tensor([0, 0, 0,  ..., 1, 1, 0], dtype=torch.uint8),\n",
              " tensor([0, 0, 0,  ..., 1, 1, 0], dtype=torch.uint8),\n",
              " tensor([0, 0, 0,  ..., 1, 1, 0], dtype=torch.uint8),\n",
              " tensor([0, 0, 0,  ..., 1, 1, 0], dtype=torch.uint8),\n",
              " tensor([0, 0, 0,  ..., 1, 1, 0], dtype=torch.uint8),\n",
              " tensor([0, 0, 0,  ..., 1, 1, 0], dtype=torch.uint8),\n",
              " tensor([0, 0, 0,  ..., 1, 1, 0], dtype=torch.uint8),\n",
              " tensor([0, 0, 0,  ..., 1, 1, 0], dtype=torch.uint8),\n",
              " tensor([0, 0, 0,  ..., 1, 1, 0], dtype=torch.uint8),\n",
              " tensor([0, 0, 0,  ..., 1, 1, 0], dtype=torch.uint8),\n",
              " tensor([0, 0, 0,  ..., 1, 1, 0], dtype=torch.uint8),\n",
              " tensor([0, 0, 0,  ..., 1, 1, 0], dtype=torch.uint8),\n",
              " tensor([0, 0, 0,  ..., 1, 1, 0], dtype=torch.uint8),\n",
              " tensor([0, 0, 0,  ..., 1, 1, 0], dtype=torch.uint8),\n",
              " tensor([0, 0, 0,  ..., 1, 1, 0], dtype=torch.uint8),\n",
              " tensor([0, 0, 0,  ..., 1, 1, 0], dtype=torch.uint8),\n",
              " tensor([0, 0, 0,  ..., 1, 1, 0], dtype=torch.uint8),\n",
              " tensor([0, 0, 0,  ..., 1, 1, 0], dtype=torch.uint8),\n",
              " tensor([0, 0, 0,  ..., 1, 1, 0], dtype=torch.uint8),\n",
              " tensor([0, 0, 0,  ..., 1, 1, 0], dtype=torch.uint8),\n",
              " tensor([0, 0, 0,  ..., 1, 1, 0], dtype=torch.uint8),\n",
              " tensor([0, 0, 0,  ..., 1, 1, 0], dtype=torch.uint8),\n",
              " tensor([0, 0, 0,  ..., 1, 1, 0], dtype=torch.uint8),\n",
              " tensor([0, 0, 0,  ..., 1, 1, 0], dtype=torch.uint8),\n",
              " tensor([0, 0, 0,  ..., 1, 1, 0], dtype=torch.uint8),\n",
              " tensor([0, 0, 0,  ..., 1, 1, 0], dtype=torch.uint8),\n",
              " tensor([0, 0, 0,  ..., 1, 1, 0], dtype=torch.uint8),\n",
              " tensor([0, 0, 0,  ..., 1, 1, 0], dtype=torch.uint8),\n",
              " tensor([0, 0, 0,  ..., 1, 1, 0], dtype=torch.uint8),\n",
              " tensor([0, 0, 0,  ..., 1, 1, 0], dtype=torch.uint8),\n",
              " tensor([0, 0, 0,  ..., 1, 1, 0], dtype=torch.uint8),\n",
              " tensor([0, 0, 0,  ..., 1, 1, 0], dtype=torch.uint8),\n",
              " tensor([0, 0, 0,  ..., 1, 1, 0], dtype=torch.uint8),\n",
              " tensor([0, 0, 0,  ..., 1, 1, 0], dtype=torch.uint8),\n",
              " tensor([0, 0, 0,  ..., 1, 1, 0], dtype=torch.uint8),\n",
              " tensor([0, 0, 0,  ..., 1, 1, 0], dtype=torch.uint8),\n",
              " tensor([0, 0, 0,  ..., 1, 1, 0], dtype=torch.uint8),\n",
              " tensor([0, 0, 0,  ..., 1, 1, 0], dtype=torch.uint8),\n",
              " tensor([0, 0, 0,  ..., 1, 1, 0], dtype=torch.uint8),\n",
              " tensor([0, 0, 0,  ..., 1, 1, 0], dtype=torch.uint8),\n",
              " tensor([0, 0, 0,  ..., 1, 1, 0], dtype=torch.uint8),\n",
              " tensor([0, 0, 0,  ..., 1, 1, 0], dtype=torch.uint8),\n",
              " tensor([0, 0, 0,  ..., 1, 1, 0], dtype=torch.uint8),\n",
              " tensor([0, 0, 0,  ..., 1, 1, 0], dtype=torch.uint8),\n",
              " tensor([0, 0, 0,  ..., 1, 1, 0], dtype=torch.uint8),\n",
              " tensor([0, 0, 0,  ..., 1, 1, 0], dtype=torch.uint8),\n",
              " tensor([0, 0, 0,  ..., 1, 1, 0], dtype=torch.uint8),\n",
              " tensor([0, 0, 0,  ..., 1, 1, 0], dtype=torch.uint8),\n",
              " tensor([0, 0, 0,  ..., 1, 1, 0], dtype=torch.uint8),\n",
              " tensor([0, 0, 0,  ..., 1, 1, 0], dtype=torch.uint8),\n",
              " tensor([0, 0, 0,  ..., 1, 1, 0], dtype=torch.uint8),\n",
              " tensor([0, 0, 0,  ..., 1, 1, 0], dtype=torch.uint8),\n",
              " tensor([0, 0, 0,  ..., 1, 1, 0], dtype=torch.uint8),\n",
              " tensor([0, 0, 0,  ..., 1, 1, 0], dtype=torch.uint8),\n",
              " tensor([0, 0, 0,  ..., 1, 1, 0], dtype=torch.uint8),\n",
              " tensor([0, 0, 0,  ..., 1, 1, 0], dtype=torch.uint8),\n",
              " tensor([0, 0, 0,  ..., 1, 1, 0], dtype=torch.uint8),\n",
              " tensor([0, 0, 0,  ..., 1, 1, 0], dtype=torch.uint8),\n",
              " tensor([0, 0, 0,  ..., 1, 1, 0], dtype=torch.uint8),\n",
              " tensor([0, 0, 0,  ..., 1, 1, 0], dtype=torch.uint8),\n",
              " tensor([0, 0, 0,  ..., 1, 1, 0], dtype=torch.uint8),\n",
              " tensor([0, 0, 0,  ..., 1, 1, 0], dtype=torch.uint8),\n",
              " tensor([0, 0, 0,  ..., 1, 1, 0], dtype=torch.uint8),\n",
              " tensor([0, 0, 0,  ..., 1, 1, 0], dtype=torch.uint8),\n",
              " tensor([0, 0, 0,  ..., 1, 1, 0], dtype=torch.uint8),\n",
              " tensor([0, 0, 0,  ..., 1, 1, 0], dtype=torch.uint8),\n",
              " tensor([0, 0, 0,  ..., 1, 1, 0], dtype=torch.uint8),\n",
              " tensor([0, 0, 0,  ..., 1, 1, 0], dtype=torch.uint8),\n",
              " tensor([0, 0, 0,  ..., 1, 1, 0], dtype=torch.uint8),\n",
              " tensor([0, 0, 0,  ..., 1, 1, 0], dtype=torch.uint8),\n",
              " tensor([0, 0, 0,  ..., 1, 1, 0], dtype=torch.uint8),\n",
              " tensor([0, 0, 0,  ..., 1, 1, 0], dtype=torch.uint8),\n",
              " tensor([0, 0, 0,  ..., 1, 1, 0], dtype=torch.uint8),\n",
              " tensor([0, 0, 0,  ..., 1, 1, 0], dtype=torch.uint8),\n",
              " tensor([0, 0, 0,  ..., 1, 1, 0], dtype=torch.uint8),\n",
              " tensor([0, 0, 0,  ..., 1, 1, 0], dtype=torch.uint8),\n",
              " tensor([0, 0, 0,  ..., 1, 1, 0], dtype=torch.uint8),\n",
              " tensor([0, 0, 0,  ..., 1, 1, 0], dtype=torch.uint8),\n",
              " tensor([0, 0, 0,  ..., 1, 1, 0], dtype=torch.uint8),\n",
              " tensor([0, 0, 0,  ..., 1, 1, 0], dtype=torch.uint8),\n",
              " tensor([0, 0, 0,  ..., 1, 1, 0], dtype=torch.uint8),\n",
              " tensor([0, 0, 0,  ..., 1, 1, 0], dtype=torch.uint8),\n",
              " tensor([0, 0, 0,  ..., 1, 1, 0], dtype=torch.uint8),\n",
              " tensor([0, 0, 0,  ..., 1, 1, 0], dtype=torch.uint8),\n",
              " tensor([0, 0, 0,  ..., 1, 1, 0], dtype=torch.uint8),\n",
              " tensor([0, 0, 0,  ..., 1, 1, 0], dtype=torch.uint8),\n",
              " tensor([0, 0, 0,  ..., 1, 1, 0], dtype=torch.uint8),\n",
              " tensor([0, 0, 0,  ..., 1, 1, 0], dtype=torch.uint8),\n",
              " tensor([0, 0, 0,  ..., 1, 1, 0], dtype=torch.uint8),\n",
              " tensor([0, 0, 0,  ..., 1, 1, 0], dtype=torch.uint8),\n",
              " tensor([0, 0, 0,  ..., 1, 1, 0], dtype=torch.uint8),\n",
              " tensor([0, 0, 0,  ..., 1, 1, 0], dtype=torch.uint8),\n",
              " tensor([0, 0, 0,  ..., 1, 1, 0], dtype=torch.uint8),\n",
              " tensor([0, 0, 0,  ..., 1, 1, 0], dtype=torch.uint8),\n",
              " tensor([0, 0, 0,  ..., 1, 1, 0], dtype=torch.uint8),\n",
              " tensor([0, 0, 0,  ..., 1, 1, 0], dtype=torch.uint8),\n",
              " tensor([0, 0, 0,  ..., 1, 1, 0], dtype=torch.uint8),\n",
              " tensor([0, 0, 0,  ..., 1, 1, 0], dtype=torch.uint8),\n",
              " tensor([0, 0, 0,  ..., 1, 1, 0], dtype=torch.uint8),\n",
              " tensor([0, 0, 0,  ..., 1, 1, 0], dtype=torch.uint8),\n",
              " tensor([0, 0, 0,  ..., 1, 1, 0], dtype=torch.uint8),\n",
              " tensor([0, 0, 0,  ..., 1, 1, 0], dtype=torch.uint8),\n",
              " tensor([0, 0, 0,  ..., 1, 1, 0], dtype=torch.uint8),\n",
              " tensor([0, 0, 0,  ..., 1, 1, 0], dtype=torch.uint8),\n",
              " tensor([0, 0, 0,  ..., 1, 1, 0], dtype=torch.uint8),\n",
              " tensor([0, 0, 0,  ..., 1, 1, 0], dtype=torch.uint8),\n",
              " tensor([0, 0, 0,  ..., 1, 1, 0], dtype=torch.uint8),\n",
              " tensor([0, 0, 0,  ..., 1, 1, 0], dtype=torch.uint8),\n",
              " tensor([0, 0, 0,  ..., 1, 1, 0], dtype=torch.uint8),\n",
              " tensor([0, 0, 0,  ..., 1, 1, 0], dtype=torch.uint8),\n",
              " tensor([0, 0, 0,  ..., 1, 1, 0], dtype=torch.uint8),\n",
              " tensor([0, 0, 0,  ..., 1, 1, 0], dtype=torch.uint8),\n",
              " tensor([0, 0, 0,  ..., 1, 1, 0], dtype=torch.uint8),\n",
              " tensor([0, 0, 0,  ..., 1, 1, 0], dtype=torch.uint8),\n",
              " tensor([0, 0, 0,  ..., 1, 1, 0], dtype=torch.uint8),\n",
              " tensor([0, 0, 0,  ..., 1, 1, 0], dtype=torch.uint8),\n",
              " tensor([0, 0, 0,  ..., 1, 1, 0], dtype=torch.uint8),\n",
              " tensor([0, 0, 0,  ..., 1, 1, 0], dtype=torch.uint8),\n",
              " tensor([0, 0, 0,  ..., 1, 1, 0], dtype=torch.uint8),\n",
              " tensor([0, 0, 0,  ..., 1, 1, 0], dtype=torch.uint8),\n",
              " tensor([0, 0, 0,  ..., 1, 1, 0], dtype=torch.uint8),\n",
              " tensor([0, 0, 0,  ..., 1, 1, 0], dtype=torch.uint8),\n",
              " tensor([0, 0, 0,  ..., 1, 1, 0], dtype=torch.uint8),\n",
              " tensor([0, 0, 0,  ..., 1, 1, 0], dtype=torch.uint8),\n",
              " tensor([0, 0, 0,  ..., 1, 1, 0], dtype=torch.uint8),\n",
              " tensor([0, 0, 0,  ..., 1, 1, 0], dtype=torch.uint8),\n",
              " tensor([0, 0, 0,  ..., 1, 1, 0], dtype=torch.uint8),\n",
              " tensor([0, 0, 0,  ..., 1, 1, 0], dtype=torch.uint8),\n",
              " tensor([0, 0, 0,  ..., 1, 1, 0], dtype=torch.uint8),\n",
              " tensor([0, 0, 0,  ..., 1, 1, 0], dtype=torch.uint8),\n",
              " tensor([0, 0, 0,  ..., 1, 1, 0], dtype=torch.uint8),\n",
              " tensor([0, 0, 0,  ..., 1, 1, 0], dtype=torch.uint8),\n",
              " tensor([0, 0, 0,  ..., 1, 1, 0], dtype=torch.uint8),\n",
              " tensor([0, 0, 0,  ..., 1, 1, 0], dtype=torch.uint8),\n",
              " tensor([0, 0, 0,  ..., 1, 1, 0], dtype=torch.uint8),\n",
              " tensor([0, 0, 0,  ..., 1, 1, 0], dtype=torch.uint8),\n",
              " tensor([0, 0, 0,  ..., 1, 1, 0], dtype=torch.uint8),\n",
              " tensor([0, 0, 0,  ..., 1, 1, 0], dtype=torch.uint8),\n",
              " tensor([0, 0, 0,  ..., 1, 1, 0], dtype=torch.uint8),\n",
              " tensor([0, 0, 0,  ..., 1, 1, 0], dtype=torch.uint8),\n",
              " tensor([0, 0, 0,  ..., 1, 1, 0], dtype=torch.uint8),\n",
              " ...]"
            ]
          },
          "metadata": {
            "tags": []
          },
          "execution_count": 14
        }
      ]
    },
    {
      "cell_type": "code",
      "metadata": {
        "id": "W_GerKdZyFVL",
        "colab_type": "code",
        "colab": {}
      },
      "source": [
        "def create_db_and_parallels(num_entries):\n",
        "  db = torch.rand(num_entries) > 0.5\n",
        "  pdbs = get_parallel_dbs(db)\n",
        "  \n",
        "  return db,pdbs\n",
        "  "
      ],
      "execution_count": 0,
      "outputs": []
    },
    {
      "cell_type": "code",
      "metadata": {
        "id": "BPHxNCz3yFlN",
        "colab_type": "code",
        "colab": {}
      },
      "source": [
        "db,pdbs = create_db_and_parallels(20)"
      ],
      "execution_count": 0,
      "outputs": []
    },
    {
      "cell_type": "code",
      "metadata": {
        "id": "Pnx8SqKZ0Zgs",
        "colab_type": "code",
        "colab": {
          "base_uri": "https://localhost:8080/",
          "height": 52
        },
        "outputId": "bafc6b42-421f-4d9a-e88c-3bb7bb365499"
      },
      "source": [
        "db"
      ],
      "execution_count": 17,
      "outputs": [
        {
          "output_type": "execute_result",
          "data": {
            "text/plain": [
              "tensor([0, 1, 1, 0, 0, 1, 1, 1, 0, 0, 0, 0, 0, 0, 0, 1, 1, 1, 0, 1],\n",
              "       dtype=torch.uint8)"
            ]
          },
          "metadata": {
            "tags": []
          },
          "execution_count": 17
        }
      ]
    },
    {
      "cell_type": "code",
      "metadata": {
        "id": "wUgP6QAQ5lea",
        "colab_type": "code",
        "colab": {
          "base_uri": "https://localhost:8080/",
          "height": 711
        },
        "outputId": "2317e194-66ff-4873-ac26-ca966b236876"
      },
      "source": [
        "pdbs"
      ],
      "execution_count": 18,
      "outputs": [
        {
          "output_type": "execute_result",
          "data": {
            "text/plain": [
              "[tensor([1, 1, 0, 0, 1, 1, 1, 0, 0, 0, 0, 0, 0, 0, 1, 1, 1, 0, 1],\n",
              "        dtype=torch.uint8),\n",
              " tensor([0, 1, 0, 0, 1, 1, 1, 0, 0, 0, 0, 0, 0, 0, 1, 1, 1, 0, 1],\n",
              "        dtype=torch.uint8),\n",
              " tensor([0, 1, 0, 0, 1, 1, 1, 0, 0, 0, 0, 0, 0, 0, 1, 1, 1, 0, 1],\n",
              "        dtype=torch.uint8),\n",
              " tensor([0, 1, 1, 0, 1, 1, 1, 0, 0, 0, 0, 0, 0, 0, 1, 1, 1, 0, 1],\n",
              "        dtype=torch.uint8),\n",
              " tensor([0, 1, 1, 0, 1, 1, 1, 0, 0, 0, 0, 0, 0, 0, 1, 1, 1, 0, 1],\n",
              "        dtype=torch.uint8),\n",
              " tensor([0, 1, 1, 0, 0, 1, 1, 0, 0, 0, 0, 0, 0, 0, 1, 1, 1, 0, 1],\n",
              "        dtype=torch.uint8),\n",
              " tensor([0, 1, 1, 0, 0, 1, 1, 0, 0, 0, 0, 0, 0, 0, 1, 1, 1, 0, 1],\n",
              "        dtype=torch.uint8),\n",
              " tensor([0, 1, 1, 0, 0, 1, 1, 0, 0, 0, 0, 0, 0, 0, 1, 1, 1, 0, 1],\n",
              "        dtype=torch.uint8),\n",
              " tensor([0, 1, 1, 0, 0, 1, 1, 1, 0, 0, 0, 0, 0, 0, 1, 1, 1, 0, 1],\n",
              "        dtype=torch.uint8),\n",
              " tensor([0, 1, 1, 0, 0, 1, 1, 1, 0, 0, 0, 0, 0, 0, 1, 1, 1, 0, 1],\n",
              "        dtype=torch.uint8),\n",
              " tensor([0, 1, 1, 0, 0, 1, 1, 1, 0, 0, 0, 0, 0, 0, 1, 1, 1, 0, 1],\n",
              "        dtype=torch.uint8),\n",
              " tensor([0, 1, 1, 0, 0, 1, 1, 1, 0, 0, 0, 0, 0, 0, 1, 1, 1, 0, 1],\n",
              "        dtype=torch.uint8),\n",
              " tensor([0, 1, 1, 0, 0, 1, 1, 1, 0, 0, 0, 0, 0, 0, 1, 1, 1, 0, 1],\n",
              "        dtype=torch.uint8),\n",
              " tensor([0, 1, 1, 0, 0, 1, 1, 1, 0, 0, 0, 0, 0, 0, 1, 1, 1, 0, 1],\n",
              "        dtype=torch.uint8),\n",
              " tensor([0, 1, 1, 0, 0, 1, 1, 1, 0, 0, 0, 0, 0, 0, 1, 1, 1, 0, 1],\n",
              "        dtype=torch.uint8),\n",
              " tensor([0, 1, 1, 0, 0, 1, 1, 1, 0, 0, 0, 0, 0, 0, 0, 1, 1, 0, 1],\n",
              "        dtype=torch.uint8),\n",
              " tensor([0, 1, 1, 0, 0, 1, 1, 1, 0, 0, 0, 0, 0, 0, 0, 1, 1, 0, 1],\n",
              "        dtype=torch.uint8),\n",
              " tensor([0, 1, 1, 0, 0, 1, 1, 1, 0, 0, 0, 0, 0, 0, 0, 1, 1, 0, 1],\n",
              "        dtype=torch.uint8),\n",
              " tensor([0, 1, 1, 0, 0, 1, 1, 1, 0, 0, 0, 0, 0, 0, 0, 1, 1, 1, 1],\n",
              "        dtype=torch.uint8),\n",
              " tensor([0, 1, 1, 0, 0, 1, 1, 1, 0, 0, 0, 0, 0, 0, 0, 1, 1, 1, 0],\n",
              "        dtype=torch.uint8)]"
            ]
          },
          "metadata": {
            "tags": []
          },
          "execution_count": 18
        }
      ]
    },
    {
      "cell_type": "code",
      "metadata": {
        "id": "ECHqYTYB1D0S",
        "colab_type": "code",
        "colab": {}
      },
      "source": [
        "def query(db):\n",
        "  return db.sum()"
      ],
      "execution_count": 0,
      "outputs": []
    },
    {
      "cell_type": "code",
      "metadata": {
        "id": "7hzBay8H36NZ",
        "colab_type": "code",
        "colab": {}
      },
      "source": [
        "full_db_result = query(db)"
      ],
      "execution_count": 0,
      "outputs": []
    },
    {
      "cell_type": "code",
      "metadata": {
        "id": "_EIfcmGa4kw0",
        "colab_type": "code",
        "colab": {}
      },
      "source": [
        "sensitivity = 0\n",
        "for pdb in pdbs:\n",
        "  pdb_result = query(pdb)\n",
        "  \n",
        "  db_distance = torch.abs(pdb_result - full_db_result)\n",
        "  \n",
        "  if db_distance > sensitivity:\n",
        "    sensitivity = db_distance\n",
        "  \n",
        "  "
      ],
      "execution_count": 0,
      "outputs": []
    },
    {
      "cell_type": "code",
      "metadata": {
        "id": "qMrP3ZuW36dm",
        "colab_type": "code",
        "colab": {
          "base_uri": "https://localhost:8080/",
          "height": 35
        },
        "outputId": "5d080215-077a-4f7f-a847-eb9e12e576ab"
      },
      "source": [
        "sensitivity"
      ],
      "execution_count": 22,
      "outputs": [
        {
          "output_type": "execute_result",
          "data": {
            "text/plain": [
              "tensor(1)"
            ]
          },
          "metadata": {
            "tags": []
          },
          "execution_count": 22
        }
      ]
    },
    {
      "cell_type": "code",
      "metadata": {
        "id": "aiko9dRu5ut8",
        "colab_type": "code",
        "colab": {}
      },
      "source": [
        "def sensitivity (query,n_entries=1000):\n",
        "  db,pdbs = create_db_and_parallels(n_entries)\n",
        "  \n",
        "  full_db_result = query(db)\n",
        "  \n",
        "  max_distance = 0\n",
        "  for pdb in pdbs:\n",
        "    pdb_result = query(pdb)\n",
        "    db_distance = torch.abs(pdb_result - full_db_result)\n",
        "    if db_distance > max_distance:\n",
        "      max_distance = db_distance\n",
        "  return max_distance"
      ],
      "execution_count": 0,
      "outputs": []
    },
    {
      "cell_type": "code",
      "metadata": {
        "id": "wb1RNbdrink8",
        "colab_type": "code",
        "colab": {}
      },
      "source": [
        "def query(db):\n",
        "  return db.float().mean()"
      ],
      "execution_count": 0,
      "outputs": []
    },
    {
      "cell_type": "code",
      "metadata": {
        "id": "YOW6OBZJiyA5",
        "colab_type": "code",
        "colab": {
          "base_uri": "https://localhost:8080/",
          "height": 35
        },
        "outputId": "bf74991b-a2ca-4856-b002-018bd0e30d4d"
      },
      "source": [
        "sensitivity(query)"
      ],
      "execution_count": 25,
      "outputs": [
        {
          "output_type": "execute_result",
          "data": {
            "text/plain": [
              "tensor(0.0005)"
            ]
          },
          "metadata": {
            "tags": []
          },
          "execution_count": 25
        }
      ]
    },
    {
      "cell_type": "code",
      "metadata": {
        "id": "lLhIUjymjN-V",
        "colab_type": "code",
        "colab": {}
      },
      "source": [
        "def query(db,threshold=5):\n",
        "  return (db.sum()>threshold).float()"
      ],
      "execution_count": 0,
      "outputs": []
    },
    {
      "cell_type": "code",
      "metadata": {
        "id": "tSmvZf3DpVQo",
        "colab_type": "code",
        "colab": {
          "base_uri": "https://localhost:8080/",
          "height": 191
        },
        "outputId": "578dd4ac-5e73-4966-fb23-9bad0d7888f8"
      },
      "source": [
        "for i in range(10):\n",
        "  sens_f = sensitivity(query,n_entries = 10)\n",
        "  print(sens_f)"
      ],
      "execution_count": 27,
      "outputs": [
        {
          "output_type": "stream",
          "text": [
            "0\n",
            "0\n",
            "0\n",
            "tensor(1.)\n",
            "0\n",
            "0\n",
            "0\n",
            "0\n",
            "0\n",
            "0\n"
          ],
          "name": "stdout"
        }
      ]
    },
    {
      "cell_type": "code",
      "metadata": {
        "id": "DGcsdn1NjcTi",
        "colab_type": "code",
        "colab": {}
      },
      "source": [
        "db,_ = create_db_and_parallels(100)\n"
      ],
      "execution_count": 0,
      "outputs": []
    },
    {
      "cell_type": "code",
      "metadata": {
        "id": "NgVYrHc5qdVG",
        "colab_type": "code",
        "colab": {}
      },
      "source": [
        "pdb = get_parallel_db(db,remove_index=10)"
      ],
      "execution_count": 0,
      "outputs": []
    },
    {
      "cell_type": "code",
      "metadata": {
        "id": "wg9n7o60qeLq",
        "colab_type": "code",
        "colab": {
          "base_uri": "https://localhost:8080/",
          "height": 35
        },
        "outputId": "da4c84ec-96f5-433c-bd77-5e2d1a81b3e2"
      },
      "source": [
        "db[10]"
      ],
      "execution_count": 30,
      "outputs": [
        {
          "output_type": "execute_result",
          "data": {
            "text/plain": [
              "tensor(1, dtype=torch.uint8)"
            ]
          },
          "metadata": {
            "tags": []
          },
          "execution_count": 30
        }
      ]
    },
    {
      "cell_type": "code",
      "metadata": {
        "id": "2lTYM3cvu2J3",
        "colab_type": "code",
        "colab": {
          "base_uri": "https://localhost:8080/",
          "height": 35
        },
        "outputId": "7ae94976-881c-44a1-afd4-cabf8aa06c92"
      },
      "source": [
        "sum(db)"
      ],
      "execution_count": 31,
      "outputs": [
        {
          "output_type": "execute_result",
          "data": {
            "text/plain": [
              "tensor(55, dtype=torch.uint8)"
            ]
          },
          "metadata": {
            "tags": []
          },
          "execution_count": 31
        }
      ]
    },
    {
      "cell_type": "code",
      "metadata": {
        "id": "s_iMI5NBtUDi",
        "colab_type": "code",
        "colab": {
          "base_uri": "https://localhost:8080/",
          "height": 35
        },
        "outputId": "dc1ef008-14ed-4966-b2a4-7dbbc3a7c378"
      },
      "source": [
        "#differencing attack using sum query\n",
        "sum(db)-sum(pdb)"
      ],
      "execution_count": 32,
      "outputs": [
        {
          "output_type": "execute_result",
          "data": {
            "text/plain": [
              "tensor(1, dtype=torch.uint8)"
            ]
          },
          "metadata": {
            "tags": []
          },
          "execution_count": 32
        }
      ]
    },
    {
      "cell_type": "code",
      "metadata": {
        "id": "vnYNIjkft48F",
        "colab_type": "code",
        "colab": {
          "base_uri": "https://localhost:8080/",
          "height": 35
        },
        "outputId": "8b4c2bfe-6edc-499d-e322-edb7fa5e0587"
      },
      "source": [
        "#differencing attack using mean query\n",
        "\n",
        "(sum(db).float()/len(db)) - (sum(pdb).float()/len(pdb))"
      ],
      "execution_count": 33,
      "outputs": [
        {
          "output_type": "execute_result",
          "data": {
            "text/plain": [
              "tensor(0.0045)"
            ]
          },
          "metadata": {
            "tags": []
          },
          "execution_count": 33
        }
      ]
    },
    {
      "cell_type": "code",
      "metadata": {
        "id": "jExU4otCt5Gk",
        "colab_type": "code",
        "colab": {
          "base_uri": "https://localhost:8080/",
          "height": 35
        },
        "outputId": "f3e695ef-56d4-4d25-f3b4-4427183508cd"
      },
      "source": [
        "#differencing attack using threshold query\n",
        "\n",
        "(sum(db).float()>50) - (sum(pdb).float()>50)"
      ],
      "execution_count": 34,
      "outputs": [
        {
          "output_type": "execute_result",
          "data": {
            "text/plain": [
              "tensor(0, dtype=torch.uint8)"
            ]
          },
          "metadata": {
            "tags": []
          },
          "execution_count": 34
        }
      ]
    },
    {
      "cell_type": "code",
      "metadata": {
        "id": "gU2GjYeFt5fE",
        "colab_type": "code",
        "colab": {}
      },
      "source": [
        "db,pdbs = create_db_and_parallels(100)"
      ],
      "execution_count": 0,
      "outputs": []
    },
    {
      "cell_type": "code",
      "metadata": {
        "id": "4aoMgz75txys",
        "colab_type": "code",
        "colab": {
          "base_uri": "https://localhost:8080/",
          "height": 104
        },
        "outputId": "709f0ba4-be22-444b-ef42-a0c92e1a8fb0"
      },
      "source": [
        "#Actual values from people\n",
        "db"
      ],
      "execution_count": 39,
      "outputs": [
        {
          "output_type": "execute_result",
          "data": {
            "text/plain": [
              "tensor([1, 1, 1, 0, 0, 1, 0, 1, 0, 1, 0, 1, 1, 1, 0, 0, 0, 1, 0, 0, 0, 0, 1, 1,\n",
              "        0, 1, 1, 0, 0, 1, 0, 0, 0, 1, 0, 0, 1, 1, 0, 1, 1, 1, 1, 0, 1, 1, 0, 0,\n",
              "        1, 0, 0, 0, 0, 1, 1, 1, 1, 1, 0, 0, 1, 0, 0, 1, 1, 1, 1, 1, 1, 0, 1, 0,\n",
              "        1, 1, 1, 0, 0, 1, 1, 1, 0, 0, 0, 1, 0, 0, 0, 0, 0, 1, 1, 0, 1, 1, 1, 0,\n",
              "        1, 0, 1, 1], dtype=torch.uint8)"
            ]
          },
          "metadata": {
            "tags": []
          },
          "execution_count": 39
        }
      ]
    },
    {
      "cell_type": "code",
      "metadata": {
        "id": "6YuT1y6_tyFr",
        "colab_type": "code",
        "colab": {}
      },
      "source": [
        "#Local differential privacy\n",
        "\n",
        "def query(db):\n",
        "  \n",
        "  true_result = torch.mean(db.float())\n",
        "  \n",
        "  first_coin_flip = (torch.rand(len(db))>0.5).float()\n",
        "  second_coin_flip = (torch.rand(len(db))>0.5).float()\n",
        "  \n",
        "  augmented_database = (db.float() * first_coin_flip) + ((1 - first_coin_flip) * second_coin_flip)\n",
        "  \n",
        "  db_result= torch.mean((augmented_database.float()) * 2) - 0.5\n",
        "  \n",
        "  return db_result , true_result\n",
        "\n",
        "  "
      ],
      "execution_count": 0,
      "outputs": []
    },
    {
      "cell_type": "code",
      "metadata": {
        "id": "Wvta9lKsu46p",
        "colab_type": "code",
        "colab": {
          "base_uri": "https://localhost:8080/",
          "height": 52
        },
        "outputId": "58137d8a-0f56-4e39-dfb8-0ee5d3008224"
      },
      "source": [
        "db,pdbs = create_db_and_parallels(100)\n",
        "private_result , true_result = query(db)\n",
        "print(\"With Noise:\" +str(private_result))\n",
        "print(\"Without Noise:\" +str(true_result))"
      ],
      "execution_count": 66,
      "outputs": [
        {
          "output_type": "stream",
          "text": [
            "With Noise:tensor(0.5000)\n",
            "Without Noise:tensor(0.3000)\n"
          ],
          "name": "stdout"
        }
      ]
    },
    {
      "cell_type": "code",
      "metadata": {
        "id": "ek6duWcawCgH",
        "colab_type": "code",
        "colab": {
          "base_uri": "https://localhost:8080/",
          "height": 35
        },
        "outputId": "d931f630-d239-4a95-fb85-01f451549b73"
      },
      "source": [
        " "
      ],
      "execution_count": 55,
      "outputs": [
        {
          "output_type": "execute_result",
          "data": {
            "text/plain": [
              "tensor(0.5600)"
            ]
          },
          "metadata": {
            "tags": []
          },
          "execution_count": 55
        }
      ]
    },
    {
      "cell_type": "code",
      "metadata": {
        "id": "Pu_88i9VxsDt",
        "colab_type": "code",
        "colab": {}
      },
      "source": [
        ""
      ],
      "execution_count": 0,
      "outputs": []
    },
    {
      "cell_type": "code",
      "metadata": {
        "id": "czLpJbRmvn4y",
        "colab_type": "code",
        "colab": {
          "base_uri": "https://localhost:8080/",
          "height": 35
        },
        "outputId": "68ed3a91-44bc-4dc6-9687-f736e713ab81"
      },
      "source": [
        ""
      ],
      "execution_count": 38,
      "outputs": [
        {
          "output_type": "execute_result",
          "data": {
            "text/plain": [
              "tensor(0.5300)"
            ]
          },
          "metadata": {
            "tags": []
          },
          "execution_count": 38
        }
      ]
    },
    {
      "cell_type": "code",
      "metadata": {
        "id": "1oO3RJouvoGZ",
        "colab_type": "code",
        "colab": {}
      },
      "source": [
        ""
      ],
      "execution_count": 0,
      "outputs": []
    }
  ]
}