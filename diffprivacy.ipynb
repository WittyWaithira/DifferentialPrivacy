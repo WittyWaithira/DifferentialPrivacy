{
  "nbformat": 4,
  "nbformat_minor": 0,
  "metadata": {
    "colab": {
      "name": "diffprivacy.ipynb",
      "version": "0.3.2",
      "provenance": [],
      "collapsed_sections": [],
      "include_colab_link": true
    },
    "kernelspec": {
      "name": "python3",
      "display_name": "Python 3"
    }
  },
  "cells": [
    {
      "cell_type": "markdown",
      "metadata": {
        "id": "view-in-github",
        "colab_type": "text"
      },
      "source": [
        "<a href=\"https://colab.research.google.com/github/WittyWaithira/DifferentialPrivacy/blob/master/diffprivacy.ipynb\" target=\"_parent\"><img src=\"https://colab.research.google.com/assets/colab-badge.svg\" alt=\"Open In Colab\"/></a>"
      ]
    },
    {
      "cell_type": "code",
      "metadata": {
        "id": "CrErUFUCsx25",
        "colab_type": "code",
        "colab": {
          "base_uri": "https://localhost:8080/",
          "height": 35
        },
        "outputId": "2ff61a72-aeae-4e42-8be5-25c902dddfab"
      },
      "source": [
        "import torch\n",
        "\n",
        "# the number of entries in our database\n",
        "num_entries = 5000\n",
        "\n",
        "db = torch.rand(num_entries)> 0.5\n",
        "db"
      ],
      "execution_count": 7,
      "outputs": [
        {
          "output_type": "execute_result",
          "data": {
            "text/plain": [
              "tensor([0, 0, 1,  ..., 1, 0, 1], dtype=torch.uint8)"
            ]
          },
          "metadata": {
            "tags": []
          },
          "execution_count": 7
        }
      ]
    },
    {
      "cell_type": "code",
      "metadata": {
        "id": "xYql6uEQtlmt",
        "colab_type": "code",
        "colab": {
          "base_uri": "https://localhost:8080/",
          "height": 35
        },
        "outputId": "60d1e3c4-fc8b-4420-8f4c-ea4d6de5d4a7"
      },
      "source": [
        "db = torch.rand(num_entries)> 0.5\n",
        "db"
      ],
      "execution_count": 8,
      "outputs": [
        {
          "output_type": "execute_result",
          "data": {
            "text/plain": [
              "tensor([0, 0, 0,  ..., 1, 1, 0], dtype=torch.uint8)"
            ]
          },
          "metadata": {
            "tags": []
          },
          "execution_count": 8
        }
      ]
    },
    {
      "cell_type": "code",
      "metadata": {
        "id": "_5QXHim6tmLI",
        "colab_type": "code",
        "colab": {
          "base_uri": "https://localhost:8080/",
          "height": 35
        },
        "outputId": "9959d4ac-e1dc-43b5-9608-3d4560c547d7"
      },
      "source": [
        "db.shape"
      ],
      "execution_count": 9,
      "outputs": [
        {
          "output_type": "execute_result",
          "data": {
            "text/plain": [
              "torch.Size([5000])"
            ]
          },
          "metadata": {
            "tags": []
          },
          "execution_count": 9
        }
      ]
    },
    {
      "cell_type": "code",
      "metadata": {
        "id": "2QT6iOZjt2ge",
        "colab_type": "code",
        "colab": {
          "base_uri": "https://localhost:8080/",
          "height": 35
        },
        "outputId": "7e4543fc-4d8b-4bd7-cf30-e632e5562b12"
      },
      "source": [
        "db[0:5]"
      ],
      "execution_count": 10,
      "outputs": [
        {
          "output_type": "execute_result",
          "data": {
            "text/plain": [
              "tensor([0, 0, 0, 1, 1], dtype=torch.uint8)"
            ]
          },
          "metadata": {
            "tags": []
          },
          "execution_count": 10
        }
      ]
    },
    {
      "cell_type": "code",
      "metadata": {
        "id": "YBSbUCNMt2s1",
        "colab_type": "code",
        "colab": {}
      },
      "source": [
        "remove_index = 2"
      ],
      "execution_count": 0,
      "outputs": []
    },
    {
      "cell_type": "code",
      "metadata": {
        "id": "7BXsEQL_uR53",
        "colab_type": "code",
        "colab": {}
      },
      "source": [
        "def get_parallel_db(db,remove_index):\n",
        "  return torch.cat((db[0:remove_index],\n",
        "                    db[remove_index+1:]))"
      ],
      "execution_count": 0,
      "outputs": []
    },
    {
      "cell_type": "code",
      "metadata": {
        "id": "qYNktBNwuSEa",
        "colab_type": "code",
        "colab": {
          "base_uri": "https://localhost:8080/",
          "height": 35
        },
        "outputId": "d33bcdef-ae6c-4c3d-ac4c-67dc988761f6"
      },
      "source": [
        "get_parallel_db(db,0)"
      ],
      "execution_count": 13,
      "outputs": [
        {
          "output_type": "execute_result",
          "data": {
            "text/plain": [
              "tensor([0, 0, 1,  ..., 1, 1, 0], dtype=torch.uint8)"
            ]
          },
          "metadata": {
            "tags": []
          },
          "execution_count": 13
        }
      ]
    },
    {
      "cell_type": "code",
      "metadata": {
        "id": "bbDCgdecuW8J",
        "colab_type": "code",
        "colab": {}
      },
      "source": [
        "def get_parallel_dbs(db):\n",
        "  parallel_dbs = list()\n",
        "  \n",
        "  for i in range(len(db)):\n",
        "    pdb = get_parallel_db(db,i)\n",
        "    parallel_dbs.append(pdb)\n",
        "    \n",
        "  return parallel_dbs\n",
        "  \n",
        "  "
      ],
      "execution_count": 0,
      "outputs": []
    },
    {
      "cell_type": "code",
      "metadata": {
        "id": "eQgdXOzPxG6-",
        "colab_type": "code",
        "colab": {}
      },
      "source": [
        "pdbs = get_parallel_dbs(db)"
      ],
      "execution_count": 0,
      "outputs": []
    },
    {
      "cell_type": "code",
      "metadata": {
        "id": "S1_oqT3yudPp",
        "colab_type": "code",
        "colab": {
          "base_uri": "https://localhost:8080/",
          "height": 1000
        },
        "outputId": "0eb2a75b-343f-41e6-f48e-9ee46d888bf7"
      },
      "source": [
        "pdbs"
      ],
      "execution_count": 16,
      "outputs": [
        {
          "output_type": "execute_result",
          "data": {
            "text/plain": [
              "[tensor([0, 0, 1,  ..., 1, 1, 0], dtype=torch.uint8),\n",
              " tensor([0, 0, 1,  ..., 1, 1, 0], dtype=torch.uint8),\n",
              " tensor([0, 0, 1,  ..., 1, 1, 0], dtype=torch.uint8),\n",
              " tensor([0, 0, 0,  ..., 1, 1, 0], dtype=torch.uint8),\n",
              " tensor([0, 0, 0,  ..., 1, 1, 0], dtype=torch.uint8),\n",
              " tensor([0, 0, 0,  ..., 1, 1, 0], dtype=torch.uint8),\n",
              " tensor([0, 0, 0,  ..., 1, 1, 0], dtype=torch.uint8),\n",
              " tensor([0, 0, 0,  ..., 1, 1, 0], dtype=torch.uint8),\n",
              " tensor([0, 0, 0,  ..., 1, 1, 0], dtype=torch.uint8),\n",
              " tensor([0, 0, 0,  ..., 1, 1, 0], dtype=torch.uint8),\n",
              " tensor([0, 0, 0,  ..., 1, 1, 0], dtype=torch.uint8),\n",
              " tensor([0, 0, 0,  ..., 1, 1, 0], dtype=torch.uint8),\n",
              " tensor([0, 0, 0,  ..., 1, 1, 0], dtype=torch.uint8),\n",
              " tensor([0, 0, 0,  ..., 1, 1, 0], dtype=torch.uint8),\n",
              " tensor([0, 0, 0,  ..., 1, 1, 0], dtype=torch.uint8),\n",
              " tensor([0, 0, 0,  ..., 1, 1, 0], dtype=torch.uint8),\n",
              " tensor([0, 0, 0,  ..., 1, 1, 0], dtype=torch.uint8),\n",
              " tensor([0, 0, 0,  ..., 1, 1, 0], dtype=torch.uint8),\n",
              " tensor([0, 0, 0,  ..., 1, 1, 0], dtype=torch.uint8),\n",
              " tensor([0, 0, 0,  ..., 1, 1, 0], dtype=torch.uint8),\n",
              " tensor([0, 0, 0,  ..., 1, 1, 0], dtype=torch.uint8),\n",
              " tensor([0, 0, 0,  ..., 1, 1, 0], dtype=torch.uint8),\n",
              " tensor([0, 0, 0,  ..., 1, 1, 0], dtype=torch.uint8),\n",
              " tensor([0, 0, 0,  ..., 1, 1, 0], dtype=torch.uint8),\n",
              " tensor([0, 0, 0,  ..., 1, 1, 0], dtype=torch.uint8),\n",
              " tensor([0, 0, 0,  ..., 1, 1, 0], dtype=torch.uint8),\n",
              " tensor([0, 0, 0,  ..., 1, 1, 0], dtype=torch.uint8),\n",
              " tensor([0, 0, 0,  ..., 1, 1, 0], dtype=torch.uint8),\n",
              " tensor([0, 0, 0,  ..., 1, 1, 0], dtype=torch.uint8),\n",
              " tensor([0, 0, 0,  ..., 1, 1, 0], dtype=torch.uint8),\n",
              " tensor([0, 0, 0,  ..., 1, 1, 0], dtype=torch.uint8),\n",
              " tensor([0, 0, 0,  ..., 1, 1, 0], dtype=torch.uint8),\n",
              " tensor([0, 0, 0,  ..., 1, 1, 0], dtype=torch.uint8),\n",
              " tensor([0, 0, 0,  ..., 1, 1, 0], dtype=torch.uint8),\n",
              " tensor([0, 0, 0,  ..., 1, 1, 0], dtype=torch.uint8),\n",
              " tensor([0, 0, 0,  ..., 1, 1, 0], dtype=torch.uint8),\n",
              " tensor([0, 0, 0,  ..., 1, 1, 0], dtype=torch.uint8),\n",
              " tensor([0, 0, 0,  ..., 1, 1, 0], dtype=torch.uint8),\n",
              " tensor([0, 0, 0,  ..., 1, 1, 0], dtype=torch.uint8),\n",
              " tensor([0, 0, 0,  ..., 1, 1, 0], dtype=torch.uint8),\n",
              " tensor([0, 0, 0,  ..., 1, 1, 0], dtype=torch.uint8),\n",
              " tensor([0, 0, 0,  ..., 1, 1, 0], dtype=torch.uint8),\n",
              " tensor([0, 0, 0,  ..., 1, 1, 0], dtype=torch.uint8),\n",
              " tensor([0, 0, 0,  ..., 1, 1, 0], dtype=torch.uint8),\n",
              " tensor([0, 0, 0,  ..., 1, 1, 0], dtype=torch.uint8),\n",
              " tensor([0, 0, 0,  ..., 1, 1, 0], dtype=torch.uint8),\n",
              " tensor([0, 0, 0,  ..., 1, 1, 0], dtype=torch.uint8),\n",
              " tensor([0, 0, 0,  ..., 1, 1, 0], dtype=torch.uint8),\n",
              " tensor([0, 0, 0,  ..., 1, 1, 0], dtype=torch.uint8),\n",
              " tensor([0, 0, 0,  ..., 1, 1, 0], dtype=torch.uint8),\n",
              " tensor([0, 0, 0,  ..., 1, 1, 0], dtype=torch.uint8),\n",
              " tensor([0, 0, 0,  ..., 1, 1, 0], dtype=torch.uint8),\n",
              " tensor([0, 0, 0,  ..., 1, 1, 0], dtype=torch.uint8),\n",
              " tensor([0, 0, 0,  ..., 1, 1, 0], dtype=torch.uint8),\n",
              " tensor([0, 0, 0,  ..., 1, 1, 0], dtype=torch.uint8),\n",
              " tensor([0, 0, 0,  ..., 1, 1, 0], dtype=torch.uint8),\n",
              " tensor([0, 0, 0,  ..., 1, 1, 0], dtype=torch.uint8),\n",
              " tensor([0, 0, 0,  ..., 1, 1, 0], dtype=torch.uint8),\n",
              " tensor([0, 0, 0,  ..., 1, 1, 0], dtype=torch.uint8),\n",
              " tensor([0, 0, 0,  ..., 1, 1, 0], dtype=torch.uint8),\n",
              " tensor([0, 0, 0,  ..., 1, 1, 0], dtype=torch.uint8),\n",
              " tensor([0, 0, 0,  ..., 1, 1, 0], dtype=torch.uint8),\n",
              " tensor([0, 0, 0,  ..., 1, 1, 0], dtype=torch.uint8),\n",
              " tensor([0, 0, 0,  ..., 1, 1, 0], dtype=torch.uint8),\n",
              " tensor([0, 0, 0,  ..., 1, 1, 0], dtype=torch.uint8),\n",
              " tensor([0, 0, 0,  ..., 1, 1, 0], dtype=torch.uint8),\n",
              " tensor([0, 0, 0,  ..., 1, 1, 0], dtype=torch.uint8),\n",
              " tensor([0, 0, 0,  ..., 1, 1, 0], dtype=torch.uint8),\n",
              " tensor([0, 0, 0,  ..., 1, 1, 0], dtype=torch.uint8),\n",
              " tensor([0, 0, 0,  ..., 1, 1, 0], dtype=torch.uint8),\n",
              " tensor([0, 0, 0,  ..., 1, 1, 0], dtype=torch.uint8),\n",
              " tensor([0, 0, 0,  ..., 1, 1, 0], dtype=torch.uint8),\n",
              " tensor([0, 0, 0,  ..., 1, 1, 0], dtype=torch.uint8),\n",
              " tensor([0, 0, 0,  ..., 1, 1, 0], dtype=torch.uint8),\n",
              " tensor([0, 0, 0,  ..., 1, 1, 0], dtype=torch.uint8),\n",
              " tensor([0, 0, 0,  ..., 1, 1, 0], dtype=torch.uint8),\n",
              " tensor([0, 0, 0,  ..., 1, 1, 0], dtype=torch.uint8),\n",
              " tensor([0, 0, 0,  ..., 1, 1, 0], dtype=torch.uint8),\n",
              " tensor([0, 0, 0,  ..., 1, 1, 0], dtype=torch.uint8),\n",
              " tensor([0, 0, 0,  ..., 1, 1, 0], dtype=torch.uint8),\n",
              " tensor([0, 0, 0,  ..., 1, 1, 0], dtype=torch.uint8),\n",
              " tensor([0, 0, 0,  ..., 1, 1, 0], dtype=torch.uint8),\n",
              " tensor([0, 0, 0,  ..., 1, 1, 0], dtype=torch.uint8),\n",
              " tensor([0, 0, 0,  ..., 1, 1, 0], dtype=torch.uint8),\n",
              " tensor([0, 0, 0,  ..., 1, 1, 0], dtype=torch.uint8),\n",
              " tensor([0, 0, 0,  ..., 1, 1, 0], dtype=torch.uint8),\n",
              " tensor([0, 0, 0,  ..., 1, 1, 0], dtype=torch.uint8),\n",
              " tensor([0, 0, 0,  ..., 1, 1, 0], dtype=torch.uint8),\n",
              " tensor([0, 0, 0,  ..., 1, 1, 0], dtype=torch.uint8),\n",
              " tensor([0, 0, 0,  ..., 1, 1, 0], dtype=torch.uint8),\n",
              " tensor([0, 0, 0,  ..., 1, 1, 0], dtype=torch.uint8),\n",
              " tensor([0, 0, 0,  ..., 1, 1, 0], dtype=torch.uint8),\n",
              " tensor([0, 0, 0,  ..., 1, 1, 0], dtype=torch.uint8),\n",
              " tensor([0, 0, 0,  ..., 1, 1, 0], dtype=torch.uint8),\n",
              " tensor([0, 0, 0,  ..., 1, 1, 0], dtype=torch.uint8),\n",
              " tensor([0, 0, 0,  ..., 1, 1, 0], dtype=torch.uint8),\n",
              " tensor([0, 0, 0,  ..., 1, 1, 0], dtype=torch.uint8),\n",
              " tensor([0, 0, 0,  ..., 1, 1, 0], dtype=torch.uint8),\n",
              " tensor([0, 0, 0,  ..., 1, 1, 0], dtype=torch.uint8),\n",
              " tensor([0, 0, 0,  ..., 1, 1, 0], dtype=torch.uint8),\n",
              " tensor([0, 0, 0,  ..., 1, 1, 0], dtype=torch.uint8),\n",
              " tensor([0, 0, 0,  ..., 1, 1, 0], dtype=torch.uint8),\n",
              " tensor([0, 0, 0,  ..., 1, 1, 0], dtype=torch.uint8),\n",
              " tensor([0, 0, 0,  ..., 1, 1, 0], dtype=torch.uint8),\n",
              " tensor([0, 0, 0,  ..., 1, 1, 0], dtype=torch.uint8),\n",
              " tensor([0, 0, 0,  ..., 1, 1, 0], dtype=torch.uint8),\n",
              " tensor([0, 0, 0,  ..., 1, 1, 0], dtype=torch.uint8),\n",
              " tensor([0, 0, 0,  ..., 1, 1, 0], dtype=torch.uint8),\n",
              " tensor([0, 0, 0,  ..., 1, 1, 0], dtype=torch.uint8),\n",
              " tensor([0, 0, 0,  ..., 1, 1, 0], dtype=torch.uint8),\n",
              " tensor([0, 0, 0,  ..., 1, 1, 0], dtype=torch.uint8),\n",
              " tensor([0, 0, 0,  ..., 1, 1, 0], dtype=torch.uint8),\n",
              " tensor([0, 0, 0,  ..., 1, 1, 0], dtype=torch.uint8),\n",
              " tensor([0, 0, 0,  ..., 1, 1, 0], dtype=torch.uint8),\n",
              " tensor([0, 0, 0,  ..., 1, 1, 0], dtype=torch.uint8),\n",
              " tensor([0, 0, 0,  ..., 1, 1, 0], dtype=torch.uint8),\n",
              " tensor([0, 0, 0,  ..., 1, 1, 0], dtype=torch.uint8),\n",
              " tensor([0, 0, 0,  ..., 1, 1, 0], dtype=torch.uint8),\n",
              " tensor([0, 0, 0,  ..., 1, 1, 0], dtype=torch.uint8),\n",
              " tensor([0, 0, 0,  ..., 1, 1, 0], dtype=torch.uint8),\n",
              " tensor([0, 0, 0,  ..., 1, 1, 0], dtype=torch.uint8),\n",
              " tensor([0, 0, 0,  ..., 1, 1, 0], dtype=torch.uint8),\n",
              " tensor([0, 0, 0,  ..., 1, 1, 0], dtype=torch.uint8),\n",
              " tensor([0, 0, 0,  ..., 1, 1, 0], dtype=torch.uint8),\n",
              " tensor([0, 0, 0,  ..., 1, 1, 0], dtype=torch.uint8),\n",
              " tensor([0, 0, 0,  ..., 1, 1, 0], dtype=torch.uint8),\n",
              " tensor([0, 0, 0,  ..., 1, 1, 0], dtype=torch.uint8),\n",
              " tensor([0, 0, 0,  ..., 1, 1, 0], dtype=torch.uint8),\n",
              " tensor([0, 0, 0,  ..., 1, 1, 0], dtype=torch.uint8),\n",
              " tensor([0, 0, 0,  ..., 1, 1, 0], dtype=torch.uint8),\n",
              " tensor([0, 0, 0,  ..., 1, 1, 0], dtype=torch.uint8),\n",
              " tensor([0, 0, 0,  ..., 1, 1, 0], dtype=torch.uint8),\n",
              " tensor([0, 0, 0,  ..., 1, 1, 0], dtype=torch.uint8),\n",
              " tensor([0, 0, 0,  ..., 1, 1, 0], dtype=torch.uint8),\n",
              " tensor([0, 0, 0,  ..., 1, 1, 0], dtype=torch.uint8),\n",
              " tensor([0, 0, 0,  ..., 1, 1, 0], dtype=torch.uint8),\n",
              " tensor([0, 0, 0,  ..., 1, 1, 0], dtype=torch.uint8),\n",
              " tensor([0, 0, 0,  ..., 1, 1, 0], dtype=torch.uint8),\n",
              " tensor([0, 0, 0,  ..., 1, 1, 0], dtype=torch.uint8),\n",
              " tensor([0, 0, 0,  ..., 1, 1, 0], dtype=torch.uint8),\n",
              " tensor([0, 0, 0,  ..., 1, 1, 0], dtype=torch.uint8),\n",
              " tensor([0, 0, 0,  ..., 1, 1, 0], dtype=torch.uint8),\n",
              " tensor([0, 0, 0,  ..., 1, 1, 0], dtype=torch.uint8),\n",
              " tensor([0, 0, 0,  ..., 1, 1, 0], dtype=torch.uint8),\n",
              " tensor([0, 0, 0,  ..., 1, 1, 0], dtype=torch.uint8),\n",
              " tensor([0, 0, 0,  ..., 1, 1, 0], dtype=torch.uint8),\n",
              " tensor([0, 0, 0,  ..., 1, 1, 0], dtype=torch.uint8),\n",
              " tensor([0, 0, 0,  ..., 1, 1, 0], dtype=torch.uint8),\n",
              " tensor([0, 0, 0,  ..., 1, 1, 0], dtype=torch.uint8),\n",
              " tensor([0, 0, 0,  ..., 1, 1, 0], dtype=torch.uint8),\n",
              " tensor([0, 0, 0,  ..., 1, 1, 0], dtype=torch.uint8),\n",
              " tensor([0, 0, 0,  ..., 1, 1, 0], dtype=torch.uint8),\n",
              " tensor([0, 0, 0,  ..., 1, 1, 0], dtype=torch.uint8),\n",
              " tensor([0, 0, 0,  ..., 1, 1, 0], dtype=torch.uint8),\n",
              " tensor([0, 0, 0,  ..., 1, 1, 0], dtype=torch.uint8),\n",
              " tensor([0, 0, 0,  ..., 1, 1, 0], dtype=torch.uint8),\n",
              " tensor([0, 0, 0,  ..., 1, 1, 0], dtype=torch.uint8),\n",
              " tensor([0, 0, 0,  ..., 1, 1, 0], dtype=torch.uint8),\n",
              " tensor([0, 0, 0,  ..., 1, 1, 0], dtype=torch.uint8),\n",
              " tensor([0, 0, 0,  ..., 1, 1, 0], dtype=torch.uint8),\n",
              " tensor([0, 0, 0,  ..., 1, 1, 0], dtype=torch.uint8),\n",
              " tensor([0, 0, 0,  ..., 1, 1, 0], dtype=torch.uint8),\n",
              " tensor([0, 0, 0,  ..., 1, 1, 0], dtype=torch.uint8),\n",
              " tensor([0, 0, 0,  ..., 1, 1, 0], dtype=torch.uint8),\n",
              " tensor([0, 0, 0,  ..., 1, 1, 0], dtype=torch.uint8),\n",
              " tensor([0, 0, 0,  ..., 1, 1, 0], dtype=torch.uint8),\n",
              " tensor([0, 0, 0,  ..., 1, 1, 0], dtype=torch.uint8),\n",
              " tensor([0, 0, 0,  ..., 1, 1, 0], dtype=torch.uint8),\n",
              " tensor([0, 0, 0,  ..., 1, 1, 0], dtype=torch.uint8),\n",
              " tensor([0, 0, 0,  ..., 1, 1, 0], dtype=torch.uint8),\n",
              " tensor([0, 0, 0,  ..., 1, 1, 0], dtype=torch.uint8),\n",
              " tensor([0, 0, 0,  ..., 1, 1, 0], dtype=torch.uint8),\n",
              " tensor([0, 0, 0,  ..., 1, 1, 0], dtype=torch.uint8),\n",
              " tensor([0, 0, 0,  ..., 1, 1, 0], dtype=torch.uint8),\n",
              " tensor([0, 0, 0,  ..., 1, 1, 0], dtype=torch.uint8),\n",
              " tensor([0, 0, 0,  ..., 1, 1, 0], dtype=torch.uint8),\n",
              " tensor([0, 0, 0,  ..., 1, 1, 0], dtype=torch.uint8),\n",
              " tensor([0, 0, 0,  ..., 1, 1, 0], dtype=torch.uint8),\n",
              " tensor([0, 0, 0,  ..., 1, 1, 0], dtype=torch.uint8),\n",
              " tensor([0, 0, 0,  ..., 1, 1, 0], dtype=torch.uint8),\n",
              " tensor([0, 0, 0,  ..., 1, 1, 0], dtype=torch.uint8),\n",
              " tensor([0, 0, 0,  ..., 1, 1, 0], dtype=torch.uint8),\n",
              " tensor([0, 0, 0,  ..., 1, 1, 0], dtype=torch.uint8),\n",
              " tensor([0, 0, 0,  ..., 1, 1, 0], dtype=torch.uint8),\n",
              " tensor([0, 0, 0,  ..., 1, 1, 0], dtype=torch.uint8),\n",
              " tensor([0, 0, 0,  ..., 1, 1, 0], dtype=torch.uint8),\n",
              " tensor([0, 0, 0,  ..., 1, 1, 0], dtype=torch.uint8),\n",
              " tensor([0, 0, 0,  ..., 1, 1, 0], dtype=torch.uint8),\n",
              " tensor([0, 0, 0,  ..., 1, 1, 0], dtype=torch.uint8),\n",
              " tensor([0, 0, 0,  ..., 1, 1, 0], dtype=torch.uint8),\n",
              " tensor([0, 0, 0,  ..., 1, 1, 0], dtype=torch.uint8),\n",
              " tensor([0, 0, 0,  ..., 1, 1, 0], dtype=torch.uint8),\n",
              " tensor([0, 0, 0,  ..., 1, 1, 0], dtype=torch.uint8),\n",
              " tensor([0, 0, 0,  ..., 1, 1, 0], dtype=torch.uint8),\n",
              " tensor([0, 0, 0,  ..., 1, 1, 0], dtype=torch.uint8),\n",
              " tensor([0, 0, 0,  ..., 1, 1, 0], dtype=torch.uint8),\n",
              " tensor([0, 0, 0,  ..., 1, 1, 0], dtype=torch.uint8),\n",
              " tensor([0, 0, 0,  ..., 1, 1, 0], dtype=torch.uint8),\n",
              " tensor([0, 0, 0,  ..., 1, 1, 0], dtype=torch.uint8),\n",
              " tensor([0, 0, 0,  ..., 1, 1, 0], dtype=torch.uint8),\n",
              " tensor([0, 0, 0,  ..., 1, 1, 0], dtype=torch.uint8),\n",
              " tensor([0, 0, 0,  ..., 1, 1, 0], dtype=torch.uint8),\n",
              " tensor([0, 0, 0,  ..., 1, 1, 0], dtype=torch.uint8),\n",
              " tensor([0, 0, 0,  ..., 1, 1, 0], dtype=torch.uint8),\n",
              " tensor([0, 0, 0,  ..., 1, 1, 0], dtype=torch.uint8),\n",
              " tensor([0, 0, 0,  ..., 1, 1, 0], dtype=torch.uint8),\n",
              " tensor([0, 0, 0,  ..., 1, 1, 0], dtype=torch.uint8),\n",
              " tensor([0, 0, 0,  ..., 1, 1, 0], dtype=torch.uint8),\n",
              " tensor([0, 0, 0,  ..., 1, 1, 0], dtype=torch.uint8),\n",
              " tensor([0, 0, 0,  ..., 1, 1, 0], dtype=torch.uint8),\n",
              " tensor([0, 0, 0,  ..., 1, 1, 0], dtype=torch.uint8),\n",
              " tensor([0, 0, 0,  ..., 1, 1, 0], dtype=torch.uint8),\n",
              " tensor([0, 0, 0,  ..., 1, 1, 0], dtype=torch.uint8),\n",
              " tensor([0, 0, 0,  ..., 1, 1, 0], dtype=torch.uint8),\n",
              " tensor([0, 0, 0,  ..., 1, 1, 0], dtype=torch.uint8),\n",
              " tensor([0, 0, 0,  ..., 1, 1, 0], dtype=torch.uint8),\n",
              " tensor([0, 0, 0,  ..., 1, 1, 0], dtype=torch.uint8),\n",
              " tensor([0, 0, 0,  ..., 1, 1, 0], dtype=torch.uint8),\n",
              " tensor([0, 0, 0,  ..., 1, 1, 0], dtype=torch.uint8),\n",
              " tensor([0, 0, 0,  ..., 1, 1, 0], dtype=torch.uint8),\n",
              " tensor([0, 0, 0,  ..., 1, 1, 0], dtype=torch.uint8),\n",
              " tensor([0, 0, 0,  ..., 1, 1, 0], dtype=torch.uint8),\n",
              " tensor([0, 0, 0,  ..., 1, 1, 0], dtype=torch.uint8),\n",
              " tensor([0, 0, 0,  ..., 1, 1, 0], dtype=torch.uint8),\n",
              " tensor([0, 0, 0,  ..., 1, 1, 0], dtype=torch.uint8),\n",
              " tensor([0, 0, 0,  ..., 1, 1, 0], dtype=torch.uint8),\n",
              " tensor([0, 0, 0,  ..., 1, 1, 0], dtype=torch.uint8),\n",
              " tensor([0, 0, 0,  ..., 1, 1, 0], dtype=torch.uint8),\n",
              " tensor([0, 0, 0,  ..., 1, 1, 0], dtype=torch.uint8),\n",
              " tensor([0, 0, 0,  ..., 1, 1, 0], dtype=torch.uint8),\n",
              " tensor([0, 0, 0,  ..., 1, 1, 0], dtype=torch.uint8),\n",
              " tensor([0, 0, 0,  ..., 1, 1, 0], dtype=torch.uint8),\n",
              " tensor([0, 0, 0,  ..., 1, 1, 0], dtype=torch.uint8),\n",
              " tensor([0, 0, 0,  ..., 1, 1, 0], dtype=torch.uint8),\n",
              " tensor([0, 0, 0,  ..., 1, 1, 0], dtype=torch.uint8),\n",
              " tensor([0, 0, 0,  ..., 1, 1, 0], dtype=torch.uint8),\n",
              " tensor([0, 0, 0,  ..., 1, 1, 0], dtype=torch.uint8),\n",
              " tensor([0, 0, 0,  ..., 1, 1, 0], dtype=torch.uint8),\n",
              " tensor([0, 0, 0,  ..., 1, 1, 0], dtype=torch.uint8),\n",
              " tensor([0, 0, 0,  ..., 1, 1, 0], dtype=torch.uint8),\n",
              " tensor([0, 0, 0,  ..., 1, 1, 0], dtype=torch.uint8),\n",
              " tensor([0, 0, 0,  ..., 1, 1, 0], dtype=torch.uint8),\n",
              " tensor([0, 0, 0,  ..., 1, 1, 0], dtype=torch.uint8),\n",
              " tensor([0, 0, 0,  ..., 1, 1, 0], dtype=torch.uint8),\n",
              " tensor([0, 0, 0,  ..., 1, 1, 0], dtype=torch.uint8),\n",
              " tensor([0, 0, 0,  ..., 1, 1, 0], dtype=torch.uint8),\n",
              " tensor([0, 0, 0,  ..., 1, 1, 0], dtype=torch.uint8),\n",
              " tensor([0, 0, 0,  ..., 1, 1, 0], dtype=torch.uint8),\n",
              " tensor([0, 0, 0,  ..., 1, 1, 0], dtype=torch.uint8),\n",
              " tensor([0, 0, 0,  ..., 1, 1, 0], dtype=torch.uint8),\n",
              " tensor([0, 0, 0,  ..., 1, 1, 0], dtype=torch.uint8),\n",
              " tensor([0, 0, 0,  ..., 1, 1, 0], dtype=torch.uint8),\n",
              " tensor([0, 0, 0,  ..., 1, 1, 0], dtype=torch.uint8),\n",
              " tensor([0, 0, 0,  ..., 1, 1, 0], dtype=torch.uint8),\n",
              " tensor([0, 0, 0,  ..., 1, 1, 0], dtype=torch.uint8),\n",
              " tensor([0, 0, 0,  ..., 1, 1, 0], dtype=torch.uint8),\n",
              " tensor([0, 0, 0,  ..., 1, 1, 0], dtype=torch.uint8),\n",
              " tensor([0, 0, 0,  ..., 1, 1, 0], dtype=torch.uint8),\n",
              " tensor([0, 0, 0,  ..., 1, 1, 0], dtype=torch.uint8),\n",
              " tensor([0, 0, 0,  ..., 1, 1, 0], dtype=torch.uint8),\n",
              " tensor([0, 0, 0,  ..., 1, 1, 0], dtype=torch.uint8),\n",
              " tensor([0, 0, 0,  ..., 1, 1, 0], dtype=torch.uint8),\n",
              " tensor([0, 0, 0,  ..., 1, 1, 0], dtype=torch.uint8),\n",
              " tensor([0, 0, 0,  ..., 1, 1, 0], dtype=torch.uint8),\n",
              " tensor([0, 0, 0,  ..., 1, 1, 0], dtype=torch.uint8),\n",
              " tensor([0, 0, 0,  ..., 1, 1, 0], dtype=torch.uint8),\n",
              " tensor([0, 0, 0,  ..., 1, 1, 0], dtype=torch.uint8),\n",
              " tensor([0, 0, 0,  ..., 1, 1, 0], dtype=torch.uint8),\n",
              " tensor([0, 0, 0,  ..., 1, 1, 0], dtype=torch.uint8),\n",
              " tensor([0, 0, 0,  ..., 1, 1, 0], dtype=torch.uint8),\n",
              " tensor([0, 0, 0,  ..., 1, 1, 0], dtype=torch.uint8),\n",
              " tensor([0, 0, 0,  ..., 1, 1, 0], dtype=torch.uint8),\n",
              " tensor([0, 0, 0,  ..., 1, 1, 0], dtype=torch.uint8),\n",
              " tensor([0, 0, 0,  ..., 1, 1, 0], dtype=torch.uint8),\n",
              " tensor([0, 0, 0,  ..., 1, 1, 0], dtype=torch.uint8),\n",
              " tensor([0, 0, 0,  ..., 1, 1, 0], dtype=torch.uint8),\n",
              " tensor([0, 0, 0,  ..., 1, 1, 0], dtype=torch.uint8),\n",
              " tensor([0, 0, 0,  ..., 1, 1, 0], dtype=torch.uint8),\n",
              " tensor([0, 0, 0,  ..., 1, 1, 0], dtype=torch.uint8),\n",
              " tensor([0, 0, 0,  ..., 1, 1, 0], dtype=torch.uint8),\n",
              " tensor([0, 0, 0,  ..., 1, 1, 0], dtype=torch.uint8),\n",
              " tensor([0, 0, 0,  ..., 1, 1, 0], dtype=torch.uint8),\n",
              " tensor([0, 0, 0,  ..., 1, 1, 0], dtype=torch.uint8),\n",
              " tensor([0, 0, 0,  ..., 1, 1, 0], dtype=torch.uint8),\n",
              " tensor([0, 0, 0,  ..., 1, 1, 0], dtype=torch.uint8),\n",
              " tensor([0, 0, 0,  ..., 1, 1, 0], dtype=torch.uint8),\n",
              " tensor([0, 0, 0,  ..., 1, 1, 0], dtype=torch.uint8),\n",
              " tensor([0, 0, 0,  ..., 1, 1, 0], dtype=torch.uint8),\n",
              " tensor([0, 0, 0,  ..., 1, 1, 0], dtype=torch.uint8),\n",
              " tensor([0, 0, 0,  ..., 1, 1, 0], dtype=torch.uint8),\n",
              " tensor([0, 0, 0,  ..., 1, 1, 0], dtype=torch.uint8),\n",
              " tensor([0, 0, 0,  ..., 1, 1, 0], dtype=torch.uint8),\n",
              " tensor([0, 0, 0,  ..., 1, 1, 0], dtype=torch.uint8),\n",
              " tensor([0, 0, 0,  ..., 1, 1, 0], dtype=torch.uint8),\n",
              " tensor([0, 0, 0,  ..., 1, 1, 0], dtype=torch.uint8),\n",
              " tensor([0, 0, 0,  ..., 1, 1, 0], dtype=torch.uint8),\n",
              " tensor([0, 0, 0,  ..., 1, 1, 0], dtype=torch.uint8),\n",
              " tensor([0, 0, 0,  ..., 1, 1, 0], dtype=torch.uint8),\n",
              " tensor([0, 0, 0,  ..., 1, 1, 0], dtype=torch.uint8),\n",
              " tensor([0, 0, 0,  ..., 1, 1, 0], dtype=torch.uint8),\n",
              " tensor([0, 0, 0,  ..., 1, 1, 0], dtype=torch.uint8),\n",
              " tensor([0, 0, 0,  ..., 1, 1, 0], dtype=torch.uint8),\n",
              " tensor([0, 0, 0,  ..., 1, 1, 0], dtype=torch.uint8),\n",
              " tensor([0, 0, 0,  ..., 1, 1, 0], dtype=torch.uint8),\n",
              " tensor([0, 0, 0,  ..., 1, 1, 0], dtype=torch.uint8),\n",
              " tensor([0, 0, 0,  ..., 1, 1, 0], dtype=torch.uint8),\n",
              " tensor([0, 0, 0,  ..., 1, 1, 0], dtype=torch.uint8),\n",
              " tensor([0, 0, 0,  ..., 1, 1, 0], dtype=torch.uint8),\n",
              " tensor([0, 0, 0,  ..., 1, 1, 0], dtype=torch.uint8),\n",
              " tensor([0, 0, 0,  ..., 1, 1, 0], dtype=torch.uint8),\n",
              " tensor([0, 0, 0,  ..., 1, 1, 0], dtype=torch.uint8),\n",
              " tensor([0, 0, 0,  ..., 1, 1, 0], dtype=torch.uint8),\n",
              " tensor([0, 0, 0,  ..., 1, 1, 0], dtype=torch.uint8),\n",
              " tensor([0, 0, 0,  ..., 1, 1, 0], dtype=torch.uint8),\n",
              " tensor([0, 0, 0,  ..., 1, 1, 0], dtype=torch.uint8),\n",
              " tensor([0, 0, 0,  ..., 1, 1, 0], dtype=torch.uint8),\n",
              " tensor([0, 0, 0,  ..., 1, 1, 0], dtype=torch.uint8),\n",
              " tensor([0, 0, 0,  ..., 1, 1, 0], dtype=torch.uint8),\n",
              " tensor([0, 0, 0,  ..., 1, 1, 0], dtype=torch.uint8),\n",
              " tensor([0, 0, 0,  ..., 1, 1, 0], dtype=torch.uint8),\n",
              " tensor([0, 0, 0,  ..., 1, 1, 0], dtype=torch.uint8),\n",
              " tensor([0, 0, 0,  ..., 1, 1, 0], dtype=torch.uint8),\n",
              " tensor([0, 0, 0,  ..., 1, 1, 0], dtype=torch.uint8),\n",
              " tensor([0, 0, 0,  ..., 1, 1, 0], dtype=torch.uint8),\n",
              " tensor([0, 0, 0,  ..., 1, 1, 0], dtype=torch.uint8),\n",
              " tensor([0, 0, 0,  ..., 1, 1, 0], dtype=torch.uint8),\n",
              " tensor([0, 0, 0,  ..., 1, 1, 0], dtype=torch.uint8),\n",
              " tensor([0, 0, 0,  ..., 1, 1, 0], dtype=torch.uint8),\n",
              " tensor([0, 0, 0,  ..., 1, 1, 0], dtype=torch.uint8),\n",
              " tensor([0, 0, 0,  ..., 1, 1, 0], dtype=torch.uint8),\n",
              " tensor([0, 0, 0,  ..., 1, 1, 0], dtype=torch.uint8),\n",
              " tensor([0, 0, 0,  ..., 1, 1, 0], dtype=torch.uint8),\n",
              " tensor([0, 0, 0,  ..., 1, 1, 0], dtype=torch.uint8),\n",
              " tensor([0, 0, 0,  ..., 1, 1, 0], dtype=torch.uint8),\n",
              " tensor([0, 0, 0,  ..., 1, 1, 0], dtype=torch.uint8),\n",
              " tensor([0, 0, 0,  ..., 1, 1, 0], dtype=torch.uint8),\n",
              " tensor([0, 0, 0,  ..., 1, 1, 0], dtype=torch.uint8),\n",
              " tensor([0, 0, 0,  ..., 1, 1, 0], dtype=torch.uint8),\n",
              " tensor([0, 0, 0,  ..., 1, 1, 0], dtype=torch.uint8),\n",
              " tensor([0, 0, 0,  ..., 1, 1, 0], dtype=torch.uint8),\n",
              " tensor([0, 0, 0,  ..., 1, 1, 0], dtype=torch.uint8),\n",
              " tensor([0, 0, 0,  ..., 1, 1, 0], dtype=torch.uint8),\n",
              " tensor([0, 0, 0,  ..., 1, 1, 0], dtype=torch.uint8),\n",
              " tensor([0, 0, 0,  ..., 1, 1, 0], dtype=torch.uint8),\n",
              " tensor([0, 0, 0,  ..., 1, 1, 0], dtype=torch.uint8),\n",
              " tensor([0, 0, 0,  ..., 1, 1, 0], dtype=torch.uint8),\n",
              " tensor([0, 0, 0,  ..., 1, 1, 0], dtype=torch.uint8),\n",
              " tensor([0, 0, 0,  ..., 1, 1, 0], dtype=torch.uint8),\n",
              " tensor([0, 0, 0,  ..., 1, 1, 0], dtype=torch.uint8),\n",
              " tensor([0, 0, 0,  ..., 1, 1, 0], dtype=torch.uint8),\n",
              " tensor([0, 0, 0,  ..., 1, 1, 0], dtype=torch.uint8),\n",
              " tensor([0, 0, 0,  ..., 1, 1, 0], dtype=torch.uint8),\n",
              " tensor([0, 0, 0,  ..., 1, 1, 0], dtype=torch.uint8),\n",
              " tensor([0, 0, 0,  ..., 1, 1, 0], dtype=torch.uint8),\n",
              " tensor([0, 0, 0,  ..., 1, 1, 0], dtype=torch.uint8),\n",
              " tensor([0, 0, 0,  ..., 1, 1, 0], dtype=torch.uint8),\n",
              " tensor([0, 0, 0,  ..., 1, 1, 0], dtype=torch.uint8),\n",
              " tensor([0, 0, 0,  ..., 1, 1, 0], dtype=torch.uint8),\n",
              " tensor([0, 0, 0,  ..., 1, 1, 0], dtype=torch.uint8),\n",
              " tensor([0, 0, 0,  ..., 1, 1, 0], dtype=torch.uint8),\n",
              " tensor([0, 0, 0,  ..., 1, 1, 0], dtype=torch.uint8),\n",
              " tensor([0, 0, 0,  ..., 1, 1, 0], dtype=torch.uint8),\n",
              " tensor([0, 0, 0,  ..., 1, 1, 0], dtype=torch.uint8),\n",
              " tensor([0, 0, 0,  ..., 1, 1, 0], dtype=torch.uint8),\n",
              " tensor([0, 0, 0,  ..., 1, 1, 0], dtype=torch.uint8),\n",
              " tensor([0, 0, 0,  ..., 1, 1, 0], dtype=torch.uint8),\n",
              " tensor([0, 0, 0,  ..., 1, 1, 0], dtype=torch.uint8),\n",
              " tensor([0, 0, 0,  ..., 1, 1, 0], dtype=torch.uint8),\n",
              " tensor([0, 0, 0,  ..., 1, 1, 0], dtype=torch.uint8),\n",
              " tensor([0, 0, 0,  ..., 1, 1, 0], dtype=torch.uint8),\n",
              " tensor([0, 0, 0,  ..., 1, 1, 0], dtype=torch.uint8),\n",
              " tensor([0, 0, 0,  ..., 1, 1, 0], dtype=torch.uint8),\n",
              " tensor([0, 0, 0,  ..., 1, 1, 0], dtype=torch.uint8),\n",
              " tensor([0, 0, 0,  ..., 1, 1, 0], dtype=torch.uint8),\n",
              " tensor([0, 0, 0,  ..., 1, 1, 0], dtype=torch.uint8),\n",
              " tensor([0, 0, 0,  ..., 1, 1, 0], dtype=torch.uint8),\n",
              " tensor([0, 0, 0,  ..., 1, 1, 0], dtype=torch.uint8),\n",
              " tensor([0, 0, 0,  ..., 1, 1, 0], dtype=torch.uint8),\n",
              " tensor([0, 0, 0,  ..., 1, 1, 0], dtype=torch.uint8),\n",
              " tensor([0, 0, 0,  ..., 1, 1, 0], dtype=torch.uint8),\n",
              " tensor([0, 0, 0,  ..., 1, 1, 0], dtype=torch.uint8),\n",
              " tensor([0, 0, 0,  ..., 1, 1, 0], dtype=torch.uint8),\n",
              " tensor([0, 0, 0,  ..., 1, 1, 0], dtype=torch.uint8),\n",
              " tensor([0, 0, 0,  ..., 1, 1, 0], dtype=torch.uint8),\n",
              " tensor([0, 0, 0,  ..., 1, 1, 0], dtype=torch.uint8),\n",
              " tensor([0, 0, 0,  ..., 1, 1, 0], dtype=torch.uint8),\n",
              " tensor([0, 0, 0,  ..., 1, 1, 0], dtype=torch.uint8),\n",
              " tensor([0, 0, 0,  ..., 1, 1, 0], dtype=torch.uint8),\n",
              " tensor([0, 0, 0,  ..., 1, 1, 0], dtype=torch.uint8),\n",
              " tensor([0, 0, 0,  ..., 1, 1, 0], dtype=torch.uint8),\n",
              " tensor([0, 0, 0,  ..., 1, 1, 0], dtype=torch.uint8),\n",
              " tensor([0, 0, 0,  ..., 1, 1, 0], dtype=torch.uint8),\n",
              " tensor([0, 0, 0,  ..., 1, 1, 0], dtype=torch.uint8),\n",
              " tensor([0, 0, 0,  ..., 1, 1, 0], dtype=torch.uint8),\n",
              " tensor([0, 0, 0,  ..., 1, 1, 0], dtype=torch.uint8),\n",
              " tensor([0, 0, 0,  ..., 1, 1, 0], dtype=torch.uint8),\n",
              " tensor([0, 0, 0,  ..., 1, 1, 0], dtype=torch.uint8),\n",
              " tensor([0, 0, 0,  ..., 1, 1, 0], dtype=torch.uint8),\n",
              " tensor([0, 0, 0,  ..., 1, 1, 0], dtype=torch.uint8),\n",
              " tensor([0, 0, 0,  ..., 1, 1, 0], dtype=torch.uint8),\n",
              " tensor([0, 0, 0,  ..., 1, 1, 0], dtype=torch.uint8),\n",
              " tensor([0, 0, 0,  ..., 1, 1, 0], dtype=torch.uint8),\n",
              " tensor([0, 0, 0,  ..., 1, 1, 0], dtype=torch.uint8),\n",
              " tensor([0, 0, 0,  ..., 1, 1, 0], dtype=torch.uint8),\n",
              " tensor([0, 0, 0,  ..., 1, 1, 0], dtype=torch.uint8),\n",
              " tensor([0, 0, 0,  ..., 1, 1, 0], dtype=torch.uint8),\n",
              " tensor([0, 0, 0,  ..., 1, 1, 0], dtype=torch.uint8),\n",
              " tensor([0, 0, 0,  ..., 1, 1, 0], dtype=torch.uint8),\n",
              " tensor([0, 0, 0,  ..., 1, 1, 0], dtype=torch.uint8),\n",
              " tensor([0, 0, 0,  ..., 1, 1, 0], dtype=torch.uint8),\n",
              " tensor([0, 0, 0,  ..., 1, 1, 0], dtype=torch.uint8),\n",
              " tensor([0, 0, 0,  ..., 1, 1, 0], dtype=torch.uint8),\n",
              " tensor([0, 0, 0,  ..., 1, 1, 0], dtype=torch.uint8),\n",
              " tensor([0, 0, 0,  ..., 1, 1, 0], dtype=torch.uint8),\n",
              " tensor([0, 0, 0,  ..., 1, 1, 0], dtype=torch.uint8),\n",
              " tensor([0, 0, 0,  ..., 1, 1, 0], dtype=torch.uint8),\n",
              " tensor([0, 0, 0,  ..., 1, 1, 0], dtype=torch.uint8),\n",
              " tensor([0, 0, 0,  ..., 1, 1, 0], dtype=torch.uint8),\n",
              " tensor([0, 0, 0,  ..., 1, 1, 0], dtype=torch.uint8),\n",
              " tensor([0, 0, 0,  ..., 1, 1, 0], dtype=torch.uint8),\n",
              " tensor([0, 0, 0,  ..., 1, 1, 0], dtype=torch.uint8),\n",
              " tensor([0, 0, 0,  ..., 1, 1, 0], dtype=torch.uint8),\n",
              " tensor([0, 0, 0,  ..., 1, 1, 0], dtype=torch.uint8),\n",
              " tensor([0, 0, 0,  ..., 1, 1, 0], dtype=torch.uint8),\n",
              " tensor([0, 0, 0,  ..., 1, 1, 0], dtype=torch.uint8),\n",
              " tensor([0, 0, 0,  ..., 1, 1, 0], dtype=torch.uint8),\n",
              " tensor([0, 0, 0,  ..., 1, 1, 0], dtype=torch.uint8),\n",
              " tensor([0, 0, 0,  ..., 1, 1, 0], dtype=torch.uint8),\n",
              " tensor([0, 0, 0,  ..., 1, 1, 0], dtype=torch.uint8),\n",
              " tensor([0, 0, 0,  ..., 1, 1, 0], dtype=torch.uint8),\n",
              " tensor([0, 0, 0,  ..., 1, 1, 0], dtype=torch.uint8),\n",
              " tensor([0, 0, 0,  ..., 1, 1, 0], dtype=torch.uint8),\n",
              " tensor([0, 0, 0,  ..., 1, 1, 0], dtype=torch.uint8),\n",
              " tensor([0, 0, 0,  ..., 1, 1, 0], dtype=torch.uint8),\n",
              " tensor([0, 0, 0,  ..., 1, 1, 0], dtype=torch.uint8),\n",
              " tensor([0, 0, 0,  ..., 1, 1, 0], dtype=torch.uint8),\n",
              " tensor([0, 0, 0,  ..., 1, 1, 0], dtype=torch.uint8),\n",
              " tensor([0, 0, 0,  ..., 1, 1, 0], dtype=torch.uint8),\n",
              " tensor([0, 0, 0,  ..., 1, 1, 0], dtype=torch.uint8),\n",
              " tensor([0, 0, 0,  ..., 1, 1, 0], dtype=torch.uint8),\n",
              " tensor([0, 0, 0,  ..., 1, 1, 0], dtype=torch.uint8),\n",
              " tensor([0, 0, 0,  ..., 1, 1, 0], dtype=torch.uint8),\n",
              " tensor([0, 0, 0,  ..., 1, 1, 0], dtype=torch.uint8),\n",
              " tensor([0, 0, 0,  ..., 1, 1, 0], dtype=torch.uint8),\n",
              " tensor([0, 0, 0,  ..., 1, 1, 0], dtype=torch.uint8),\n",
              " tensor([0, 0, 0,  ..., 1, 1, 0], dtype=torch.uint8),\n",
              " tensor([0, 0, 0,  ..., 1, 1, 0], dtype=torch.uint8),\n",
              " tensor([0, 0, 0,  ..., 1, 1, 0], dtype=torch.uint8),\n",
              " tensor([0, 0, 0,  ..., 1, 1, 0], dtype=torch.uint8),\n",
              " tensor([0, 0, 0,  ..., 1, 1, 0], dtype=torch.uint8),\n",
              " tensor([0, 0, 0,  ..., 1, 1, 0], dtype=torch.uint8),\n",
              " tensor([0, 0, 0,  ..., 1, 1, 0], dtype=torch.uint8),\n",
              " tensor([0, 0, 0,  ..., 1, 1, 0], dtype=torch.uint8),\n",
              " tensor([0, 0, 0,  ..., 1, 1, 0], dtype=torch.uint8),\n",
              " tensor([0, 0, 0,  ..., 1, 1, 0], dtype=torch.uint8),\n",
              " tensor([0, 0, 0,  ..., 1, 1, 0], dtype=torch.uint8),\n",
              " tensor([0, 0, 0,  ..., 1, 1, 0], dtype=torch.uint8),\n",
              " tensor([0, 0, 0,  ..., 1, 1, 0], dtype=torch.uint8),\n",
              " tensor([0, 0, 0,  ..., 1, 1, 0], dtype=torch.uint8),\n",
              " tensor([0, 0, 0,  ..., 1, 1, 0], dtype=torch.uint8),\n",
              " tensor([0, 0, 0,  ..., 1, 1, 0], dtype=torch.uint8),\n",
              " tensor([0, 0, 0,  ..., 1, 1, 0], dtype=torch.uint8),\n",
              " tensor([0, 0, 0,  ..., 1, 1, 0], dtype=torch.uint8),\n",
              " tensor([0, 0, 0,  ..., 1, 1, 0], dtype=torch.uint8),\n",
              " tensor([0, 0, 0,  ..., 1, 1, 0], dtype=torch.uint8),\n",
              " tensor([0, 0, 0,  ..., 1, 1, 0], dtype=torch.uint8),\n",
              " tensor([0, 0, 0,  ..., 1, 1, 0], dtype=torch.uint8),\n",
              " tensor([0, 0, 0,  ..., 1, 1, 0], dtype=torch.uint8),\n",
              " tensor([0, 0, 0,  ..., 1, 1, 0], dtype=torch.uint8),\n",
              " tensor([0, 0, 0,  ..., 1, 1, 0], dtype=torch.uint8),\n",
              " tensor([0, 0, 0,  ..., 1, 1, 0], dtype=torch.uint8),\n",
              " tensor([0, 0, 0,  ..., 1, 1, 0], dtype=torch.uint8),\n",
              " tensor([0, 0, 0,  ..., 1, 1, 0], dtype=torch.uint8),\n",
              " tensor([0, 0, 0,  ..., 1, 1, 0], dtype=torch.uint8),\n",
              " tensor([0, 0, 0,  ..., 1, 1, 0], dtype=torch.uint8),\n",
              " tensor([0, 0, 0,  ..., 1, 1, 0], dtype=torch.uint8),\n",
              " tensor([0, 0, 0,  ..., 1, 1, 0], dtype=torch.uint8),\n",
              " tensor([0, 0, 0,  ..., 1, 1, 0], dtype=torch.uint8),\n",
              " tensor([0, 0, 0,  ..., 1, 1, 0], dtype=torch.uint8),\n",
              " tensor([0, 0, 0,  ..., 1, 1, 0], dtype=torch.uint8),\n",
              " tensor([0, 0, 0,  ..., 1, 1, 0], dtype=torch.uint8),\n",
              " tensor([0, 0, 0,  ..., 1, 1, 0], dtype=torch.uint8),\n",
              " tensor([0, 0, 0,  ..., 1, 1, 0], dtype=torch.uint8),\n",
              " tensor([0, 0, 0,  ..., 1, 1, 0], dtype=torch.uint8),\n",
              " tensor([0, 0, 0,  ..., 1, 1, 0], dtype=torch.uint8),\n",
              " tensor([0, 0, 0,  ..., 1, 1, 0], dtype=torch.uint8),\n",
              " tensor([0, 0, 0,  ..., 1, 1, 0], dtype=torch.uint8),\n",
              " tensor([0, 0, 0,  ..., 1, 1, 0], dtype=torch.uint8),\n",
              " tensor([0, 0, 0,  ..., 1, 1, 0], dtype=torch.uint8),\n",
              " tensor([0, 0, 0,  ..., 1, 1, 0], dtype=torch.uint8),\n",
              " tensor([0, 0, 0,  ..., 1, 1, 0], dtype=torch.uint8),\n",
              " tensor([0, 0, 0,  ..., 1, 1, 0], dtype=torch.uint8),\n",
              " tensor([0, 0, 0,  ..., 1, 1, 0], dtype=torch.uint8),\n",
              " tensor([0, 0, 0,  ..., 1, 1, 0], dtype=torch.uint8),\n",
              " tensor([0, 0, 0,  ..., 1, 1, 0], dtype=torch.uint8),\n",
              " tensor([0, 0, 0,  ..., 1, 1, 0], dtype=torch.uint8),\n",
              " tensor([0, 0, 0,  ..., 1, 1, 0], dtype=torch.uint8),\n",
              " tensor([0, 0, 0,  ..., 1, 1, 0], dtype=torch.uint8),\n",
              " tensor([0, 0, 0,  ..., 1, 1, 0], dtype=torch.uint8),\n",
              " tensor([0, 0, 0,  ..., 1, 1, 0], dtype=torch.uint8),\n",
              " tensor([0, 0, 0,  ..., 1, 1, 0], dtype=torch.uint8),\n",
              " tensor([0, 0, 0,  ..., 1, 1, 0], dtype=torch.uint8),\n",
              " tensor([0, 0, 0,  ..., 1, 1, 0], dtype=torch.uint8),\n",
              " tensor([0, 0, 0,  ..., 1, 1, 0], dtype=torch.uint8),\n",
              " tensor([0, 0, 0,  ..., 1, 1, 0], dtype=torch.uint8),\n",
              " tensor([0, 0, 0,  ..., 1, 1, 0], dtype=torch.uint8),\n",
              " tensor([0, 0, 0,  ..., 1, 1, 0], dtype=torch.uint8),\n",
              " tensor([0, 0, 0,  ..., 1, 1, 0], dtype=torch.uint8),\n",
              " tensor([0, 0, 0,  ..., 1, 1, 0], dtype=torch.uint8),\n",
              " tensor([0, 0, 0,  ..., 1, 1, 0], dtype=torch.uint8),\n",
              " tensor([0, 0, 0,  ..., 1, 1, 0], dtype=torch.uint8),\n",
              " tensor([0, 0, 0,  ..., 1, 1, 0], dtype=torch.uint8),\n",
              " tensor([0, 0, 0,  ..., 1, 1, 0], dtype=torch.uint8),\n",
              " tensor([0, 0, 0,  ..., 1, 1, 0], dtype=torch.uint8),\n",
              " tensor([0, 0, 0,  ..., 1, 1, 0], dtype=torch.uint8),\n",
              " tensor([0, 0, 0,  ..., 1, 1, 0], dtype=torch.uint8),\n",
              " tensor([0, 0, 0,  ..., 1, 1, 0], dtype=torch.uint8),\n",
              " tensor([0, 0, 0,  ..., 1, 1, 0], dtype=torch.uint8),\n",
              " tensor([0, 0, 0,  ..., 1, 1, 0], dtype=torch.uint8),\n",
              " tensor([0, 0, 0,  ..., 1, 1, 0], dtype=torch.uint8),\n",
              " tensor([0, 0, 0,  ..., 1, 1, 0], dtype=torch.uint8),\n",
              " tensor([0, 0, 0,  ..., 1, 1, 0], dtype=torch.uint8),\n",
              " tensor([0, 0, 0,  ..., 1, 1, 0], dtype=torch.uint8),\n",
              " tensor([0, 0, 0,  ..., 1, 1, 0], dtype=torch.uint8),\n",
              " tensor([0, 0, 0,  ..., 1, 1, 0], dtype=torch.uint8),\n",
              " tensor([0, 0, 0,  ..., 1, 1, 0], dtype=torch.uint8),\n",
              " tensor([0, 0, 0,  ..., 1, 1, 0], dtype=torch.uint8),\n",
              " tensor([0, 0, 0,  ..., 1, 1, 0], dtype=torch.uint8),\n",
              " tensor([0, 0, 0,  ..., 1, 1, 0], dtype=torch.uint8),\n",
              " tensor([0, 0, 0,  ..., 1, 1, 0], dtype=torch.uint8),\n",
              " tensor([0, 0, 0,  ..., 1, 1, 0], dtype=torch.uint8),\n",
              " tensor([0, 0, 0,  ..., 1, 1, 0], dtype=torch.uint8),\n",
              " tensor([0, 0, 0,  ..., 1, 1, 0], dtype=torch.uint8),\n",
              " tensor([0, 0, 0,  ..., 1, 1, 0], dtype=torch.uint8),\n",
              " tensor([0, 0, 0,  ..., 1, 1, 0], dtype=torch.uint8),\n",
              " tensor([0, 0, 0,  ..., 1, 1, 0], dtype=torch.uint8),\n",
              " tensor([0, 0, 0,  ..., 1, 1, 0], dtype=torch.uint8),\n",
              " tensor([0, 0, 0,  ..., 1, 1, 0], dtype=torch.uint8),\n",
              " tensor([0, 0, 0,  ..., 1, 1, 0], dtype=torch.uint8),\n",
              " tensor([0, 0, 0,  ..., 1, 1, 0], dtype=torch.uint8),\n",
              " tensor([0, 0, 0,  ..., 1, 1, 0], dtype=torch.uint8),\n",
              " tensor([0, 0, 0,  ..., 1, 1, 0], dtype=torch.uint8),\n",
              " tensor([0, 0, 0,  ..., 1, 1, 0], dtype=torch.uint8),\n",
              " tensor([0, 0, 0,  ..., 1, 1, 0], dtype=torch.uint8),\n",
              " tensor([0, 0, 0,  ..., 1, 1, 0], dtype=torch.uint8),\n",
              " tensor([0, 0, 0,  ..., 1, 1, 0], dtype=torch.uint8),\n",
              " tensor([0, 0, 0,  ..., 1, 1, 0], dtype=torch.uint8),\n",
              " tensor([0, 0, 0,  ..., 1, 1, 0], dtype=torch.uint8),\n",
              " tensor([0, 0, 0,  ..., 1, 1, 0], dtype=torch.uint8),\n",
              " tensor([0, 0, 0,  ..., 1, 1, 0], dtype=torch.uint8),\n",
              " tensor([0, 0, 0,  ..., 1, 1, 0], dtype=torch.uint8),\n",
              " tensor([0, 0, 0,  ..., 1, 1, 0], dtype=torch.uint8),\n",
              " tensor([0, 0, 0,  ..., 1, 1, 0], dtype=torch.uint8),\n",
              " tensor([0, 0, 0,  ..., 1, 1, 0], dtype=torch.uint8),\n",
              " tensor([0, 0, 0,  ..., 1, 1, 0], dtype=torch.uint8),\n",
              " tensor([0, 0, 0,  ..., 1, 1, 0], dtype=torch.uint8),\n",
              " tensor([0, 0, 0,  ..., 1, 1, 0], dtype=torch.uint8),\n",
              " tensor([0, 0, 0,  ..., 1, 1, 0], dtype=torch.uint8),\n",
              " tensor([0, 0, 0,  ..., 1, 1, 0], dtype=torch.uint8),\n",
              " tensor([0, 0, 0,  ..., 1, 1, 0], dtype=torch.uint8),\n",
              " tensor([0, 0, 0,  ..., 1, 1, 0], dtype=torch.uint8),\n",
              " tensor([0, 0, 0,  ..., 1, 1, 0], dtype=torch.uint8),\n",
              " tensor([0, 0, 0,  ..., 1, 1, 0], dtype=torch.uint8),\n",
              " tensor([0, 0, 0,  ..., 1, 1, 0], dtype=torch.uint8),\n",
              " tensor([0, 0, 0,  ..., 1, 1, 0], dtype=torch.uint8),\n",
              " tensor([0, 0, 0,  ..., 1, 1, 0], dtype=torch.uint8),\n",
              " tensor([0, 0, 0,  ..., 1, 1, 0], dtype=torch.uint8),\n",
              " tensor([0, 0, 0,  ..., 1, 1, 0], dtype=torch.uint8),\n",
              " tensor([0, 0, 0,  ..., 1, 1, 0], dtype=torch.uint8),\n",
              " tensor([0, 0, 0,  ..., 1, 1, 0], dtype=torch.uint8),\n",
              " tensor([0, 0, 0,  ..., 1, 1, 0], dtype=torch.uint8),\n",
              " tensor([0, 0, 0,  ..., 1, 1, 0], dtype=torch.uint8),\n",
              " tensor([0, 0, 0,  ..., 1, 1, 0], dtype=torch.uint8),\n",
              " tensor([0, 0, 0,  ..., 1, 1, 0], dtype=torch.uint8),\n",
              " tensor([0, 0, 0,  ..., 1, 1, 0], dtype=torch.uint8),\n",
              " tensor([0, 0, 0,  ..., 1, 1, 0], dtype=torch.uint8),\n",
              " tensor([0, 0, 0,  ..., 1, 1, 0], dtype=torch.uint8),\n",
              " tensor([0, 0, 0,  ..., 1, 1, 0], dtype=torch.uint8),\n",
              " tensor([0, 0, 0,  ..., 1, 1, 0], dtype=torch.uint8),\n",
              " tensor([0, 0, 0,  ..., 1, 1, 0], dtype=torch.uint8),\n",
              " tensor([0, 0, 0,  ..., 1, 1, 0], dtype=torch.uint8),\n",
              " tensor([0, 0, 0,  ..., 1, 1, 0], dtype=torch.uint8),\n",
              " tensor([0, 0, 0,  ..., 1, 1, 0], dtype=torch.uint8),\n",
              " tensor([0, 0, 0,  ..., 1, 1, 0], dtype=torch.uint8),\n",
              " tensor([0, 0, 0,  ..., 1, 1, 0], dtype=torch.uint8),\n",
              " tensor([0, 0, 0,  ..., 1, 1, 0], dtype=torch.uint8),\n",
              " tensor([0, 0, 0,  ..., 1, 1, 0], dtype=torch.uint8),\n",
              " tensor([0, 0, 0,  ..., 1, 1, 0], dtype=torch.uint8),\n",
              " tensor([0, 0, 0,  ..., 1, 1, 0], dtype=torch.uint8),\n",
              " tensor([0, 0, 0,  ..., 1, 1, 0], dtype=torch.uint8),\n",
              " tensor([0, 0, 0,  ..., 1, 1, 0], dtype=torch.uint8),\n",
              " tensor([0, 0, 0,  ..., 1, 1, 0], dtype=torch.uint8),\n",
              " tensor([0, 0, 0,  ..., 1, 1, 0], dtype=torch.uint8),\n",
              " tensor([0, 0, 0,  ..., 1, 1, 0], dtype=torch.uint8),\n",
              " tensor([0, 0, 0,  ..., 1, 1, 0], dtype=torch.uint8),\n",
              " tensor([0, 0, 0,  ..., 1, 1, 0], dtype=torch.uint8),\n",
              " tensor([0, 0, 0,  ..., 1, 1, 0], dtype=torch.uint8),\n",
              " tensor([0, 0, 0,  ..., 1, 1, 0], dtype=torch.uint8),\n",
              " tensor([0, 0, 0,  ..., 1, 1, 0], dtype=torch.uint8),\n",
              " tensor([0, 0, 0,  ..., 1, 1, 0], dtype=torch.uint8),\n",
              " tensor([0, 0, 0,  ..., 1, 1, 0], dtype=torch.uint8),\n",
              " tensor([0, 0, 0,  ..., 1, 1, 0], dtype=torch.uint8),\n",
              " tensor([0, 0, 0,  ..., 1, 1, 0], dtype=torch.uint8),\n",
              " tensor([0, 0, 0,  ..., 1, 1, 0], dtype=torch.uint8),\n",
              " tensor([0, 0, 0,  ..., 1, 1, 0], dtype=torch.uint8),\n",
              " tensor([0, 0, 0,  ..., 1, 1, 0], dtype=torch.uint8),\n",
              " tensor([0, 0, 0,  ..., 1, 1, 0], dtype=torch.uint8),\n",
              " tensor([0, 0, 0,  ..., 1, 1, 0], dtype=torch.uint8),\n",
              " tensor([0, 0, 0,  ..., 1, 1, 0], dtype=torch.uint8),\n",
              " tensor([0, 0, 0,  ..., 1, 1, 0], dtype=torch.uint8),\n",
              " tensor([0, 0, 0,  ..., 1, 1, 0], dtype=torch.uint8),\n",
              " tensor([0, 0, 0,  ..., 1, 1, 0], dtype=torch.uint8),\n",
              " tensor([0, 0, 0,  ..., 1, 1, 0], dtype=torch.uint8),\n",
              " tensor([0, 0, 0,  ..., 1, 1, 0], dtype=torch.uint8),\n",
              " tensor([0, 0, 0,  ..., 1, 1, 0], dtype=torch.uint8),\n",
              " tensor([0, 0, 0,  ..., 1, 1, 0], dtype=torch.uint8),\n",
              " tensor([0, 0, 0,  ..., 1, 1, 0], dtype=torch.uint8),\n",
              " tensor([0, 0, 0,  ..., 1, 1, 0], dtype=torch.uint8),\n",
              " tensor([0, 0, 0,  ..., 1, 1, 0], dtype=torch.uint8),\n",
              " tensor([0, 0, 0,  ..., 1, 1, 0], dtype=torch.uint8),\n",
              " tensor([0, 0, 0,  ..., 1, 1, 0], dtype=torch.uint8),\n",
              " tensor([0, 0, 0,  ..., 1, 1, 0], dtype=torch.uint8),\n",
              " tensor([0, 0, 0,  ..., 1, 1, 0], dtype=torch.uint8),\n",
              " tensor([0, 0, 0,  ..., 1, 1, 0], dtype=torch.uint8),\n",
              " tensor([0, 0, 0,  ..., 1, 1, 0], dtype=torch.uint8),\n",
              " tensor([0, 0, 0,  ..., 1, 1, 0], dtype=torch.uint8),\n",
              " tensor([0, 0, 0,  ..., 1, 1, 0], dtype=torch.uint8),\n",
              " tensor([0, 0, 0,  ..., 1, 1, 0], dtype=torch.uint8),\n",
              " tensor([0, 0, 0,  ..., 1, 1, 0], dtype=torch.uint8),\n",
              " tensor([0, 0, 0,  ..., 1, 1, 0], dtype=torch.uint8),\n",
              " tensor([0, 0, 0,  ..., 1, 1, 0], dtype=torch.uint8),\n",
              " tensor([0, 0, 0,  ..., 1, 1, 0], dtype=torch.uint8),\n",
              " tensor([0, 0, 0,  ..., 1, 1, 0], dtype=torch.uint8),\n",
              " tensor([0, 0, 0,  ..., 1, 1, 0], dtype=torch.uint8),\n",
              " tensor([0, 0, 0,  ..., 1, 1, 0], dtype=torch.uint8),\n",
              " tensor([0, 0, 0,  ..., 1, 1, 0], dtype=torch.uint8),\n",
              " tensor([0, 0, 0,  ..., 1, 1, 0], dtype=torch.uint8),\n",
              " tensor([0, 0, 0,  ..., 1, 1, 0], dtype=torch.uint8),\n",
              " tensor([0, 0, 0,  ..., 1, 1, 0], dtype=torch.uint8),\n",
              " tensor([0, 0, 0,  ..., 1, 1, 0], dtype=torch.uint8),\n",
              " tensor([0, 0, 0,  ..., 1, 1, 0], dtype=torch.uint8),\n",
              " tensor([0, 0, 0,  ..., 1, 1, 0], dtype=torch.uint8),\n",
              " tensor([0, 0, 0,  ..., 1, 1, 0], dtype=torch.uint8),\n",
              " tensor([0, 0, 0,  ..., 1, 1, 0], dtype=torch.uint8),\n",
              " tensor([0, 0, 0,  ..., 1, 1, 0], dtype=torch.uint8),\n",
              " tensor([0, 0, 0,  ..., 1, 1, 0], dtype=torch.uint8),\n",
              " tensor([0, 0, 0,  ..., 1, 1, 0], dtype=torch.uint8),\n",
              " tensor([0, 0, 0,  ..., 1, 1, 0], dtype=torch.uint8),\n",
              " tensor([0, 0, 0,  ..., 1, 1, 0], dtype=torch.uint8),\n",
              " tensor([0, 0, 0,  ..., 1, 1, 0], dtype=torch.uint8),\n",
              " tensor([0, 0, 0,  ..., 1, 1, 0], dtype=torch.uint8),\n",
              " tensor([0, 0, 0,  ..., 1, 1, 0], dtype=torch.uint8),\n",
              " tensor([0, 0, 0,  ..., 1, 1, 0], dtype=torch.uint8),\n",
              " tensor([0, 0, 0,  ..., 1, 1, 0], dtype=torch.uint8),\n",
              " tensor([0, 0, 0,  ..., 1, 1, 0], dtype=torch.uint8),\n",
              " tensor([0, 0, 0,  ..., 1, 1, 0], dtype=torch.uint8),\n",
              " tensor([0, 0, 0,  ..., 1, 1, 0], dtype=torch.uint8),\n",
              " tensor([0, 0, 0,  ..., 1, 1, 0], dtype=torch.uint8),\n",
              " tensor([0, 0, 0,  ..., 1, 1, 0], dtype=torch.uint8),\n",
              " tensor([0, 0, 0,  ..., 1, 1, 0], dtype=torch.uint8),\n",
              " tensor([0, 0, 0,  ..., 1, 1, 0], dtype=torch.uint8),\n",
              " tensor([0, 0, 0,  ..., 1, 1, 0], dtype=torch.uint8),\n",
              " tensor([0, 0, 0,  ..., 1, 1, 0], dtype=torch.uint8),\n",
              " tensor([0, 0, 0,  ..., 1, 1, 0], dtype=torch.uint8),\n",
              " tensor([0, 0, 0,  ..., 1, 1, 0], dtype=torch.uint8),\n",
              " tensor([0, 0, 0,  ..., 1, 1, 0], dtype=torch.uint8),\n",
              " tensor([0, 0, 0,  ..., 1, 1, 0], dtype=torch.uint8),\n",
              " tensor([0, 0, 0,  ..., 1, 1, 0], dtype=torch.uint8),\n",
              " tensor([0, 0, 0,  ..., 1, 1, 0], dtype=torch.uint8),\n",
              " tensor([0, 0, 0,  ..., 1, 1, 0], dtype=torch.uint8),\n",
              " tensor([0, 0, 0,  ..., 1, 1, 0], dtype=torch.uint8),\n",
              " tensor([0, 0, 0,  ..., 1, 1, 0], dtype=torch.uint8),\n",
              " tensor([0, 0, 0,  ..., 1, 1, 0], dtype=torch.uint8),\n",
              " tensor([0, 0, 0,  ..., 1, 1, 0], dtype=torch.uint8),\n",
              " tensor([0, 0, 0,  ..., 1, 1, 0], dtype=torch.uint8),\n",
              " tensor([0, 0, 0,  ..., 1, 1, 0], dtype=torch.uint8),\n",
              " tensor([0, 0, 0,  ..., 1, 1, 0], dtype=torch.uint8),\n",
              " tensor([0, 0, 0,  ..., 1, 1, 0], dtype=torch.uint8),\n",
              " tensor([0, 0, 0,  ..., 1, 1, 0], dtype=torch.uint8),\n",
              " tensor([0, 0, 0,  ..., 1, 1, 0], dtype=torch.uint8),\n",
              " tensor([0, 0, 0,  ..., 1, 1, 0], dtype=torch.uint8),\n",
              " tensor([0, 0, 0,  ..., 1, 1, 0], dtype=torch.uint8),\n",
              " tensor([0, 0, 0,  ..., 1, 1, 0], dtype=torch.uint8),\n",
              " tensor([0, 0, 0,  ..., 1, 1, 0], dtype=torch.uint8),\n",
              " tensor([0, 0, 0,  ..., 1, 1, 0], dtype=torch.uint8),\n",
              " tensor([0, 0, 0,  ..., 1, 1, 0], dtype=torch.uint8),\n",
              " tensor([0, 0, 0,  ..., 1, 1, 0], dtype=torch.uint8),\n",
              " tensor([0, 0, 0,  ..., 1, 1, 0], dtype=torch.uint8),\n",
              " tensor([0, 0, 0,  ..., 1, 1, 0], dtype=torch.uint8),\n",
              " tensor([0, 0, 0,  ..., 1, 1, 0], dtype=torch.uint8),\n",
              " tensor([0, 0, 0,  ..., 1, 1, 0], dtype=torch.uint8),\n",
              " tensor([0, 0, 0,  ..., 1, 1, 0], dtype=torch.uint8),\n",
              " tensor([0, 0, 0,  ..., 1, 1, 0], dtype=torch.uint8),\n",
              " tensor([0, 0, 0,  ..., 1, 1, 0], dtype=torch.uint8),\n",
              " tensor([0, 0, 0,  ..., 1, 1, 0], dtype=torch.uint8),\n",
              " tensor([0, 0, 0,  ..., 1, 1, 0], dtype=torch.uint8),\n",
              " tensor([0, 0, 0,  ..., 1, 1, 0], dtype=torch.uint8),\n",
              " tensor([0, 0, 0,  ..., 1, 1, 0], dtype=torch.uint8),\n",
              " tensor([0, 0, 0,  ..., 1, 1, 0], dtype=torch.uint8),\n",
              " tensor([0, 0, 0,  ..., 1, 1, 0], dtype=torch.uint8),\n",
              " tensor([0, 0, 0,  ..., 1, 1, 0], dtype=torch.uint8),\n",
              " tensor([0, 0, 0,  ..., 1, 1, 0], dtype=torch.uint8),\n",
              " tensor([0, 0, 0,  ..., 1, 1, 0], dtype=torch.uint8),\n",
              " tensor([0, 0, 0,  ..., 1, 1, 0], dtype=torch.uint8),\n",
              " tensor([0, 0, 0,  ..., 1, 1, 0], dtype=torch.uint8),\n",
              " tensor([0, 0, 0,  ..., 1, 1, 0], dtype=torch.uint8),\n",
              " tensor([0, 0, 0,  ..., 1, 1, 0], dtype=torch.uint8),\n",
              " tensor([0, 0, 0,  ..., 1, 1, 0], dtype=torch.uint8),\n",
              " tensor([0, 0, 0,  ..., 1, 1, 0], dtype=torch.uint8),\n",
              " tensor([0, 0, 0,  ..., 1, 1, 0], dtype=torch.uint8),\n",
              " tensor([0, 0, 0,  ..., 1, 1, 0], dtype=torch.uint8),\n",
              " tensor([0, 0, 0,  ..., 1, 1, 0], dtype=torch.uint8),\n",
              " tensor([0, 0, 0,  ..., 1, 1, 0], dtype=torch.uint8),\n",
              " tensor([0, 0, 0,  ..., 1, 1, 0], dtype=torch.uint8),\n",
              " tensor([0, 0, 0,  ..., 1, 1, 0], dtype=torch.uint8),\n",
              " tensor([0, 0, 0,  ..., 1, 1, 0], dtype=torch.uint8),\n",
              " tensor([0, 0, 0,  ..., 1, 1, 0], dtype=torch.uint8),\n",
              " tensor([0, 0, 0,  ..., 1, 1, 0], dtype=torch.uint8),\n",
              " tensor([0, 0, 0,  ..., 1, 1, 0], dtype=torch.uint8),\n",
              " tensor([0, 0, 0,  ..., 1, 1, 0], dtype=torch.uint8),\n",
              " tensor([0, 0, 0,  ..., 1, 1, 0], dtype=torch.uint8),\n",
              " tensor([0, 0, 0,  ..., 1, 1, 0], dtype=torch.uint8),\n",
              " tensor([0, 0, 0,  ..., 1, 1, 0], dtype=torch.uint8),\n",
              " tensor([0, 0, 0,  ..., 1, 1, 0], dtype=torch.uint8),\n",
              " tensor([0, 0, 0,  ..., 1, 1, 0], dtype=torch.uint8),\n",
              " tensor([0, 0, 0,  ..., 1, 1, 0], dtype=torch.uint8),\n",
              " tensor([0, 0, 0,  ..., 1, 1, 0], dtype=torch.uint8),\n",
              " tensor([0, 0, 0,  ..., 1, 1, 0], dtype=torch.uint8),\n",
              " tensor([0, 0, 0,  ..., 1, 1, 0], dtype=torch.uint8),\n",
              " tensor([0, 0, 0,  ..., 1, 1, 0], dtype=torch.uint8),\n",
              " tensor([0, 0, 0,  ..., 1, 1, 0], dtype=torch.uint8),\n",
              " tensor([0, 0, 0,  ..., 1, 1, 0], dtype=torch.uint8),\n",
              " tensor([0, 0, 0,  ..., 1, 1, 0], dtype=torch.uint8),\n",
              " tensor([0, 0, 0,  ..., 1, 1, 0], dtype=torch.uint8),\n",
              " tensor([0, 0, 0,  ..., 1, 1, 0], dtype=torch.uint8),\n",
              " tensor([0, 0, 0,  ..., 1, 1, 0], dtype=torch.uint8),\n",
              " tensor([0, 0, 0,  ..., 1, 1, 0], dtype=torch.uint8),\n",
              " tensor([0, 0, 0,  ..., 1, 1, 0], dtype=torch.uint8),\n",
              " tensor([0, 0, 0,  ..., 1, 1, 0], dtype=torch.uint8),\n",
              " tensor([0, 0, 0,  ..., 1, 1, 0], dtype=torch.uint8),\n",
              " tensor([0, 0, 0,  ..., 1, 1, 0], dtype=torch.uint8),\n",
              " tensor([0, 0, 0,  ..., 1, 1, 0], dtype=torch.uint8),\n",
              " tensor([0, 0, 0,  ..., 1, 1, 0], dtype=torch.uint8),\n",
              " tensor([0, 0, 0,  ..., 1, 1, 0], dtype=torch.uint8),\n",
              " tensor([0, 0, 0,  ..., 1, 1, 0], dtype=torch.uint8),\n",
              " tensor([0, 0, 0,  ..., 1, 1, 0], dtype=torch.uint8),\n",
              " tensor([0, 0, 0,  ..., 1, 1, 0], dtype=torch.uint8),\n",
              " tensor([0, 0, 0,  ..., 1, 1, 0], dtype=torch.uint8),\n",
              " tensor([0, 0, 0,  ..., 1, 1, 0], dtype=torch.uint8),\n",
              " tensor([0, 0, 0,  ..., 1, 1, 0], dtype=torch.uint8),\n",
              " tensor([0, 0, 0,  ..., 1, 1, 0], dtype=torch.uint8),\n",
              " tensor([0, 0, 0,  ..., 1, 1, 0], dtype=torch.uint8),\n",
              " tensor([0, 0, 0,  ..., 1, 1, 0], dtype=torch.uint8),\n",
              " tensor([0, 0, 0,  ..., 1, 1, 0], dtype=torch.uint8),\n",
              " tensor([0, 0, 0,  ..., 1, 1, 0], dtype=torch.uint8),\n",
              " tensor([0, 0, 0,  ..., 1, 1, 0], dtype=torch.uint8),\n",
              " tensor([0, 0, 0,  ..., 1, 1, 0], dtype=torch.uint8),\n",
              " tensor([0, 0, 0,  ..., 1, 1, 0], dtype=torch.uint8),\n",
              " tensor([0, 0, 0,  ..., 1, 1, 0], dtype=torch.uint8),\n",
              " tensor([0, 0, 0,  ..., 1, 1, 0], dtype=torch.uint8),\n",
              " tensor([0, 0, 0,  ..., 1, 1, 0], dtype=torch.uint8),\n",
              " tensor([0, 0, 0,  ..., 1, 1, 0], dtype=torch.uint8),\n",
              " tensor([0, 0, 0,  ..., 1, 1, 0], dtype=torch.uint8),\n",
              " tensor([0, 0, 0,  ..., 1, 1, 0], dtype=torch.uint8),\n",
              " tensor([0, 0, 0,  ..., 1, 1, 0], dtype=torch.uint8),\n",
              " tensor([0, 0, 0,  ..., 1, 1, 0], dtype=torch.uint8),\n",
              " tensor([0, 0, 0,  ..., 1, 1, 0], dtype=torch.uint8),\n",
              " tensor([0, 0, 0,  ..., 1, 1, 0], dtype=torch.uint8),\n",
              " tensor([0, 0, 0,  ..., 1, 1, 0], dtype=torch.uint8),\n",
              " tensor([0, 0, 0,  ..., 1, 1, 0], dtype=torch.uint8),\n",
              " tensor([0, 0, 0,  ..., 1, 1, 0], dtype=torch.uint8),\n",
              " tensor([0, 0, 0,  ..., 1, 1, 0], dtype=torch.uint8),\n",
              " tensor([0, 0, 0,  ..., 1, 1, 0], dtype=torch.uint8),\n",
              " tensor([0, 0, 0,  ..., 1, 1, 0], dtype=torch.uint8),\n",
              " tensor([0, 0, 0,  ..., 1, 1, 0], dtype=torch.uint8),\n",
              " tensor([0, 0, 0,  ..., 1, 1, 0], dtype=torch.uint8),\n",
              " tensor([0, 0, 0,  ..., 1, 1, 0], dtype=torch.uint8),\n",
              " tensor([0, 0, 0,  ..., 1, 1, 0], dtype=torch.uint8),\n",
              " tensor([0, 0, 0,  ..., 1, 1, 0], dtype=torch.uint8),\n",
              " tensor([0, 0, 0,  ..., 1, 1, 0], dtype=torch.uint8),\n",
              " tensor([0, 0, 0,  ..., 1, 1, 0], dtype=torch.uint8),\n",
              " tensor([0, 0, 0,  ..., 1, 1, 0], dtype=torch.uint8),\n",
              " tensor([0, 0, 0,  ..., 1, 1, 0], dtype=torch.uint8),\n",
              " tensor([0, 0, 0,  ..., 1, 1, 0], dtype=torch.uint8),\n",
              " tensor([0, 0, 0,  ..., 1, 1, 0], dtype=torch.uint8),\n",
              " tensor([0, 0, 0,  ..., 1, 1, 0], dtype=torch.uint8),\n",
              " tensor([0, 0, 0,  ..., 1, 1, 0], dtype=torch.uint8),\n",
              " tensor([0, 0, 0,  ..., 1, 1, 0], dtype=torch.uint8),\n",
              " tensor([0, 0, 0,  ..., 1, 1, 0], dtype=torch.uint8),\n",
              " tensor([0, 0, 0,  ..., 1, 1, 0], dtype=torch.uint8),\n",
              " tensor([0, 0, 0,  ..., 1, 1, 0], dtype=torch.uint8),\n",
              " tensor([0, 0, 0,  ..., 1, 1, 0], dtype=torch.uint8),\n",
              " tensor([0, 0, 0,  ..., 1, 1, 0], dtype=torch.uint8),\n",
              " tensor([0, 0, 0,  ..., 1, 1, 0], dtype=torch.uint8),\n",
              " tensor([0, 0, 0,  ..., 1, 1, 0], dtype=torch.uint8),\n",
              " tensor([0, 0, 0,  ..., 1, 1, 0], dtype=torch.uint8),\n",
              " tensor([0, 0, 0,  ..., 1, 1, 0], dtype=torch.uint8),\n",
              " tensor([0, 0, 0,  ..., 1, 1, 0], dtype=torch.uint8),\n",
              " tensor([0, 0, 0,  ..., 1, 1, 0], dtype=torch.uint8),\n",
              " tensor([0, 0, 0,  ..., 1, 1, 0], dtype=torch.uint8),\n",
              " tensor([0, 0, 0,  ..., 1, 1, 0], dtype=torch.uint8),\n",
              " tensor([0, 0, 0,  ..., 1, 1, 0], dtype=torch.uint8),\n",
              " tensor([0, 0, 0,  ..., 1, 1, 0], dtype=torch.uint8),\n",
              " tensor([0, 0, 0,  ..., 1, 1, 0], dtype=torch.uint8),\n",
              " tensor([0, 0, 0,  ..., 1, 1, 0], dtype=torch.uint8),\n",
              " tensor([0, 0, 0,  ..., 1, 1, 0], dtype=torch.uint8),\n",
              " tensor([0, 0, 0,  ..., 1, 1, 0], dtype=torch.uint8),\n",
              " tensor([0, 0, 0,  ..., 1, 1, 0], dtype=torch.uint8),\n",
              " tensor([0, 0, 0,  ..., 1, 1, 0], dtype=torch.uint8),\n",
              " tensor([0, 0, 0,  ..., 1, 1, 0], dtype=torch.uint8),\n",
              " tensor([0, 0, 0,  ..., 1, 1, 0], dtype=torch.uint8),\n",
              " tensor([0, 0, 0,  ..., 1, 1, 0], dtype=torch.uint8),\n",
              " tensor([0, 0, 0,  ..., 1, 1, 0], dtype=torch.uint8),\n",
              " tensor([0, 0, 0,  ..., 1, 1, 0], dtype=torch.uint8),\n",
              " tensor([0, 0, 0,  ..., 1, 1, 0], dtype=torch.uint8),\n",
              " tensor([0, 0, 0,  ..., 1, 1, 0], dtype=torch.uint8),\n",
              " tensor([0, 0, 0,  ..., 1, 1, 0], dtype=torch.uint8),\n",
              " tensor([0, 0, 0,  ..., 1, 1, 0], dtype=torch.uint8),\n",
              " tensor([0, 0, 0,  ..., 1, 1, 0], dtype=torch.uint8),\n",
              " tensor([0, 0, 0,  ..., 1, 1, 0], dtype=torch.uint8),\n",
              " tensor([0, 0, 0,  ..., 1, 1, 0], dtype=torch.uint8),\n",
              " tensor([0, 0, 0,  ..., 1, 1, 0], dtype=torch.uint8),\n",
              " tensor([0, 0, 0,  ..., 1, 1, 0], dtype=torch.uint8),\n",
              " tensor([0, 0, 0,  ..., 1, 1, 0], dtype=torch.uint8),\n",
              " tensor([0, 0, 0,  ..., 1, 1, 0], dtype=torch.uint8),\n",
              " tensor([0, 0, 0,  ..., 1, 1, 0], dtype=torch.uint8),\n",
              " tensor([0, 0, 0,  ..., 1, 1, 0], dtype=torch.uint8),\n",
              " tensor([0, 0, 0,  ..., 1, 1, 0], dtype=torch.uint8),\n",
              " tensor([0, 0, 0,  ..., 1, 1, 0], dtype=torch.uint8),\n",
              " tensor([0, 0, 0,  ..., 1, 1, 0], dtype=torch.uint8),\n",
              " tensor([0, 0, 0,  ..., 1, 1, 0], dtype=torch.uint8),\n",
              " tensor([0, 0, 0,  ..., 1, 1, 0], dtype=torch.uint8),\n",
              " tensor([0, 0, 0,  ..., 1, 1, 0], dtype=torch.uint8),\n",
              " tensor([0, 0, 0,  ..., 1, 1, 0], dtype=torch.uint8),\n",
              " tensor([0, 0, 0,  ..., 1, 1, 0], dtype=torch.uint8),\n",
              " tensor([0, 0, 0,  ..., 1, 1, 0], dtype=torch.uint8),\n",
              " tensor([0, 0, 0,  ..., 1, 1, 0], dtype=torch.uint8),\n",
              " tensor([0, 0, 0,  ..., 1, 1, 0], dtype=torch.uint8),\n",
              " tensor([0, 0, 0,  ..., 1, 1, 0], dtype=torch.uint8),\n",
              " tensor([0, 0, 0,  ..., 1, 1, 0], dtype=torch.uint8),\n",
              " tensor([0, 0, 0,  ..., 1, 1, 0], dtype=torch.uint8),\n",
              " tensor([0, 0, 0,  ..., 1, 1, 0], dtype=torch.uint8),\n",
              " tensor([0, 0, 0,  ..., 1, 1, 0], dtype=torch.uint8),\n",
              " tensor([0, 0, 0,  ..., 1, 1, 0], dtype=torch.uint8),\n",
              " tensor([0, 0, 0,  ..., 1, 1, 0], dtype=torch.uint8),\n",
              " tensor([0, 0, 0,  ..., 1, 1, 0], dtype=torch.uint8),\n",
              " tensor([0, 0, 0,  ..., 1, 1, 0], dtype=torch.uint8),\n",
              " tensor([0, 0, 0,  ..., 1, 1, 0], dtype=torch.uint8),\n",
              " tensor([0, 0, 0,  ..., 1, 1, 0], dtype=torch.uint8),\n",
              " tensor([0, 0, 0,  ..., 1, 1, 0], dtype=torch.uint8),\n",
              " tensor([0, 0, 0,  ..., 1, 1, 0], dtype=torch.uint8),\n",
              " tensor([0, 0, 0,  ..., 1, 1, 0], dtype=torch.uint8),\n",
              " tensor([0, 0, 0,  ..., 1, 1, 0], dtype=torch.uint8),\n",
              " tensor([0, 0, 0,  ..., 1, 1, 0], dtype=torch.uint8),\n",
              " tensor([0, 0, 0,  ..., 1, 1, 0], dtype=torch.uint8),\n",
              " tensor([0, 0, 0,  ..., 1, 1, 0], dtype=torch.uint8),\n",
              " tensor([0, 0, 0,  ..., 1, 1, 0], dtype=torch.uint8),\n",
              " tensor([0, 0, 0,  ..., 1, 1, 0], dtype=torch.uint8),\n",
              " tensor([0, 0, 0,  ..., 1, 1, 0], dtype=torch.uint8),\n",
              " tensor([0, 0, 0,  ..., 1, 1, 0], dtype=torch.uint8),\n",
              " tensor([0, 0, 0,  ..., 1, 1, 0], dtype=torch.uint8),\n",
              " tensor([0, 0, 0,  ..., 1, 1, 0], dtype=torch.uint8),\n",
              " tensor([0, 0, 0,  ..., 1, 1, 0], dtype=torch.uint8),\n",
              " tensor([0, 0, 0,  ..., 1, 1, 0], dtype=torch.uint8),\n",
              " tensor([0, 0, 0,  ..., 1, 1, 0], dtype=torch.uint8),\n",
              " tensor([0, 0, 0,  ..., 1, 1, 0], dtype=torch.uint8),\n",
              " tensor([0, 0, 0,  ..., 1, 1, 0], dtype=torch.uint8),\n",
              " tensor([0, 0, 0,  ..., 1, 1, 0], dtype=torch.uint8),\n",
              " tensor([0, 0, 0,  ..., 1, 1, 0], dtype=torch.uint8),\n",
              " tensor([0, 0, 0,  ..., 1, 1, 0], dtype=torch.uint8),\n",
              " tensor([0, 0, 0,  ..., 1, 1, 0], dtype=torch.uint8),\n",
              " tensor([0, 0, 0,  ..., 1, 1, 0], dtype=torch.uint8),\n",
              " tensor([0, 0, 0,  ..., 1, 1, 0], dtype=torch.uint8),\n",
              " tensor([0, 0, 0,  ..., 1, 1, 0], dtype=torch.uint8),\n",
              " tensor([0, 0, 0,  ..., 1, 1, 0], dtype=torch.uint8),\n",
              " tensor([0, 0, 0,  ..., 1, 1, 0], dtype=torch.uint8),\n",
              " tensor([0, 0, 0,  ..., 1, 1, 0], dtype=torch.uint8),\n",
              " tensor([0, 0, 0,  ..., 1, 1, 0], dtype=torch.uint8),\n",
              " tensor([0, 0, 0,  ..., 1, 1, 0], dtype=torch.uint8),\n",
              " tensor([0, 0, 0,  ..., 1, 1, 0], dtype=torch.uint8),\n",
              " tensor([0, 0, 0,  ..., 1, 1, 0], dtype=torch.uint8),\n",
              " tensor([0, 0, 0,  ..., 1, 1, 0], dtype=torch.uint8),\n",
              " tensor([0, 0, 0,  ..., 1, 1, 0], dtype=torch.uint8),\n",
              " tensor([0, 0, 0,  ..., 1, 1, 0], dtype=torch.uint8),\n",
              " tensor([0, 0, 0,  ..., 1, 1, 0], dtype=torch.uint8),\n",
              " tensor([0, 0, 0,  ..., 1, 1, 0], dtype=torch.uint8),\n",
              " tensor([0, 0, 0,  ..., 1, 1, 0], dtype=torch.uint8),\n",
              " tensor([0, 0, 0,  ..., 1, 1, 0], dtype=torch.uint8),\n",
              " tensor([0, 0, 0,  ..., 1, 1, 0], dtype=torch.uint8),\n",
              " tensor([0, 0, 0,  ..., 1, 1, 0], dtype=torch.uint8),\n",
              " tensor([0, 0, 0,  ..., 1, 1, 0], dtype=torch.uint8),\n",
              " tensor([0, 0, 0,  ..., 1, 1, 0], dtype=torch.uint8),\n",
              " tensor([0, 0, 0,  ..., 1, 1, 0], dtype=torch.uint8),\n",
              " tensor([0, 0, 0,  ..., 1, 1, 0], dtype=torch.uint8),\n",
              " tensor([0, 0, 0,  ..., 1, 1, 0], dtype=torch.uint8),\n",
              " tensor([0, 0, 0,  ..., 1, 1, 0], dtype=torch.uint8),\n",
              " tensor([0, 0, 0,  ..., 1, 1, 0], dtype=torch.uint8),\n",
              " tensor([0, 0, 0,  ..., 1, 1, 0], dtype=torch.uint8),\n",
              " tensor([0, 0, 0,  ..., 1, 1, 0], dtype=torch.uint8),\n",
              " tensor([0, 0, 0,  ..., 1, 1, 0], dtype=torch.uint8),\n",
              " tensor([0, 0, 0,  ..., 1, 1, 0], dtype=torch.uint8),\n",
              " tensor([0, 0, 0,  ..., 1, 1, 0], dtype=torch.uint8),\n",
              " tensor([0, 0, 0,  ..., 1, 1, 0], dtype=torch.uint8),\n",
              " tensor([0, 0, 0,  ..., 1, 1, 0], dtype=torch.uint8),\n",
              " tensor([0, 0, 0,  ..., 1, 1, 0], dtype=torch.uint8),\n",
              " tensor([0, 0, 0,  ..., 1, 1, 0], dtype=torch.uint8),\n",
              " tensor([0, 0, 0,  ..., 1, 1, 0], dtype=torch.uint8),\n",
              " tensor([0, 0, 0,  ..., 1, 1, 0], dtype=torch.uint8),\n",
              " tensor([0, 0, 0,  ..., 1, 1, 0], dtype=torch.uint8),\n",
              " tensor([0, 0, 0,  ..., 1, 1, 0], dtype=torch.uint8),\n",
              " tensor([0, 0, 0,  ..., 1, 1, 0], dtype=torch.uint8),\n",
              " tensor([0, 0, 0,  ..., 1, 1, 0], dtype=torch.uint8),\n",
              " tensor([0, 0, 0,  ..., 1, 1, 0], dtype=torch.uint8),\n",
              " tensor([0, 0, 0,  ..., 1, 1, 0], dtype=torch.uint8),\n",
              " tensor([0, 0, 0,  ..., 1, 1, 0], dtype=torch.uint8),\n",
              " tensor([0, 0, 0,  ..., 1, 1, 0], dtype=torch.uint8),\n",
              " tensor([0, 0, 0,  ..., 1, 1, 0], dtype=torch.uint8),\n",
              " tensor([0, 0, 0,  ..., 1, 1, 0], dtype=torch.uint8),\n",
              " tensor([0, 0, 0,  ..., 1, 1, 0], dtype=torch.uint8),\n",
              " tensor([0, 0, 0,  ..., 1, 1, 0], dtype=torch.uint8),\n",
              " tensor([0, 0, 0,  ..., 1, 1, 0], dtype=torch.uint8),\n",
              " tensor([0, 0, 0,  ..., 1, 1, 0], dtype=torch.uint8),\n",
              " tensor([0, 0, 0,  ..., 1, 1, 0], dtype=torch.uint8),\n",
              " tensor([0, 0, 0,  ..., 1, 1, 0], dtype=torch.uint8),\n",
              " tensor([0, 0, 0,  ..., 1, 1, 0], dtype=torch.uint8),\n",
              " tensor([0, 0, 0,  ..., 1, 1, 0], dtype=torch.uint8),\n",
              " tensor([0, 0, 0,  ..., 1, 1, 0], dtype=torch.uint8),\n",
              " tensor([0, 0, 0,  ..., 1, 1, 0], dtype=torch.uint8),\n",
              " tensor([0, 0, 0,  ..., 1, 1, 0], dtype=torch.uint8),\n",
              " tensor([0, 0, 0,  ..., 1, 1, 0], dtype=torch.uint8),\n",
              " tensor([0, 0, 0,  ..., 1, 1, 0], dtype=torch.uint8),\n",
              " tensor([0, 0, 0,  ..., 1, 1, 0], dtype=torch.uint8),\n",
              " tensor([0, 0, 0,  ..., 1, 1, 0], dtype=torch.uint8),\n",
              " tensor([0, 0, 0,  ..., 1, 1, 0], dtype=torch.uint8),\n",
              " tensor([0, 0, 0,  ..., 1, 1, 0], dtype=torch.uint8),\n",
              " tensor([0, 0, 0,  ..., 1, 1, 0], dtype=torch.uint8),\n",
              " tensor([0, 0, 0,  ..., 1, 1, 0], dtype=torch.uint8),\n",
              " tensor([0, 0, 0,  ..., 1, 1, 0], dtype=torch.uint8),\n",
              " tensor([0, 0, 0,  ..., 1, 1, 0], dtype=torch.uint8),\n",
              " tensor([0, 0, 0,  ..., 1, 1, 0], dtype=torch.uint8),\n",
              " tensor([0, 0, 0,  ..., 1, 1, 0], dtype=torch.uint8),\n",
              " tensor([0, 0, 0,  ..., 1, 1, 0], dtype=torch.uint8),\n",
              " tensor([0, 0, 0,  ..., 1, 1, 0], dtype=torch.uint8),\n",
              " tensor([0, 0, 0,  ..., 1, 1, 0], dtype=torch.uint8),\n",
              " tensor([0, 0, 0,  ..., 1, 1, 0], dtype=torch.uint8),\n",
              " tensor([0, 0, 0,  ..., 1, 1, 0], dtype=torch.uint8),\n",
              " tensor([0, 0, 0,  ..., 1, 1, 0], dtype=torch.uint8),\n",
              " tensor([0, 0, 0,  ..., 1, 1, 0], dtype=torch.uint8),\n",
              " tensor([0, 0, 0,  ..., 1, 1, 0], dtype=torch.uint8),\n",
              " tensor([0, 0, 0,  ..., 1, 1, 0], dtype=torch.uint8),\n",
              " tensor([0, 0, 0,  ..., 1, 1, 0], dtype=torch.uint8),\n",
              " tensor([0, 0, 0,  ..., 1, 1, 0], dtype=torch.uint8),\n",
              " tensor([0, 0, 0,  ..., 1, 1, 0], dtype=torch.uint8),\n",
              " tensor([0, 0, 0,  ..., 1, 1, 0], dtype=torch.uint8),\n",
              " tensor([0, 0, 0,  ..., 1, 1, 0], dtype=torch.uint8),\n",
              " tensor([0, 0, 0,  ..., 1, 1, 0], dtype=torch.uint8),\n",
              " tensor([0, 0, 0,  ..., 1, 1, 0], dtype=torch.uint8),\n",
              " tensor([0, 0, 0,  ..., 1, 1, 0], dtype=torch.uint8),\n",
              " tensor([0, 0, 0,  ..., 1, 1, 0], dtype=torch.uint8),\n",
              " tensor([0, 0, 0,  ..., 1, 1, 0], dtype=torch.uint8),\n",
              " tensor([0, 0, 0,  ..., 1, 1, 0], dtype=torch.uint8),\n",
              " tensor([0, 0, 0,  ..., 1, 1, 0], dtype=torch.uint8),\n",
              " tensor([0, 0, 0,  ..., 1, 1, 0], dtype=torch.uint8),\n",
              " tensor([0, 0, 0,  ..., 1, 1, 0], dtype=torch.uint8),\n",
              " tensor([0, 0, 0,  ..., 1, 1, 0], dtype=torch.uint8),\n",
              " tensor([0, 0, 0,  ..., 1, 1, 0], dtype=torch.uint8),\n",
              " tensor([0, 0, 0,  ..., 1, 1, 0], dtype=torch.uint8),\n",
              " tensor([0, 0, 0,  ..., 1, 1, 0], dtype=torch.uint8),\n",
              " tensor([0, 0, 0,  ..., 1, 1, 0], dtype=torch.uint8),\n",
              " tensor([0, 0, 0,  ..., 1, 1, 0], dtype=torch.uint8),\n",
              " tensor([0, 0, 0,  ..., 1, 1, 0], dtype=torch.uint8),\n",
              " tensor([0, 0, 0,  ..., 1, 1, 0], dtype=torch.uint8),\n",
              " tensor([0, 0, 0,  ..., 1, 1, 0], dtype=torch.uint8),\n",
              " tensor([0, 0, 0,  ..., 1, 1, 0], dtype=torch.uint8),\n",
              " tensor([0, 0, 0,  ..., 1, 1, 0], dtype=torch.uint8),\n",
              " tensor([0, 0, 0,  ..., 1, 1, 0], dtype=torch.uint8),\n",
              " tensor([0, 0, 0,  ..., 1, 1, 0], dtype=torch.uint8),\n",
              " tensor([0, 0, 0,  ..., 1, 1, 0], dtype=torch.uint8),\n",
              " tensor([0, 0, 0,  ..., 1, 1, 0], dtype=torch.uint8),\n",
              " tensor([0, 0, 0,  ..., 1, 1, 0], dtype=torch.uint8),\n",
              " tensor([0, 0, 0,  ..., 1, 1, 0], dtype=torch.uint8),\n",
              " tensor([0, 0, 0,  ..., 1, 1, 0], dtype=torch.uint8),\n",
              " tensor([0, 0, 0,  ..., 1, 1, 0], dtype=torch.uint8),\n",
              " tensor([0, 0, 0,  ..., 1, 1, 0], dtype=torch.uint8),\n",
              " tensor([0, 0, 0,  ..., 1, 1, 0], dtype=torch.uint8),\n",
              " tensor([0, 0, 0,  ..., 1, 1, 0], dtype=torch.uint8),\n",
              " tensor([0, 0, 0,  ..., 1, 1, 0], dtype=torch.uint8),\n",
              " tensor([0, 0, 0,  ..., 1, 1, 0], dtype=torch.uint8),\n",
              " tensor([0, 0, 0,  ..., 1, 1, 0], dtype=torch.uint8),\n",
              " tensor([0, 0, 0,  ..., 1, 1, 0], dtype=torch.uint8),\n",
              " tensor([0, 0, 0,  ..., 1, 1, 0], dtype=torch.uint8),\n",
              " tensor([0, 0, 0,  ..., 1, 1, 0], dtype=torch.uint8),\n",
              " tensor([0, 0, 0,  ..., 1, 1, 0], dtype=torch.uint8),\n",
              " tensor([0, 0, 0,  ..., 1, 1, 0], dtype=torch.uint8),\n",
              " tensor([0, 0, 0,  ..., 1, 1, 0], dtype=torch.uint8),\n",
              " tensor([0, 0, 0,  ..., 1, 1, 0], dtype=torch.uint8),\n",
              " tensor([0, 0, 0,  ..., 1, 1, 0], dtype=torch.uint8),\n",
              " tensor([0, 0, 0,  ..., 1, 1, 0], dtype=torch.uint8),\n",
              " tensor([0, 0, 0,  ..., 1, 1, 0], dtype=torch.uint8),\n",
              " tensor([0, 0, 0,  ..., 1, 1, 0], dtype=torch.uint8),\n",
              " ...]"
            ]
          },
          "metadata": {
            "tags": []
          },
          "execution_count": 16
        }
      ]
    },
    {
      "cell_type": "code",
      "metadata": {
        "id": "W_GerKdZyFVL",
        "colab_type": "code",
        "colab": {}
      },
      "source": [
        "def create_db_and_parallels(num_entries):\n",
        "  db = torch.rand(num_entries) > 0.5\n",
        "  pdbs = get_parallel_dbs(db)\n",
        "  \n",
        "  return db,pdbs\n",
        "  "
      ],
      "execution_count": 0,
      "outputs": []
    },
    {
      "cell_type": "code",
      "metadata": {
        "id": "BPHxNCz3yFlN",
        "colab_type": "code",
        "colab": {}
      },
      "source": [
        "db,pdbs = create_db_and_parallels(20)"
      ],
      "execution_count": 0,
      "outputs": []
    },
    {
      "cell_type": "code",
      "metadata": {
        "id": "Pnx8SqKZ0Zgs",
        "colab_type": "code",
        "colab": {
          "base_uri": "https://localhost:8080/",
          "height": 52
        },
        "outputId": "0930622b-038f-4a45-8d68-de742e2fc0c5"
      },
      "source": [
        "db"
      ],
      "execution_count": 19,
      "outputs": [
        {
          "output_type": "execute_result",
          "data": {
            "text/plain": [
              "tensor([0, 0, 0, 1, 1, 0, 0, 0, 0, 1, 0, 1, 0, 1, 1, 1, 1, 0, 1, 1],\n",
              "       dtype=torch.uint8)"
            ]
          },
          "metadata": {
            "tags": []
          },
          "execution_count": 19
        }
      ]
    },
    {
      "cell_type": "code",
      "metadata": {
        "id": "wUgP6QAQ5lea",
        "colab_type": "code",
        "colab": {
          "base_uri": "https://localhost:8080/",
          "height": 711
        },
        "outputId": "aee82ab5-402f-4861-a848-b1aab90c7ed4"
      },
      "source": [
        "pdbs"
      ],
      "execution_count": 20,
      "outputs": [
        {
          "output_type": "execute_result",
          "data": {
            "text/plain": [
              "[tensor([0, 0, 1, 1, 0, 0, 0, 0, 1, 0, 1, 0, 1, 1, 1, 1, 0, 1, 1],\n",
              "        dtype=torch.uint8),\n",
              " tensor([0, 0, 1, 1, 0, 0, 0, 0, 1, 0, 1, 0, 1, 1, 1, 1, 0, 1, 1],\n",
              "        dtype=torch.uint8),\n",
              " tensor([0, 0, 1, 1, 0, 0, 0, 0, 1, 0, 1, 0, 1, 1, 1, 1, 0, 1, 1],\n",
              "        dtype=torch.uint8),\n",
              " tensor([0, 0, 0, 1, 0, 0, 0, 0, 1, 0, 1, 0, 1, 1, 1, 1, 0, 1, 1],\n",
              "        dtype=torch.uint8),\n",
              " tensor([0, 0, 0, 1, 0, 0, 0, 0, 1, 0, 1, 0, 1, 1, 1, 1, 0, 1, 1],\n",
              "        dtype=torch.uint8),\n",
              " tensor([0, 0, 0, 1, 1, 0, 0, 0, 1, 0, 1, 0, 1, 1, 1, 1, 0, 1, 1],\n",
              "        dtype=torch.uint8),\n",
              " tensor([0, 0, 0, 1, 1, 0, 0, 0, 1, 0, 1, 0, 1, 1, 1, 1, 0, 1, 1],\n",
              "        dtype=torch.uint8),\n",
              " tensor([0, 0, 0, 1, 1, 0, 0, 0, 1, 0, 1, 0, 1, 1, 1, 1, 0, 1, 1],\n",
              "        dtype=torch.uint8),\n",
              " tensor([0, 0, 0, 1, 1, 0, 0, 0, 1, 0, 1, 0, 1, 1, 1, 1, 0, 1, 1],\n",
              "        dtype=torch.uint8),\n",
              " tensor([0, 0, 0, 1, 1, 0, 0, 0, 0, 0, 1, 0, 1, 1, 1, 1, 0, 1, 1],\n",
              "        dtype=torch.uint8),\n",
              " tensor([0, 0, 0, 1, 1, 0, 0, 0, 0, 1, 1, 0, 1, 1, 1, 1, 0, 1, 1],\n",
              "        dtype=torch.uint8),\n",
              " tensor([0, 0, 0, 1, 1, 0, 0, 0, 0, 1, 0, 0, 1, 1, 1, 1, 0, 1, 1],\n",
              "        dtype=torch.uint8),\n",
              " tensor([0, 0, 0, 1, 1, 0, 0, 0, 0, 1, 0, 1, 1, 1, 1, 1, 0, 1, 1],\n",
              "        dtype=torch.uint8),\n",
              " tensor([0, 0, 0, 1, 1, 0, 0, 0, 0, 1, 0, 1, 0, 1, 1, 1, 0, 1, 1],\n",
              "        dtype=torch.uint8),\n",
              " tensor([0, 0, 0, 1, 1, 0, 0, 0, 0, 1, 0, 1, 0, 1, 1, 1, 0, 1, 1],\n",
              "        dtype=torch.uint8),\n",
              " tensor([0, 0, 0, 1, 1, 0, 0, 0, 0, 1, 0, 1, 0, 1, 1, 1, 0, 1, 1],\n",
              "        dtype=torch.uint8),\n",
              " tensor([0, 0, 0, 1, 1, 0, 0, 0, 0, 1, 0, 1, 0, 1, 1, 1, 0, 1, 1],\n",
              "        dtype=torch.uint8),\n",
              " tensor([0, 0, 0, 1, 1, 0, 0, 0, 0, 1, 0, 1, 0, 1, 1, 1, 1, 1, 1],\n",
              "        dtype=torch.uint8),\n",
              " tensor([0, 0, 0, 1, 1, 0, 0, 0, 0, 1, 0, 1, 0, 1, 1, 1, 1, 0, 1],\n",
              "        dtype=torch.uint8),\n",
              " tensor([0, 0, 0, 1, 1, 0, 0, 0, 0, 1, 0, 1, 0, 1, 1, 1, 1, 0, 1],\n",
              "        dtype=torch.uint8)]"
            ]
          },
          "metadata": {
            "tags": []
          },
          "execution_count": 20
        }
      ]
    },
    {
      "cell_type": "code",
      "metadata": {
        "id": "ECHqYTYB1D0S",
        "colab_type": "code",
        "colab": {}
      },
      "source": [
        "def query(db):\n",
        "  return db.sum()"
      ],
      "execution_count": 0,
      "outputs": []
    },
    {
      "cell_type": "code",
      "metadata": {
        "id": "7hzBay8H36NZ",
        "colab_type": "code",
        "colab": {}
      },
      "source": [
        "full_db_result = query(db)"
      ],
      "execution_count": 0,
      "outputs": []
    },
    {
      "cell_type": "code",
      "metadata": {
        "id": "_EIfcmGa4kw0",
        "colab_type": "code",
        "colab": {}
      },
      "source": [
        "sensitivity = 0\n",
        "for pdb in pdbs:\n",
        "  pdb_result = query(pdb)\n",
        "  \n",
        "  db_distance = torch.abs(pdb_result - full_db_result)\n",
        "  \n",
        "  if db_distance > sensitivity:\n",
        "    sensitivity = db_distance\n",
        "  \n",
        "  "
      ],
      "execution_count": 0,
      "outputs": []
    },
    {
      "cell_type": "code",
      "metadata": {
        "id": "qMrP3ZuW36dm",
        "colab_type": "code",
        "colab": {
          "base_uri": "https://localhost:8080/",
          "height": 35
        },
        "outputId": "52accad0-dbaf-4079-d6db-68f71e5486b9"
      },
      "source": [
        "sensitivity"
      ],
      "execution_count": 24,
      "outputs": [
        {
          "output_type": "execute_result",
          "data": {
            "text/plain": [
              "tensor(1)"
            ]
          },
          "metadata": {
            "tags": []
          },
          "execution_count": 24
        }
      ]
    },
    {
      "cell_type": "code",
      "metadata": {
        "id": "aiko9dRu5ut8",
        "colab_type": "code",
        "colab": {}
      },
      "source": [
        "def sensitivity (query,n_entries=1000):\n",
        "  db,pdbs = create_db_and_parallels(n_entries)\n",
        "  \n",
        "  full_db_result = query(db)\n",
        "  \n",
        "  max_distance = 0\n",
        "  for pdb in pdbs:\n",
        "    pdb_result = query(pdb)\n",
        "    db_distance = torch.abs(pdb_result - full_db_result)\n",
        "    if db_distance > max_distance:\n",
        "      max_distance = db_distance\n",
        "  return max_distance"
      ],
      "execution_count": 0,
      "outputs": []
    },
    {
      "cell_type": "code",
      "metadata": {
        "id": "wb1RNbdrink8",
        "colab_type": "code",
        "colab": {}
      },
      "source": [
        "def query(db):\n",
        "  return db.float().mean()"
      ],
      "execution_count": 0,
      "outputs": []
    },
    {
      "cell_type": "code",
      "metadata": {
        "id": "YOW6OBZJiyA5",
        "colab_type": "code",
        "colab": {
          "base_uri": "https://localhost:8080/",
          "height": 35
        },
        "outputId": "18ef7d7b-20f5-4ec8-d14e-04cf67af60af"
      },
      "source": [
        "sensitivity(query)"
      ],
      "execution_count": 29,
      "outputs": [
        {
          "output_type": "execute_result",
          "data": {
            "text/plain": [
              "tensor(0.0005)"
            ]
          },
          "metadata": {
            "tags": []
          },
          "execution_count": 29
        }
      ]
    },
    {
      "cell_type": "code",
      "metadata": {
        "id": "lLhIUjymjN-V",
        "colab_type": "code",
        "colab": {}
      },
      "source": [
        "def query(db,threshold=5):\n",
        "  return (db.sum()>threshold).float()"
      ],
      "execution_count": 0,
      "outputs": []
    },
    {
      "cell_type": "code",
      "metadata": {
        "id": "tSmvZf3DpVQo",
        "colab_type": "code",
        "colab": {
          "base_uri": "https://localhost:8080/",
          "height": 191
        },
        "outputId": "7cecb492-f805-4c77-d351-e894157c37c4"
      },
      "source": [
        "for i in range(10):\n",
        "  sens_f = sensitivity(query,n_entries = 10)\n",
        "  print(sens_f)"
      ],
      "execution_count": 42,
      "outputs": [
        {
          "output_type": "stream",
          "text": [
            "tensor(1.)\n",
            "0\n",
            "0\n",
            "0\n",
            "0\n",
            "0\n",
            "tensor(1.)\n",
            "0\n",
            "tensor(1.)\n",
            "tensor(1.)\n"
          ],
          "name": "stdout"
        }
      ]
    },
    {
      "cell_type": "code",
      "metadata": {
        "id": "DGcsdn1NjcTi",
        "colab_type": "code",
        "colab": {}
      },
      "source": [
        "db,_ = create_db_and_parallels(100)\n"
      ],
      "execution_count": 0,
      "outputs": []
    },
    {
      "cell_type": "code",
      "metadata": {
        "id": "NgVYrHc5qdVG",
        "colab_type": "code",
        "colab": {}
      },
      "source": [
        "pdb = get_parallel_db(db,remove_index=10)"
      ],
      "execution_count": 0,
      "outputs": []
    },
    {
      "cell_type": "code",
      "metadata": {
        "id": "wg9n7o60qeLq",
        "colab_type": "code",
        "colab": {
          "base_uri": "https://localhost:8080/",
          "height": 35
        },
        "outputId": "94296132-e2fa-4d4a-8e25-ddd3a693c932"
      },
      "source": [
        "db[10]"
      ],
      "execution_count": 46,
      "outputs": [
        {
          "output_type": "execute_result",
          "data": {
            "text/plain": [
              "tensor(0, dtype=torch.uint8)"
            ]
          },
          "metadata": {
            "tags": []
          },
          "execution_count": 46
        }
      ]
    },
    {
      "cell_type": "code",
      "metadata": {
        "id": "2lTYM3cvu2J3",
        "colab_type": "code",
        "colab": {
          "base_uri": "https://localhost:8080/",
          "height": 35
        },
        "outputId": "fec29659-0fcd-4b25-9116-349aa8293e83"
      },
      "source": [
        "sum(db)"
      ],
      "execution_count": 50,
      "outputs": [
        {
          "output_type": "execute_result",
          "data": {
            "text/plain": [
              "tensor(51, dtype=torch.uint8)"
            ]
          },
          "metadata": {
            "tags": []
          },
          "execution_count": 50
        }
      ]
    },
    {
      "cell_type": "code",
      "metadata": {
        "id": "s_iMI5NBtUDi",
        "colab_type": "code",
        "colab": {
          "base_uri": "https://localhost:8080/",
          "height": 35
        },
        "outputId": "cf6ed356-c9a0-4682-e69b-5abd3b876ddb"
      },
      "source": [
        "#differencing attack using sum query\n",
        "sum(db)-sum(pdb)"
      ],
      "execution_count": 47,
      "outputs": [
        {
          "output_type": "execute_result",
          "data": {
            "text/plain": [
              "tensor(0, dtype=torch.uint8)"
            ]
          },
          "metadata": {
            "tags": []
          },
          "execution_count": 47
        }
      ]
    },
    {
      "cell_type": "code",
      "metadata": {
        "id": "vnYNIjkft48F",
        "colab_type": "code",
        "colab": {
          "base_uri": "https://localhost:8080/",
          "height": 35
        },
        "outputId": "8161e61b-694c-4240-874c-28ec92a15270"
      },
      "source": [
        "#differencing attack using mean query\n",
        "\n",
        "(sum(db).float()/len(db)) - (sum(pdb).float()/len(pdb))"
      ],
      "execution_count": 49,
      "outputs": [
        {
          "output_type": "execute_result",
          "data": {
            "text/plain": [
              "tensor(-0.0052)"
            ]
          },
          "metadata": {
            "tags": []
          },
          "execution_count": 49
        }
      ]
    },
    {
      "cell_type": "code",
      "metadata": {
        "id": "jExU4otCt5Gk",
        "colab_type": "code",
        "colab": {
          "base_uri": "https://localhost:8080/",
          "height": 35
        },
        "outputId": "0a91e7f5-6d24-4dca-e4cd-b422114e3cc2"
      },
      "source": [
        "#differencing attack using threshold query\n",
        "\n",
        "(sum(db).float()>50) - (sum(pdb).float()>50)"
      ],
      "execution_count": 51,
      "outputs": [
        {
          "output_type": "execute_result",
          "data": {
            "text/plain": [
              "tensor(0, dtype=torch.uint8)"
            ]
          },
          "metadata": {
            "tags": []
          },
          "execution_count": 51
        }
      ]
    },
    {
      "cell_type": "code",
      "metadata": {
        "id": "gU2GjYeFt5fE",
        "colab_type": "code",
        "colab": {}
      },
      "source": [
        ""
      ],
      "execution_count": 0,
      "outputs": []
    }
  ]
}